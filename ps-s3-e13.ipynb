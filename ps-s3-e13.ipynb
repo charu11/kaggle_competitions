{
 "cells": [
  {
   "cell_type": "code",
   "execution_count": 1,
   "id": "2cded5d9",
   "metadata": {
    "_cell_guid": "b1076dfc-b9ad-4769-8c92-a6c4dae69d19",
    "_uuid": "8f2839f25d086af736a60e9eeb907d3b93b6e0e5",
    "execution": {
     "iopub.execute_input": "2023-04-20T05:59:23.637145Z",
     "iopub.status.busy": "2023-04-20T05:59:23.636114Z",
     "iopub.status.idle": "2023-04-20T05:59:25.569124Z",
     "shell.execute_reply": "2023-04-20T05:59:25.567546Z"
    },
    "papermill": {
     "duration": 1.946338,
     "end_time": "2023-04-20T05:59:25.572736",
     "exception": false,
     "start_time": "2023-04-20T05:59:23.626398",
     "status": "completed"
    },
    "tags": []
   },
   "outputs": [
    {
     "name": "stdout",
     "output_type": "stream",
     "text": [
      "/kaggle/input/playground-series-s3e13/sample_submission.csv\n",
      "/kaggle/input/playground-series-s3e13/train.csv\n",
      "/kaggle/input/playground-series-s3e13/test.csv\n"
     ]
    }
   ],
   "source": [
    "# This Python 3 environment comes with many helpful analytics libraries installed\n",
    "# It is defined by the kaggle/python Docker image: https://github.com/kaggle/docker-python\n",
    "# For example, here's several helpful packages to load\n",
    "\n",
    "import numpy as np # linear algebra\n",
    "import pandas as pd # data processing, CSV file I/O (e.g. pd.read_csv)\n",
    "import matplotlib.pyplot as plt\n",
    "import seaborn\n",
    "from itertools import product\n",
    "from plotly.offline import init_notebook_mode, iplot\n",
    "from sklearn.preprocessing import OrdinalEncoder\n",
    "from sklearn.model_selection import KFold, StratifiedKFold, train_test_split, GridSearchCV\n",
    "from sklearn.linear_model import LogisticRegression\n",
    "from xgboost import XGBClassifier\n",
    "from sklearn.model_selection import train_test_split\n",
    "from sklearn.preprocessing import StandardScaler\n",
    "from sklearn.decomposition import PCA\n",
    "from sklearn.pipeline import Pipeline\n",
    "from sklearn.ensemble import RandomForestClassifier\n",
    "from sklearn.metrics import accuracy_score\n",
    "\n",
    "\n",
    "# Input data files are available in the read-only \"../input/\" directory\n",
    "# For example, running this (by clicking run or pressing Shift+Enter) will list all files under the input directory\n",
    "\n",
    "import os\n",
    "for dirname, _, filenames in os.walk('/kaggle/input'):\n",
    "    for filename in filenames:\n",
    "        print(os.path.join(dirname, filename))\n",
    "\n",
    "# You can write up to 20GB to the current directory (/kaggle/working/) that gets preserved as output when you create a version using \"Save & Run All\" \n",
    "# You can also write temporary files to /kaggle/temp/, but they won't be saved outside of the current session"
   ]
  },
  {
   "cell_type": "markdown",
   "id": "d6dd6916",
   "metadata": {
    "papermill": {
     "duration": 0.006095,
     "end_time": "2023-04-20T05:59:25.585511",
     "exception": false,
     "start_time": "2023-04-20T05:59:25.579416",
     "status": "completed"
    },
    "tags": []
   },
   "source": [
    "## Import the data"
   ]
  },
  {
   "cell_type": "markdown",
   "id": "a355cea3",
   "metadata": {
    "papermill": {
     "duration": 0.005986,
     "end_time": "2023-04-20T05:59:25.597698",
     "exception": false,
     "start_time": "2023-04-20T05:59:25.591712",
     "status": "completed"
    },
    "tags": []
   },
   "source": [
    "### Train data"
   ]
  },
  {
   "cell_type": "code",
   "execution_count": 2,
   "id": "da78ab28",
   "metadata": {
    "execution": {
     "iopub.execute_input": "2023-04-20T05:59:25.613134Z",
     "iopub.status.busy": "2023-04-20T05:59:25.612154Z",
     "iopub.status.idle": "2023-04-20T05:59:25.683504Z",
     "shell.execute_reply": "2023-04-20T05:59:25.682124Z"
    },
    "papermill": {
     "duration": 0.081919,
     "end_time": "2023-04-20T05:59:25.686057",
     "exception": false,
     "start_time": "2023-04-20T05:59:25.604138",
     "status": "completed"
    },
    "tags": []
   },
   "outputs": [
    {
     "data": {
      "text/html": [
       "<div>\n",
       "<style scoped>\n",
       "    .dataframe tbody tr th:only-of-type {\n",
       "        vertical-align: middle;\n",
       "    }\n",
       "\n",
       "    .dataframe tbody tr th {\n",
       "        vertical-align: top;\n",
       "    }\n",
       "\n",
       "    .dataframe thead th {\n",
       "        text-align: right;\n",
       "    }\n",
       "</style>\n",
       "<table border=\"1\" class=\"dataframe\">\n",
       "  <thead>\n",
       "    <tr style=\"text-align: right;\">\n",
       "      <th></th>\n",
       "      <th>id</th>\n",
       "      <th>sudden_fever</th>\n",
       "      <th>headache</th>\n",
       "      <th>mouth_bleed</th>\n",
       "      <th>nose_bleed</th>\n",
       "      <th>muscle_pain</th>\n",
       "      <th>joint_pain</th>\n",
       "      <th>vomiting</th>\n",
       "      <th>rash</th>\n",
       "      <th>diarrhea</th>\n",
       "      <th>...</th>\n",
       "      <th>breathing_restriction</th>\n",
       "      <th>toe_inflammation</th>\n",
       "      <th>finger_inflammation</th>\n",
       "      <th>lips_irritation</th>\n",
       "      <th>itchiness</th>\n",
       "      <th>ulcers</th>\n",
       "      <th>toenail_loss</th>\n",
       "      <th>speech_problem</th>\n",
       "      <th>bullseye_rash</th>\n",
       "      <th>prognosis</th>\n",
       "    </tr>\n",
       "  </thead>\n",
       "  <tbody>\n",
       "    <tr>\n",
       "      <th>0</th>\n",
       "      <td>0</td>\n",
       "      <td>1.0</td>\n",
       "      <td>1.0</td>\n",
       "      <td>0.0</td>\n",
       "      <td>1.0</td>\n",
       "      <td>1.0</td>\n",
       "      <td>1.0</td>\n",
       "      <td>1.0</td>\n",
       "      <td>0.0</td>\n",
       "      <td>1.0</td>\n",
       "      <td>...</td>\n",
       "      <td>0.0</td>\n",
       "      <td>0.0</td>\n",
       "      <td>0.0</td>\n",
       "      <td>0.0</td>\n",
       "      <td>0.0</td>\n",
       "      <td>0.0</td>\n",
       "      <td>0.0</td>\n",
       "      <td>0.0</td>\n",
       "      <td>0.0</td>\n",
       "      <td>Lyme_disease</td>\n",
       "    </tr>\n",
       "    <tr>\n",
       "      <th>1</th>\n",
       "      <td>1</td>\n",
       "      <td>0.0</td>\n",
       "      <td>0.0</td>\n",
       "      <td>0.0</td>\n",
       "      <td>0.0</td>\n",
       "      <td>0.0</td>\n",
       "      <td>0.0</td>\n",
       "      <td>1.0</td>\n",
       "      <td>0.0</td>\n",
       "      <td>1.0</td>\n",
       "      <td>...</td>\n",
       "      <td>0.0</td>\n",
       "      <td>0.0</td>\n",
       "      <td>0.0</td>\n",
       "      <td>0.0</td>\n",
       "      <td>0.0</td>\n",
       "      <td>0.0</td>\n",
       "      <td>0.0</td>\n",
       "      <td>0.0</td>\n",
       "      <td>0.0</td>\n",
       "      <td>Tungiasis</td>\n",
       "    </tr>\n",
       "    <tr>\n",
       "      <th>2</th>\n",
       "      <td>2</td>\n",
       "      <td>0.0</td>\n",
       "      <td>1.0</td>\n",
       "      <td>1.0</td>\n",
       "      <td>1.0</td>\n",
       "      <td>0.0</td>\n",
       "      <td>1.0</td>\n",
       "      <td>1.0</td>\n",
       "      <td>1.0</td>\n",
       "      <td>1.0</td>\n",
       "      <td>...</td>\n",
       "      <td>1.0</td>\n",
       "      <td>1.0</td>\n",
       "      <td>1.0</td>\n",
       "      <td>1.0</td>\n",
       "      <td>1.0</td>\n",
       "      <td>0.0</td>\n",
       "      <td>1.0</td>\n",
       "      <td>1.0</td>\n",
       "      <td>1.0</td>\n",
       "      <td>Lyme_disease</td>\n",
       "    </tr>\n",
       "    <tr>\n",
       "      <th>3</th>\n",
       "      <td>3</td>\n",
       "      <td>0.0</td>\n",
       "      <td>0.0</td>\n",
       "      <td>1.0</td>\n",
       "      <td>1.0</td>\n",
       "      <td>1.0</td>\n",
       "      <td>1.0</td>\n",
       "      <td>0.0</td>\n",
       "      <td>1.0</td>\n",
       "      <td>0.0</td>\n",
       "      <td>...</td>\n",
       "      <td>0.0</td>\n",
       "      <td>0.0</td>\n",
       "      <td>0.0</td>\n",
       "      <td>0.0</td>\n",
       "      <td>0.0</td>\n",
       "      <td>0.0</td>\n",
       "      <td>0.0</td>\n",
       "      <td>0.0</td>\n",
       "      <td>0.0</td>\n",
       "      <td>Zika</td>\n",
       "    </tr>\n",
       "    <tr>\n",
       "      <th>4</th>\n",
       "      <td>4</td>\n",
       "      <td>0.0</td>\n",
       "      <td>0.0</td>\n",
       "      <td>0.0</td>\n",
       "      <td>0.0</td>\n",
       "      <td>0.0</td>\n",
       "      <td>0.0</td>\n",
       "      <td>0.0</td>\n",
       "      <td>0.0</td>\n",
       "      <td>1.0</td>\n",
       "      <td>...</td>\n",
       "      <td>0.0</td>\n",
       "      <td>1.0</td>\n",
       "      <td>0.0</td>\n",
       "      <td>0.0</td>\n",
       "      <td>1.0</td>\n",
       "      <td>1.0</td>\n",
       "      <td>1.0</td>\n",
       "      <td>0.0</td>\n",
       "      <td>0.0</td>\n",
       "      <td>Rift_Valley_fever</td>\n",
       "    </tr>\n",
       "  </tbody>\n",
       "</table>\n",
       "<p>5 rows × 66 columns</p>\n",
       "</div>"
      ],
      "text/plain": [
       "   id  sudden_fever  headache  mouth_bleed  nose_bleed  muscle_pain  \\\n",
       "0   0           1.0       1.0          0.0         1.0          1.0   \n",
       "1   1           0.0       0.0          0.0         0.0          0.0   \n",
       "2   2           0.0       1.0          1.0         1.0          0.0   \n",
       "3   3           0.0       0.0          1.0         1.0          1.0   \n",
       "4   4           0.0       0.0          0.0         0.0          0.0   \n",
       "\n",
       "   joint_pain  vomiting  rash  diarrhea  ...  breathing_restriction  \\\n",
       "0         1.0       1.0   0.0       1.0  ...                    0.0   \n",
       "1         0.0       1.0   0.0       1.0  ...                    0.0   \n",
       "2         1.0       1.0   1.0       1.0  ...                    1.0   \n",
       "3         1.0       0.0   1.0       0.0  ...                    0.0   \n",
       "4         0.0       0.0   0.0       1.0  ...                    0.0   \n",
       "\n",
       "   toe_inflammation  finger_inflammation  lips_irritation  itchiness  ulcers  \\\n",
       "0               0.0                  0.0              0.0        0.0     0.0   \n",
       "1               0.0                  0.0              0.0        0.0     0.0   \n",
       "2               1.0                  1.0              1.0        1.0     0.0   \n",
       "3               0.0                  0.0              0.0        0.0     0.0   \n",
       "4               1.0                  0.0              0.0        1.0     1.0   \n",
       "\n",
       "   toenail_loss  speech_problem  bullseye_rash          prognosis  \n",
       "0           0.0             0.0            0.0       Lyme_disease  \n",
       "1           0.0             0.0            0.0          Tungiasis  \n",
       "2           1.0             1.0            1.0       Lyme_disease  \n",
       "3           0.0             0.0            0.0               Zika  \n",
       "4           1.0             0.0            0.0  Rift_Valley_fever  \n",
       "\n",
       "[5 rows x 66 columns]"
      ]
     },
     "execution_count": 2,
     "metadata": {},
     "output_type": "execute_result"
    }
   ],
   "source": [
    "train_df = pd.read_csv('/kaggle/input/playground-series-s3e13/train.csv')\n",
    "train_df.head()"
   ]
  },
  {
   "cell_type": "code",
   "execution_count": 3,
   "id": "11284ef1",
   "metadata": {
    "execution": {
     "iopub.execute_input": "2023-04-20T05:59:25.701096Z",
     "iopub.status.busy": "2023-04-20T05:59:25.700371Z",
     "iopub.status.idle": "2023-04-20T05:59:25.708413Z",
     "shell.execute_reply": "2023-04-20T05:59:25.706992Z"
    },
    "papermill": {
     "duration": 0.018712,
     "end_time": "2023-04-20T05:59:25.711102",
     "exception": false,
     "start_time": "2023-04-20T05:59:25.692390",
     "status": "completed"
    },
    "tags": []
   },
   "outputs": [
    {
     "data": {
      "text/plain": [
       "(707, 66)"
      ]
     },
     "execution_count": 3,
     "metadata": {},
     "output_type": "execute_result"
    }
   ],
   "source": [
    "train_df.shape"
   ]
  },
  {
   "cell_type": "markdown",
   "id": "36d6d1c6",
   "metadata": {
    "papermill": {
     "duration": 0.006254,
     "end_time": "2023-04-20T05:59:25.723756",
     "exception": false,
     "start_time": "2023-04-20T05:59:25.717502",
     "status": "completed"
    },
    "tags": []
   },
   "source": [
    "### Test data"
   ]
  },
  {
   "cell_type": "code",
   "execution_count": 4,
   "id": "1f0549ee",
   "metadata": {
    "execution": {
     "iopub.execute_input": "2023-04-20T05:59:25.738839Z",
     "iopub.status.busy": "2023-04-20T05:59:25.738413Z",
     "iopub.status.idle": "2023-04-20T05:59:25.779399Z",
     "shell.execute_reply": "2023-04-20T05:59:25.778435Z"
    },
    "papermill": {
     "duration": 0.051424,
     "end_time": "2023-04-20T05:59:25.781724",
     "exception": false,
     "start_time": "2023-04-20T05:59:25.730300",
     "status": "completed"
    },
    "tags": []
   },
   "outputs": [
    {
     "data": {
      "text/html": [
       "<div>\n",
       "<style scoped>\n",
       "    .dataframe tbody tr th:only-of-type {\n",
       "        vertical-align: middle;\n",
       "    }\n",
       "\n",
       "    .dataframe tbody tr th {\n",
       "        vertical-align: top;\n",
       "    }\n",
       "\n",
       "    .dataframe thead th {\n",
       "        text-align: right;\n",
       "    }\n",
       "</style>\n",
       "<table border=\"1\" class=\"dataframe\">\n",
       "  <thead>\n",
       "    <tr style=\"text-align: right;\">\n",
       "      <th></th>\n",
       "      <th>id</th>\n",
       "      <th>sudden_fever</th>\n",
       "      <th>headache</th>\n",
       "      <th>mouth_bleed</th>\n",
       "      <th>nose_bleed</th>\n",
       "      <th>muscle_pain</th>\n",
       "      <th>joint_pain</th>\n",
       "      <th>vomiting</th>\n",
       "      <th>rash</th>\n",
       "      <th>diarrhea</th>\n",
       "      <th>...</th>\n",
       "      <th>lymph_swells</th>\n",
       "      <th>breathing_restriction</th>\n",
       "      <th>toe_inflammation</th>\n",
       "      <th>finger_inflammation</th>\n",
       "      <th>lips_irritation</th>\n",
       "      <th>itchiness</th>\n",
       "      <th>ulcers</th>\n",
       "      <th>toenail_loss</th>\n",
       "      <th>speech_problem</th>\n",
       "      <th>bullseye_rash</th>\n",
       "    </tr>\n",
       "  </thead>\n",
       "  <tbody>\n",
       "    <tr>\n",
       "      <th>0</th>\n",
       "      <td>707</td>\n",
       "      <td>0.0</td>\n",
       "      <td>0.0</td>\n",
       "      <td>0.0</td>\n",
       "      <td>0.0</td>\n",
       "      <td>0.0</td>\n",
       "      <td>0.0</td>\n",
       "      <td>0.0</td>\n",
       "      <td>0.0</td>\n",
       "      <td>0.0</td>\n",
       "      <td>...</td>\n",
       "      <td>0.0</td>\n",
       "      <td>0.0</td>\n",
       "      <td>0.0</td>\n",
       "      <td>0.0</td>\n",
       "      <td>0.0</td>\n",
       "      <td>0.0</td>\n",
       "      <td>0.0</td>\n",
       "      <td>0.0</td>\n",
       "      <td>0.0</td>\n",
       "      <td>0.0</td>\n",
       "    </tr>\n",
       "    <tr>\n",
       "      <th>1</th>\n",
       "      <td>708</td>\n",
       "      <td>1.0</td>\n",
       "      <td>1.0</td>\n",
       "      <td>0.0</td>\n",
       "      <td>1.0</td>\n",
       "      <td>0.0</td>\n",
       "      <td>1.0</td>\n",
       "      <td>1.0</td>\n",
       "      <td>1.0</td>\n",
       "      <td>1.0</td>\n",
       "      <td>...</td>\n",
       "      <td>0.0</td>\n",
       "      <td>0.0</td>\n",
       "      <td>0.0</td>\n",
       "      <td>0.0</td>\n",
       "      <td>0.0</td>\n",
       "      <td>0.0</td>\n",
       "      <td>0.0</td>\n",
       "      <td>0.0</td>\n",
       "      <td>0.0</td>\n",
       "      <td>0.0</td>\n",
       "    </tr>\n",
       "    <tr>\n",
       "      <th>2</th>\n",
       "      <td>709</td>\n",
       "      <td>1.0</td>\n",
       "      <td>1.0</td>\n",
       "      <td>0.0</td>\n",
       "      <td>1.0</td>\n",
       "      <td>1.0</td>\n",
       "      <td>1.0</td>\n",
       "      <td>1.0</td>\n",
       "      <td>0.0</td>\n",
       "      <td>1.0</td>\n",
       "      <td>...</td>\n",
       "      <td>0.0</td>\n",
       "      <td>0.0</td>\n",
       "      <td>0.0</td>\n",
       "      <td>0.0</td>\n",
       "      <td>0.0</td>\n",
       "      <td>1.0</td>\n",
       "      <td>0.0</td>\n",
       "      <td>0.0</td>\n",
       "      <td>0.0</td>\n",
       "      <td>0.0</td>\n",
       "    </tr>\n",
       "    <tr>\n",
       "      <th>3</th>\n",
       "      <td>710</td>\n",
       "      <td>0.0</td>\n",
       "      <td>1.0</td>\n",
       "      <td>0.0</td>\n",
       "      <td>0.0</td>\n",
       "      <td>0.0</td>\n",
       "      <td>1.0</td>\n",
       "      <td>1.0</td>\n",
       "      <td>1.0</td>\n",
       "      <td>0.0</td>\n",
       "      <td>...</td>\n",
       "      <td>0.0</td>\n",
       "      <td>0.0</td>\n",
       "      <td>0.0</td>\n",
       "      <td>0.0</td>\n",
       "      <td>0.0</td>\n",
       "      <td>0.0</td>\n",
       "      <td>0.0</td>\n",
       "      <td>0.0</td>\n",
       "      <td>0.0</td>\n",
       "      <td>0.0</td>\n",
       "    </tr>\n",
       "    <tr>\n",
       "      <th>4</th>\n",
       "      <td>711</td>\n",
       "      <td>0.0</td>\n",
       "      <td>0.0</td>\n",
       "      <td>1.0</td>\n",
       "      <td>0.0</td>\n",
       "      <td>1.0</td>\n",
       "      <td>1.0</td>\n",
       "      <td>0.0</td>\n",
       "      <td>0.0</td>\n",
       "      <td>1.0</td>\n",
       "      <td>...</td>\n",
       "      <td>0.0</td>\n",
       "      <td>0.0</td>\n",
       "      <td>0.0</td>\n",
       "      <td>0.0</td>\n",
       "      <td>0.0</td>\n",
       "      <td>0.0</td>\n",
       "      <td>0.0</td>\n",
       "      <td>0.0</td>\n",
       "      <td>0.0</td>\n",
       "      <td>0.0</td>\n",
       "    </tr>\n",
       "  </tbody>\n",
       "</table>\n",
       "<p>5 rows × 65 columns</p>\n",
       "</div>"
      ],
      "text/plain": [
       "    id  sudden_fever  headache  mouth_bleed  nose_bleed  muscle_pain  \\\n",
       "0  707           0.0       0.0          0.0         0.0          0.0   \n",
       "1  708           1.0       1.0          0.0         1.0          0.0   \n",
       "2  709           1.0       1.0          0.0         1.0          1.0   \n",
       "3  710           0.0       1.0          0.0         0.0          0.0   \n",
       "4  711           0.0       0.0          1.0         0.0          1.0   \n",
       "\n",
       "   joint_pain  vomiting  rash  diarrhea  ...  lymph_swells  \\\n",
       "0         0.0       0.0   0.0       0.0  ...           0.0   \n",
       "1         1.0       1.0   1.0       1.0  ...           0.0   \n",
       "2         1.0       1.0   0.0       1.0  ...           0.0   \n",
       "3         1.0       1.0   1.0       0.0  ...           0.0   \n",
       "4         1.0       0.0   0.0       1.0  ...           0.0   \n",
       "\n",
       "   breathing_restriction  toe_inflammation  finger_inflammation  \\\n",
       "0                    0.0               0.0                  0.0   \n",
       "1                    0.0               0.0                  0.0   \n",
       "2                    0.0               0.0                  0.0   \n",
       "3                    0.0               0.0                  0.0   \n",
       "4                    0.0               0.0                  0.0   \n",
       "\n",
       "   lips_irritation  itchiness  ulcers  toenail_loss  speech_problem  \\\n",
       "0              0.0        0.0     0.0           0.0             0.0   \n",
       "1              0.0        0.0     0.0           0.0             0.0   \n",
       "2              0.0        1.0     0.0           0.0             0.0   \n",
       "3              0.0        0.0     0.0           0.0             0.0   \n",
       "4              0.0        0.0     0.0           0.0             0.0   \n",
       "\n",
       "   bullseye_rash  \n",
       "0            0.0  \n",
       "1            0.0  \n",
       "2            0.0  \n",
       "3            0.0  \n",
       "4            0.0  \n",
       "\n",
       "[5 rows x 65 columns]"
      ]
     },
     "execution_count": 4,
     "metadata": {},
     "output_type": "execute_result"
    }
   ],
   "source": [
    "test_df = pd.read_csv('/kaggle/input/playground-series-s3e13/test.csv')\n",
    "test_df.head()"
   ]
  },
  {
   "cell_type": "code",
   "execution_count": 5,
   "id": "37b5d912",
   "metadata": {
    "execution": {
     "iopub.execute_input": "2023-04-20T05:59:25.797975Z",
     "iopub.status.busy": "2023-04-20T05:59:25.796793Z",
     "iopub.status.idle": "2023-04-20T05:59:25.804229Z",
     "shell.execute_reply": "2023-04-20T05:59:25.802554Z"
    },
    "papermill": {
     "duration": 0.018561,
     "end_time": "2023-04-20T05:59:25.807201",
     "exception": false,
     "start_time": "2023-04-20T05:59:25.788640",
     "status": "completed"
    },
    "tags": []
   },
   "outputs": [
    {
     "data": {
      "text/plain": [
       "(303, 65)"
      ]
     },
     "execution_count": 5,
     "metadata": {},
     "output_type": "execute_result"
    }
   ],
   "source": [
    "test_df.shape"
   ]
  },
  {
   "cell_type": "markdown",
   "id": "441e6352",
   "metadata": {
    "papermill": {
     "duration": 0.006565,
     "end_time": "2023-04-20T05:59:25.820729",
     "exception": false,
     "start_time": "2023-04-20T05:59:25.814164",
     "status": "completed"
    },
    "tags": []
   },
   "source": [
    "## Exploratory Data Analysis"
   ]
  },
  {
   "cell_type": "markdown",
   "id": "b5331380",
   "metadata": {
    "papermill": {
     "duration": 0.006534,
     "end_time": "2023-04-20T05:59:25.834245",
     "exception": false,
     "start_time": "2023-04-20T05:59:25.827711",
     "status": "completed"
    },
    "tags": []
   },
   "source": [
    "### Check the labels distribution"
   ]
  },
  {
   "cell_type": "code",
   "execution_count": 6,
   "id": "5eefd540",
   "metadata": {
    "execution": {
     "iopub.execute_input": "2023-04-20T05:59:25.850737Z",
     "iopub.status.busy": "2023-04-20T05:59:25.849712Z",
     "iopub.status.idle": "2023-04-20T05:59:26.121092Z",
     "shell.execute_reply": "2023-04-20T05:59:26.119326Z"
    },
    "papermill": {
     "duration": 0.282633,
     "end_time": "2023-04-20T05:59:26.124000",
     "exception": false,
     "start_time": "2023-04-20T05:59:25.841367",
     "status": "completed"
    },
    "tags": []
   },
   "outputs": [
    {
     "data": {
      "image/png": "[encoded data removed]",
      "text/plain": [
       "<Figure size 640x480 with 1 Axes>"
      ]
     },
     "metadata": {},
     "output_type": "display_data"
    }
   ],
   "source": [
    "# declaring data\n",
    "data = train_df.groupby(by='prognosis')['id'].count()\n",
    "keys = train_df['prognosis'].unique()\n",
    "  \n",
    "# declaring exploding pie\n",
    "explode = np.ones(len(data)) * 0.05\n",
    "# define Seaborn color palette to use\n",
    "palette_color = seaborn.color_palette('pastel')\n",
    "  \n",
    "# plotting data on chart\n",
    "plt.pie(data, labels=keys, colors=palette_color,\n",
    "        explode=explode, autopct='%.0f%%')\n",
    "  \n",
    "# displaying chart\n",
    "plt.show()"
   ]
  },
  {
   "cell_type": "markdown",
   "id": "6eb42e99",
   "metadata": {
    "papermill": {
     "duration": 0.007423,
     "end_time": "2023-04-20T05:59:26.140739",
     "exception": false,
     "start_time": "2023-04-20T05:59:26.133316",
     "status": "completed"
    },
    "tags": []
   },
   "source": [
    "According to the graph we can see that all the label classes are somewhat equally distributed. "
   ]
  },
  {
   "cell_type": "markdown",
   "id": "b149af85",
   "metadata": {
    "papermill": {
     "duration": 0.007354,
     "end_time": "2023-04-20T05:59:26.155920",
     "exception": false,
     "start_time": "2023-04-20T05:59:26.148566",
     "status": "completed"
    },
    "tags": []
   },
   "source": [
    "### Define the MAP@K"
   ]
  },
  {
   "cell_type": "code",
   "execution_count": 7,
   "id": "182d7d2a",
   "metadata": {
    "execution": {
     "iopub.execute_input": "2023-04-20T05:59:26.173513Z",
     "iopub.status.busy": "2023-04-20T05:59:26.173068Z",
     "iopub.status.idle": "2023-04-20T05:59:26.182823Z",
     "shell.execute_reply": "2023-04-20T05:59:26.181589Z"
    },
    "papermill": {
     "duration": 0.021795,
     "end_time": "2023-04-20T05:59:26.185470",
     "exception": false,
     "start_time": "2023-04-20T05:59:26.163675",
     "status": "completed"
    },
    "tags": []
   },
   "outputs": [],
   "source": [
    "def apk(actual, predicted, k=10):\n",
    "    \"\"\"\n",
    "    Computes the average precision at k.\n",
    "    This function computes the average prescision at k between two lists of\n",
    "    items.\n",
    "    Parameters\n",
    "    ----------\n",
    "    actual : list\n",
    "             A list of elements that are to be predicted (order doesn't matter)\n",
    "    predicted : list\n",
    "                A list of predicted elements (order does matter)\n",
    "    k : int, optional\n",
    "        The maximum number of predicted elements\n",
    "    Returns\n",
    "    -------\n",
    "    score : double\n",
    "            The average precision at k over the input lists\n",
    "    \"\"\"\n",
    "    if len(predicted)>k:\n",
    "        predicted = predicted[:k]\n",
    "\n",
    "    score = 0.0\n",
    "    num_hits = 0.0\n",
    "\n",
    "    for i,p in enumerate(predicted):\n",
    "        if p in actual and p not in predicted[:i]:\n",
    "            num_hits += 1.0\n",
    "            score += num_hits / (i+1.0)\n",
    "\n",
    "    if not actual:\n",
    "        return 0.0\n",
    "\n",
    "    return score / min(len(actual), k)\n",
    "\n",
    "def mapk(actual, predicted, k=10):\n",
    "    \"\"\"\n",
    "    Computes the mean average precision at k.\n",
    "    This function computes the mean average prescision at k between two lists\n",
    "    of lists of items.\n",
    "    Parameters\n",
    "    ----------\n",
    "    actual : list\n",
    "             A list of lists of elements that are to be predicted \n",
    "             (order doesn't matter in the lists)\n",
    "    predicted : list\n",
    "                A list of lists of predicted elements\n",
    "                (order matters in the lists)\n",
    "    k : int, optional\n",
    "        The maximum number of predicted elements\n",
    "    Returns\n",
    "    -------\n",
    "    score : double\n",
    "            The mean average precision at k over the input lists\n",
    "    \"\"\"\n",
    "    return np.mean([apk(a,p,k) for a,p in zip(actual, predicted)])\n"
   ]
  },
  {
   "cell_type": "markdown",
   "id": "7a101032",
   "metadata": {
    "papermill": {
     "duration": 0.007474,
     "end_time": "2023-04-20T05:59:26.200779",
     "exception": false,
     "start_time": "2023-04-20T05:59:26.193305",
     "status": "completed"
    },
    "tags": []
   },
   "source": [
    "## Baseline model development"
   ]
  },
  {
   "cell_type": "markdown",
   "id": "bf02f900",
   "metadata": {
    "papermill": {
     "duration": 0.007513,
     "end_time": "2023-04-20T05:59:26.216212",
     "exception": false,
     "start_time": "2023-04-20T05:59:26.208699",
     "status": "completed"
    },
    "tags": []
   },
   "source": [
    "### Encode the labels"
   ]
  },
  {
   "cell_type": "code",
   "execution_count": 8,
   "id": "c5007852",
   "metadata": {
    "execution": {
     "iopub.execute_input": "2023-04-20T05:59:26.234696Z",
     "iopub.status.busy": "2023-04-20T05:59:26.233838Z",
     "iopub.status.idle": "2023-04-20T05:59:26.246399Z",
     "shell.execute_reply": "2023-04-20T05:59:26.245082Z"
    },
    "papermill": {
     "duration": 0.024729,
     "end_time": "2023-04-20T05:59:26.249011",
     "exception": false,
     "start_time": "2023-04-20T05:59:26.224282",
     "status": "completed"
    },
    "tags": []
   },
   "outputs": [
    {
     "data": {
      "text/plain": [
       "0     3.0\n",
       "1     7.0\n",
       "2     3.0\n",
       "3    10.0\n",
       "4     6.0\n",
       "5     3.0\n",
       "6     8.0\n",
       "7     7.0\n",
       "8     4.0\n",
       "9     0.0\n",
       "Name: prognosis, dtype: float64"
      ]
     },
     "execution_count": 8,
     "metadata": {},
     "output_type": "execute_result"
    }
   ],
   "source": [
    "# Encoder our prognosis labels as integers for easier decoding later\n",
    "enc = OrdinalEncoder()\n",
    "train_df['prognosis'] = enc.fit_transform(train_df[['prognosis']])\n",
    "train_df['prognosis'][:10] # Note the values here are now ordinal (floats)"
   ]
  },
  {
   "cell_type": "code",
   "execution_count": 9,
   "id": "a4627722",
   "metadata": {
    "execution": {
     "iopub.execute_input": "2023-04-20T05:59:26.267382Z",
     "iopub.status.busy": "2023-04-20T05:59:26.266882Z",
     "iopub.status.idle": "2023-04-20T05:59:26.273586Z",
     "shell.execute_reply": "2023-04-20T05:59:26.272260Z"
    },
    "papermill": {
     "duration": 0.019099,
     "end_time": "2023-04-20T05:59:26.276105",
     "exception": false,
     "start_time": "2023-04-20T05:59:26.257006",
     "status": "completed"
    },
    "tags": []
   },
   "outputs": [],
   "source": [
    "def top_3(prediction):\n",
    "    sorted_prediction_ids = np.argsort(-prediction, axis=1)\n",
    "    top_3_prediction_ids = sorted_prediction_ids[:, :3]\n",
    "    \n",
    "    top_3_predictions = enc.inverse_transform(top_3_prediction_ids.reshape(-1,1))\n",
    "    top_3_predictions = top_3_predictions.reshape(top_3_prediction_ids.shape)\n",
    "    \n",
    "    return top_3_predictions\n",
    "    "
   ]
  },
  {
   "cell_type": "code",
   "execution_count": 10,
   "id": "701040ff",
   "metadata": {
    "execution": {
     "iopub.execute_input": "2023-04-20T05:59:26.294997Z",
     "iopub.status.busy": "2023-04-20T05:59:26.294116Z",
     "iopub.status.idle": "2023-04-20T05:59:26.301903Z",
     "shell.execute_reply": "2023-04-20T05:59:26.300554Z"
    },
    "papermill": {
     "duration": 0.020546,
     "end_time": "2023-04-20T05:59:26.304993",
     "exception": false,
     "start_time": "2023-04-20T05:59:26.284447",
     "status": "completed"
    },
    "tags": []
   },
   "outputs": [],
   "source": [
    "X = train_df.drop(columns='prognosis', axis=1)\n",
    "y = train_df['prognosis']"
   ]
  },
  {
   "cell_type": "code",
   "execution_count": 11,
   "id": "dcac9939",
   "metadata": {
    "execution": {
     "iopub.execute_input": "2023-04-20T05:59:26.323485Z",
     "iopub.status.busy": "2023-04-20T05:59:26.322644Z",
     "iopub.status.idle": "2023-04-20T06:00:24.101471Z",
     "shell.execute_reply": "2023-04-20T06:00:24.100337Z"
    },
    "papermill": {
     "duration": 57.791067,
     "end_time": "2023-04-20T06:00:24.104157",
     "exception": false,
     "start_time": "2023-04-20T05:59:26.313090",
     "status": "completed"
    },
    "tags": []
   },
   "outputs": [
    {
     "name": "stderr",
     "output_type": "stream",
     "text": [
      "/opt/conda/lib/python3.7/site-packages/ipykernel_launcher.py:26: FutureWarning:\n",
      "\n",
      "elementwise comparison failed; returning scalar instead, but in the future will perform elementwise comparison\n",
      "\n"
     ]
    },
    {
     "name": "stdout",
     "output_type": "stream",
     "text": [
      "fold: 1 MAP@3 XGB Classifier: 0.0\n"
     ]
    },
    {
     "name": "stderr",
     "output_type": "stream",
     "text": [
      "/opt/conda/lib/python3.7/site-packages/ipykernel_launcher.py:26: FutureWarning:\n",
      "\n",
      "elementwise comparison failed; returning scalar instead, but in the future will perform elementwise comparison\n",
      "\n"
     ]
    },
    {
     "name": "stdout",
     "output_type": "stream",
     "text": [
      "fold: 2 MAP@3 XGB Classifier: 0.0\n"
     ]
    },
    {
     "name": "stderr",
     "output_type": "stream",
     "text": [
      "/opt/conda/lib/python3.7/site-packages/ipykernel_launcher.py:26: FutureWarning:\n",
      "\n",
      "elementwise comparison failed; returning scalar instead, but in the future will perform elementwise comparison\n",
      "\n"
     ]
    },
    {
     "name": "stdout",
     "output_type": "stream",
     "text": [
      "fold: 3 MAP@3 XGB Classifier: 0.0\n"
     ]
    },
    {
     "name": "stderr",
     "output_type": "stream",
     "text": [
      "/opt/conda/lib/python3.7/site-packages/ipykernel_launcher.py:26: FutureWarning:\n",
      "\n",
      "elementwise comparison failed; returning scalar instead, but in the future will perform elementwise comparison\n",
      "\n"
     ]
    },
    {
     "name": "stdout",
     "output_type": "stream",
     "text": [
      "fold: 4 MAP@3 XGB Classifier: 0.0\n"
     ]
    },
    {
     "name": "stderr",
     "output_type": "stream",
     "text": [
      "/opt/conda/lib/python3.7/site-packages/ipykernel_launcher.py:26: FutureWarning:\n",
      "\n",
      "elementwise comparison failed; returning scalar instead, but in the future will perform elementwise comparison\n",
      "\n"
     ]
    },
    {
     "name": "stdout",
     "output_type": "stream",
     "text": [
      "fold: 5 MAP@3 XGB Classifier: 0.0\n"
     ]
    },
    {
     "name": "stderr",
     "output_type": "stream",
     "text": [
      "/opt/conda/lib/python3.7/site-packages/ipykernel_launcher.py:26: FutureWarning:\n",
      "\n",
      "elementwise comparison failed; returning scalar instead, but in the future will perform elementwise comparison\n",
      "\n"
     ]
    },
    {
     "name": "stdout",
     "output_type": "stream",
     "text": [
      "fold: 6 MAP@3 XGB Classifier: 0.0\n"
     ]
    },
    {
     "name": "stderr",
     "output_type": "stream",
     "text": [
      "/opt/conda/lib/python3.7/site-packages/ipykernel_launcher.py:26: FutureWarning:\n",
      "\n",
      "elementwise comparison failed; returning scalar instead, but in the future will perform elementwise comparison\n",
      "\n"
     ]
    },
    {
     "name": "stdout",
     "output_type": "stream",
     "text": [
      "fold: 7 MAP@3 XGB Classifier: 0.0\n"
     ]
    },
    {
     "name": "stderr",
     "output_type": "stream",
     "text": [
      "/opt/conda/lib/python3.7/site-packages/ipykernel_launcher.py:26: FutureWarning:\n",
      "\n",
      "elementwise comparison failed; returning scalar instead, but in the future will perform elementwise comparison\n",
      "\n"
     ]
    },
    {
     "name": "stdout",
     "output_type": "stream",
     "text": [
      "fold: 8 MAP@3 XGB Classifier: 0.0\n"
     ]
    },
    {
     "name": "stderr",
     "output_type": "stream",
     "text": [
      "/opt/conda/lib/python3.7/site-packages/ipykernel_launcher.py:26: FutureWarning:\n",
      "\n",
      "elementwise comparison failed; returning scalar instead, but in the future will perform elementwise comparison\n",
      "\n"
     ]
    },
    {
     "name": "stdout",
     "output_type": "stream",
     "text": [
      "fold: 9 MAP@3 XGB Classifier: 0.0\n",
      "fold: 10 MAP@3 XGB Classifier: 0.0\n",
      "final MAP@3 is :0.0\n"
     ]
    },
    {
     "name": "stderr",
     "output_type": "stream",
     "text": [
      "/opt/conda/lib/python3.7/site-packages/ipykernel_launcher.py:26: FutureWarning:\n",
      "\n",
      "elementwise comparison failed; returning scalar instead, but in the future will perform elementwise comparison\n",
      "\n"
     ]
    }
   ],
   "source": [
    "kfold = KFold(n_splits=10, shuffle=True, random_state=100)\n",
    "pred_xgb = np.zeros((test_df.shape[0], 11))\n",
    "\n",
    "\n",
    "acc_xgb = []# list contains rmse for each fold\n",
    "n=0\n",
    "\n",
    "for i, (train_index, valid_index) in enumerate(kfold.split(X, y)):\n",
    "    x_train, y_train = X.iloc[train_index], y.iloc[train_index]\n",
    "    x_valid, y_valid = X.loc[valid_index], y.iloc[valid_index]\n",
    "    \n",
    "\n",
    "    \n",
    "    # XGBoost regressor\n",
    "    model_xgb = XGBClassifier(objective = 'multi:softprob',\n",
    "                          # tree_method = 'gpu_hist',\n",
    "                           colsample_bytree = 0.6,  \n",
    "                           gamma = 0.8,  \n",
    "                           learning_rate = 0.01, \n",
    "                           max_depth = 5,\n",
    "                           min_child_weight = 5, \n",
    "                           n_estimators = 500, \n",
    "                           subsample = 0.7).fit(x_train, y_train)\n",
    "    \n",
    "    pred_xgb+= model_xgb.predict_proba(test_df)/kfold.n_splits\n",
    "    val_pred = top_3(model_xgb.predict_proba(x_valid))\n",
    "    acc_xgb.append(mapk(y_valid.values.reshape(-1, 1), val_pred, k=3))\n",
    "    \n",
    "\n",
    "    print(f\"fold: {n+1} MAP@3 XGB Classifier: {acc_xgb[n]}\")\n",
    "    n+=1\n",
    "print(f\"final MAP@3 is :{np.mean(acc_xgb)}\")"
   ]
  },
  {
   "cell_type": "code",
   "execution_count": 12,
   "id": "e5c5b4f2",
   "metadata": {
    "execution": {
     "iopub.execute_input": "2023-04-20T06:00:24.125853Z",
     "iopub.status.busy": "2023-04-20T06:00:24.124736Z",
     "iopub.status.idle": "2023-04-20T06:00:24.130304Z",
     "shell.execute_reply": "2023-04-20T06:00:24.129307Z"
    },
    "papermill": {
     "duration": 0.018458,
     "end_time": "2023-04-20T06:00:24.132723",
     "exception": false,
     "start_time": "2023-04-20T06:00:24.114265",
     "status": "completed"
    },
    "tags": []
   },
   "outputs": [],
   "source": [
    "top_3_pred_xgb = top_3(pred_xgb)"
   ]
  },
  {
   "cell_type": "code",
   "execution_count": 13,
   "id": "561afe0b",
   "metadata": {
    "collapsed": true,
    "execution": {
     "iopub.execute_input": "2023-04-20T06:00:24.153184Z",
     "iopub.status.busy": "2023-04-20T06:00:24.152758Z",
     "iopub.status.idle": "2023-04-20T06:00:24.157796Z",
     "shell.execute_reply": "2023-04-20T06:00:24.156407Z"
    },
    "jupyter": {
     "outputs_hidden": true
    },
    "papermill": {
     "duration": 0.018213,
     "end_time": "2023-04-20T06:00:24.160297",
     "exception": false,
     "start_time": "2023-04-20T06:00:24.142084",
     "status": "completed"
    },
    "tags": []
   },
   "outputs": [],
   "source": [
    "# top_3_pred_xgb"
   ]
  },
  {
   "cell_type": "markdown",
   "id": "6ff06a03",
   "metadata": {
    "papermill": {
     "duration": 0.009064,
     "end_time": "2023-04-20T06:00:24.178616",
     "exception": false,
     "start_time": "2023-04-20T06:00:24.169552",
     "status": "completed"
    },
    "tags": []
   },
   "source": [
    "###  =================STILL WORKING ON OPTIMIZATION AND DECOMPOSITION=========================="
   ]
  },
  {
   "cell_type": "code",
   "execution_count": 14,
   "id": "4735346c",
   "metadata": {
    "execution": {
     "iopub.execute_input": "2023-04-20T06:00:24.199464Z",
     "iopub.status.busy": "2023-04-20T06:00:24.198729Z",
     "iopub.status.idle": "2023-04-20T06:00:24.204800Z",
     "shell.execute_reply": "2023-04-20T06:00:24.203552Z"
    },
    "papermill": {
     "duration": 0.01918,
     "end_time": "2023-04-20T06:00:24.207257",
     "exception": false,
     "start_time": "2023-04-20T06:00:24.188077",
     "status": "completed"
    },
    "tags": []
   },
   "outputs": [],
   "source": [
    "# X_train, X_test, y_train, y_test = train_test_split(train_df, train_df['prognosis'], \n",
    "#                                                     test_size=0.2, random_state=123) \n",
    "\n",
    "# acc_scores = []\n",
    "# for i in range(1,train_df.shape[1]+1):\n",
    "#     for j in range(20):\n",
    "        \n",
    "#         pipe = Pipeline([\n",
    "#             ('scaler', StandardScaler()),\n",
    "#             ('pca', PCA(n_components=i)),\n",
    "#             ('rfc', RandomForestClassifier(random_state=0))])\n",
    "\n",
    "\n",
    "#         pipe.fit(X_train, y_train)\n",
    "\n",
    "#         accuracy = pipe.score(X_test, y_test)\n",
    "#         acc_scores.append(accuracy)\n",
    "\n",
    "   \n",
    "# acc_scores = list(np.array(acc_scores).reshape(66,20))\n",
    "\n",
    "# plt.figure(figsize=(20, 6))\n",
    "# plt.boxplot(acc_scores, sym=\"\")\n",
    "# plt.xticks(rotation = 90)\n",
    "# plt.xlabel('Number of Principle Components')\n",
    "# plt.ylabel('Accuracy')\n",
    "# plt.title('Model Accuracy with Increased Principle Components')\n",
    "# plt.show()"
   ]
  },
  {
   "cell_type": "code",
   "execution_count": 15,
   "id": "a6f328bd",
   "metadata": {
    "execution": {
     "iopub.execute_input": "2023-04-20T06:00:24.228234Z",
     "iopub.status.busy": "2023-04-20T06:00:24.227425Z",
     "iopub.status.idle": "2023-04-20T06:00:24.232265Z",
     "shell.execute_reply": "2023-04-20T06:00:24.231330Z"
    },
    "papermill": {
     "duration": 0.018063,
     "end_time": "2023-04-20T06:00:24.234727",
     "exception": false,
     "start_time": "2023-04-20T06:00:24.216664",
     "status": "completed"
    },
    "tags": []
   },
   "outputs": [],
   "source": [
    "# accuracy_score, num_features = 0.4, 66\n",
    "\n",
    "# features_removed = [*range(1,101)]\n",
    "# trail_mean = [a.mean() for a in acc_scores]\n",
    "\n",
    "# features_mean = dict(zip(features_removed, trail_mean))\n",
    "# res = {key:round(value,4) for (key,value) in features_mean.items() if (value > accuracy_score and key < num_features)}\n",
    "\n",
    "# print(res)"
   ]
  }
 ],
 "metadata": {
  "kernelspec": {
   "display_name": "Python 3",
   "language": "python",
   "name": "python3"
  },
  "language_info": {
   "codemirror_mode": {
    "name": "ipython",
    "version": 3
   },
   "file_extension": ".py",
   "mimetype": "text/x-python",
   "name": "python",
   "nbconvert_exporter": "python",
   "pygments_lexer": "ipython3",
   "version": "3.7.12"
  },
  "papermill": {
   "default_parameters": {},
   "duration": 71.819698,
   "end_time": "2023-04-20T06:00:25.067436",
   "environment_variables": {},
   "exception": null,
   "input_path": "__notebook__.ipynb",
   "output_path": "__notebook__.ipynb",
   "parameters": {},
   "start_time": "2023-04-20T05:59:13.247738",
   "version": "2.4.0"
  }
 },
 "nbformat": 4,
 "nbformat_minor": 5
}
