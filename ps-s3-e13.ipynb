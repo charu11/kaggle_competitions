{
 "cells": [
  {
   "cell_type": "code",
   "execution_count": 1,
   "id": "020f820e",
   "metadata": {
    "_cell_guid": "b1076dfc-b9ad-4769-8c92-a6c4dae69d19",
    "_uuid": "8f2839f25d086af736a60e9eeb907d3b93b6e0e5",
    "execution": {
     "iopub.execute_input": "2023-04-19T05:42:06.679675Z",
     "iopub.status.busy": "2023-04-19T05:42:06.679244Z",
     "iopub.status.idle": "2023-04-19T05:42:08.345910Z",
     "shell.execute_reply": "2023-04-19T05:42:08.344432Z"
    },
    "papermill": {
     "duration": 1.678191,
     "end_time": "2023-04-19T05:42:08.348567",
     "exception": false,
     "start_time": "2023-04-19T05:42:06.670376",
     "status": "completed"
    },
    "tags": []
   },
   "outputs": [
    {
     "name": "stdout",
     "output_type": "stream",
     "text": [
      "/kaggle/input/playground-series-s3e13/sample_submission.csv\n",
      "/kaggle/input/playground-series-s3e13/train.csv\n",
      "/kaggle/input/playground-series-s3e13/test.csv\n"
     ]
    }
   ],
   "source": [
    "# This Python 3 environment comes with many helpful analytics libraries installed\n",
    "# It is defined by the kaggle/python Docker image: https://github.com/kaggle/docker-python\n",
    "# For example, here's several helpful packages to load\n",
    "\n",
    "import numpy as np # linear algebra\n",
    "import pandas as pd # data processing, CSV file I/O (e.g. pd.read_csv)\n",
    "from itertools import product\n",
    "from plotly.offline import init_notebook_mode, iplot\n",
    "from sklearn.preprocessing import OrdinalEncoder\n",
    "from sklearn.linear_model import LogisticRegression\n",
    "from xgboost import XGBClassifier\n",
    "from sklearn.model_selection import train_test_split\n",
    "\n",
    "# Input data files are available in the read-only \"../input/\" directory\n",
    "# For example, running this (by clicking run or pressing Shift+Enter) will list all files under the input directory\n",
    "\n",
    "import os\n",
    "for dirname, _, filenames in os.walk('/kaggle/input'):\n",
    "    for filename in filenames:\n",
    "        print(os.path.join(dirname, filename))\n",
    "\n",
    "# You can write up to 20GB to the current directory (/kaggle/working/) that gets preserved as output when you create a version using \"Save & Run All\" \n",
    "# You can also write temporary files to /kaggle/temp/, but they won't be saved outside of the current session"
   ]
  },
  {
   "cell_type": "markdown",
   "id": "6de2798e",
   "metadata": {
    "papermill": {
     "duration": 0.005591,
     "end_time": "2023-04-19T05:42:08.360360",
     "exception": false,
     "start_time": "2023-04-19T05:42:08.354769",
     "status": "completed"
    },
    "tags": []
   },
   "source": [
    "## Import the data"
   ]
  },
  {
   "cell_type": "markdown",
   "id": "e9e2e378",
   "metadata": {
    "papermill": {
     "duration": 0.006145,
     "end_time": "2023-04-19T05:42:08.372876",
     "exception": false,
     "start_time": "2023-04-19T05:42:08.366731",
     "status": "completed"
    },
    "tags": []
   },
   "source": [
    "### Train data"
   ]
  },
  {
   "cell_type": "code",
   "execution_count": 2,
   "id": "b81b57e7",
   "metadata": {
    "execution": {
     "iopub.execute_input": "2023-04-19T05:42:08.386611Z",
     "iopub.status.busy": "2023-04-19T05:42:08.386207Z",
     "iopub.status.idle": "2023-04-19T05:42:08.461430Z",
     "shell.execute_reply": "2023-04-19T05:42:08.459995Z"
    },
    "papermill": {
     "duration": 0.085294,
     "end_time": "2023-04-19T05:42:08.464186",
     "exception": false,
     "start_time": "2023-04-19T05:42:08.378892",
     "status": "completed"
    },
    "tags": []
   },
   "outputs": [
    {
     "data": {
      "text/html": [
       "<div>\n",
       "<style scoped>\n",
       "    .dataframe tbody tr th:only-of-type {\n",
       "        vertical-align: middle;\n",
       "    }\n",
       "\n",
       "    .dataframe tbody tr th {\n",
       "        vertical-align: top;\n",
       "    }\n",
       "\n",
       "    .dataframe thead th {\n",
       "        text-align: right;\n",
       "    }\n",
       "</style>\n",
       "<table border=\"1\" class=\"dataframe\">\n",
       "  <thead>\n",
       "    <tr style=\"text-align: right;\">\n",
       "      <th></th>\n",
       "      <th>id</th>\n",
       "      <th>sudden_fever</th>\n",
       "      <th>headache</th>\n",
       "      <th>mouth_bleed</th>\n",
       "      <th>nose_bleed</th>\n",
       "      <th>muscle_pain</th>\n",
       "      <th>joint_pain</th>\n",
       "      <th>vomiting</th>\n",
       "      <th>rash</th>\n",
       "      <th>diarrhea</th>\n",
       "      <th>...</th>\n",
       "      <th>breathing_restriction</th>\n",
       "      <th>toe_inflammation</th>\n",
       "      <th>finger_inflammation</th>\n",
       "      <th>lips_irritation</th>\n",
       "      <th>itchiness</th>\n",
       "      <th>ulcers</th>\n",
       "      <th>toenail_loss</th>\n",
       "      <th>speech_problem</th>\n",
       "      <th>bullseye_rash</th>\n",
       "      <th>prognosis</th>\n",
       "    </tr>\n",
       "  </thead>\n",
       "  <tbody>\n",
       "    <tr>\n",
       "      <th>0</th>\n",
       "      <td>0</td>\n",
       "      <td>1.0</td>\n",
       "      <td>1.0</td>\n",
       "      <td>0.0</td>\n",
       "      <td>1.0</td>\n",
       "      <td>1.0</td>\n",
       "      <td>1.0</td>\n",
       "      <td>1.0</td>\n",
       "      <td>0.0</td>\n",
       "      <td>1.0</td>\n",
       "      <td>...</td>\n",
       "      <td>0.0</td>\n",
       "      <td>0.0</td>\n",
       "      <td>0.0</td>\n",
       "      <td>0.0</td>\n",
       "      <td>0.0</td>\n",
       "      <td>0.0</td>\n",
       "      <td>0.0</td>\n",
       "      <td>0.0</td>\n",
       "      <td>0.0</td>\n",
       "      <td>Lyme_disease</td>\n",
       "    </tr>\n",
       "    <tr>\n",
       "      <th>1</th>\n",
       "      <td>1</td>\n",
       "      <td>0.0</td>\n",
       "      <td>0.0</td>\n",
       "      <td>0.0</td>\n",
       "      <td>0.0</td>\n",
       "      <td>0.0</td>\n",
       "      <td>0.0</td>\n",
       "      <td>1.0</td>\n",
       "      <td>0.0</td>\n",
       "      <td>1.0</td>\n",
       "      <td>...</td>\n",
       "      <td>0.0</td>\n",
       "      <td>0.0</td>\n",
       "      <td>0.0</td>\n",
       "      <td>0.0</td>\n",
       "      <td>0.0</td>\n",
       "      <td>0.0</td>\n",
       "      <td>0.0</td>\n",
       "      <td>0.0</td>\n",
       "      <td>0.0</td>\n",
       "      <td>Tungiasis</td>\n",
       "    </tr>\n",
       "    <tr>\n",
       "      <th>2</th>\n",
       "      <td>2</td>\n",
       "      <td>0.0</td>\n",
       "      <td>1.0</td>\n",
       "      <td>1.0</td>\n",
       "      <td>1.0</td>\n",
       "      <td>0.0</td>\n",
       "      <td>1.0</td>\n",
       "      <td>1.0</td>\n",
       "      <td>1.0</td>\n",
       "      <td>1.0</td>\n",
       "      <td>...</td>\n",
       "      <td>1.0</td>\n",
       "      <td>1.0</td>\n",
       "      <td>1.0</td>\n",
       "      <td>1.0</td>\n",
       "      <td>1.0</td>\n",
       "      <td>0.0</td>\n",
       "      <td>1.0</td>\n",
       "      <td>1.0</td>\n",
       "      <td>1.0</td>\n",
       "      <td>Lyme_disease</td>\n",
       "    </tr>\n",
       "    <tr>\n",
       "      <th>3</th>\n",
       "      <td>3</td>\n",
       "      <td>0.0</td>\n",
       "      <td>0.0</td>\n",
       "      <td>1.0</td>\n",
       "      <td>1.0</td>\n",
       "      <td>1.0</td>\n",
       "      <td>1.0</td>\n",
       "      <td>0.0</td>\n",
       "      <td>1.0</td>\n",
       "      <td>0.0</td>\n",
       "      <td>...</td>\n",
       "      <td>0.0</td>\n",
       "      <td>0.0</td>\n",
       "      <td>0.0</td>\n",
       "      <td>0.0</td>\n",
       "      <td>0.0</td>\n",
       "      <td>0.0</td>\n",
       "      <td>0.0</td>\n",
       "      <td>0.0</td>\n",
       "      <td>0.0</td>\n",
       "      <td>Zika</td>\n",
       "    </tr>\n",
       "    <tr>\n",
       "      <th>4</th>\n",
       "      <td>4</td>\n",
       "      <td>0.0</td>\n",
       "      <td>0.0</td>\n",
       "      <td>0.0</td>\n",
       "      <td>0.0</td>\n",
       "      <td>0.0</td>\n",
       "      <td>0.0</td>\n",
       "      <td>0.0</td>\n",
       "      <td>0.0</td>\n",
       "      <td>1.0</td>\n",
       "      <td>...</td>\n",
       "      <td>0.0</td>\n",
       "      <td>1.0</td>\n",
       "      <td>0.0</td>\n",
       "      <td>0.0</td>\n",
       "      <td>1.0</td>\n",
       "      <td>1.0</td>\n",
       "      <td>1.0</td>\n",
       "      <td>0.0</td>\n",
       "      <td>0.0</td>\n",
       "      <td>Rift_Valley_fever</td>\n",
       "    </tr>\n",
       "  </tbody>\n",
       "</table>\n",
       "<p>5 rows × 66 columns</p>\n",
       "</div>"
      ],
      "text/plain": [
       "   id  sudden_fever  headache  mouth_bleed  nose_bleed  muscle_pain  \\\n",
       "0   0           1.0       1.0          0.0         1.0          1.0   \n",
       "1   1           0.0       0.0          0.0         0.0          0.0   \n",
       "2   2           0.0       1.0          1.0         1.0          0.0   \n",
       "3   3           0.0       0.0          1.0         1.0          1.0   \n",
       "4   4           0.0       0.0          0.0         0.0          0.0   \n",
       "\n",
       "   joint_pain  vomiting  rash  diarrhea  ...  breathing_restriction  \\\n",
       "0         1.0       1.0   0.0       1.0  ...                    0.0   \n",
       "1         0.0       1.0   0.0       1.0  ...                    0.0   \n",
       "2         1.0       1.0   1.0       1.0  ...                    1.0   \n",
       "3         1.0       0.0   1.0       0.0  ...                    0.0   \n",
       "4         0.0       0.0   0.0       1.0  ...                    0.0   \n",
       "\n",
       "   toe_inflammation  finger_inflammation  lips_irritation  itchiness  ulcers  \\\n",
       "0               0.0                  0.0              0.0        0.0     0.0   \n",
       "1               0.0                  0.0              0.0        0.0     0.0   \n",
       "2               1.0                  1.0              1.0        1.0     0.0   \n",
       "3               0.0                  0.0              0.0        0.0     0.0   \n",
       "4               1.0                  0.0              0.0        1.0     1.0   \n",
       "\n",
       "   toenail_loss  speech_problem  bullseye_rash          prognosis  \n",
       "0           0.0             0.0            0.0       Lyme_disease  \n",
       "1           0.0             0.0            0.0          Tungiasis  \n",
       "2           1.0             1.0            1.0       Lyme_disease  \n",
       "3           0.0             0.0            0.0               Zika  \n",
       "4           1.0             0.0            0.0  Rift_Valley_fever  \n",
       "\n",
       "[5 rows x 66 columns]"
      ]
     },
     "execution_count": 2,
     "metadata": {},
     "output_type": "execute_result"
    }
   ],
   "source": [
    "train_df = pd.read_csv('/kaggle/input/playground-series-s3e13/train.csv')\n",
    "train_df.head()"
   ]
  },
  {
   "cell_type": "code",
   "execution_count": 3,
   "id": "704191a9",
   "metadata": {
    "execution": {
     "iopub.execute_input": "2023-04-19T05:42:08.479774Z",
     "iopub.status.busy": "2023-04-19T05:42:08.479298Z",
     "iopub.status.idle": "2023-04-19T05:42:08.487458Z",
     "shell.execute_reply": "2023-04-19T05:42:08.486042Z"
    },
    "papermill": {
     "duration": 0.019104,
     "end_time": "2023-04-19T05:42:08.489880",
     "exception": false,
     "start_time": "2023-04-19T05:42:08.470776",
     "status": "completed"
    },
    "tags": []
   },
   "outputs": [
    {
     "data": {
      "text/plain": [
       "(707, 66)"
      ]
     },
     "execution_count": 3,
     "metadata": {},
     "output_type": "execute_result"
    }
   ],
   "source": [
    "train_df.shape"
   ]
  },
  {
   "cell_type": "markdown",
   "id": "cb9dfb2f",
   "metadata": {
    "papermill": {
     "duration": 0.006179,
     "end_time": "2023-04-19T05:42:08.502931",
     "exception": false,
     "start_time": "2023-04-19T05:42:08.496752",
     "status": "completed"
    },
    "tags": []
   },
   "source": [
    "### Test data"
   ]
  },
  {
   "cell_type": "code",
   "execution_count": 4,
   "id": "94753ae5",
   "metadata": {
    "execution": {
     "iopub.execute_input": "2023-04-19T05:42:08.518005Z",
     "iopub.status.busy": "2023-04-19T05:42:08.517525Z",
     "iopub.status.idle": "2023-04-19T05:42:08.559587Z",
     "shell.execute_reply": "2023-04-19T05:42:08.557880Z"
    },
    "papermill": {
     "duration": 0.053426,
     "end_time": "2023-04-19T05:42:08.562956",
     "exception": false,
     "start_time": "2023-04-19T05:42:08.509530",
     "status": "completed"
    },
    "tags": []
   },
   "outputs": [
    {
     "data": {
      "text/html": [
       "<div>\n",
       "<style scoped>\n",
       "    .dataframe tbody tr th:only-of-type {\n",
       "        vertical-align: middle;\n",
       "    }\n",
       "\n",
       "    .dataframe tbody tr th {\n",
       "        vertical-align: top;\n",
       "    }\n",
       "\n",
       "    .dataframe thead th {\n",
       "        text-align: right;\n",
       "    }\n",
       "</style>\n",
       "<table border=\"1\" class=\"dataframe\">\n",
       "  <thead>\n",
       "    <tr style=\"text-align: right;\">\n",
       "      <th></th>\n",
       "      <th>id</th>\n",
       "      <th>sudden_fever</th>\n",
       "      <th>headache</th>\n",
       "      <th>mouth_bleed</th>\n",
       "      <th>nose_bleed</th>\n",
       "      <th>muscle_pain</th>\n",
       "      <th>joint_pain</th>\n",
       "      <th>vomiting</th>\n",
       "      <th>rash</th>\n",
       "      <th>diarrhea</th>\n",
       "      <th>...</th>\n",
       "      <th>lymph_swells</th>\n",
       "      <th>breathing_restriction</th>\n",
       "      <th>toe_inflammation</th>\n",
       "      <th>finger_inflammation</th>\n",
       "      <th>lips_irritation</th>\n",
       "      <th>itchiness</th>\n",
       "      <th>ulcers</th>\n",
       "      <th>toenail_loss</th>\n",
       "      <th>speech_problem</th>\n",
       "      <th>bullseye_rash</th>\n",
       "    </tr>\n",
       "  </thead>\n",
       "  <tbody>\n",
       "    <tr>\n",
       "      <th>0</th>\n",
       "      <td>707</td>\n",
       "      <td>0.0</td>\n",
       "      <td>0.0</td>\n",
       "      <td>0.0</td>\n",
       "      <td>0.0</td>\n",
       "      <td>0.0</td>\n",
       "      <td>0.0</td>\n",
       "      <td>0.0</td>\n",
       "      <td>0.0</td>\n",
       "      <td>0.0</td>\n",
       "      <td>...</td>\n",
       "      <td>0.0</td>\n",
       "      <td>0.0</td>\n",
       "      <td>0.0</td>\n",
       "      <td>0.0</td>\n",
       "      <td>0.0</td>\n",
       "      <td>0.0</td>\n",
       "      <td>0.0</td>\n",
       "      <td>0.0</td>\n",
       "      <td>0.0</td>\n",
       "      <td>0.0</td>\n",
       "    </tr>\n",
       "    <tr>\n",
       "      <th>1</th>\n",
       "      <td>708</td>\n",
       "      <td>1.0</td>\n",
       "      <td>1.0</td>\n",
       "      <td>0.0</td>\n",
       "      <td>1.0</td>\n",
       "      <td>0.0</td>\n",
       "      <td>1.0</td>\n",
       "      <td>1.0</td>\n",
       "      <td>1.0</td>\n",
       "      <td>1.0</td>\n",
       "      <td>...</td>\n",
       "      <td>0.0</td>\n",
       "      <td>0.0</td>\n",
       "      <td>0.0</td>\n",
       "      <td>0.0</td>\n",
       "      <td>0.0</td>\n",
       "      <td>0.0</td>\n",
       "      <td>0.0</td>\n",
       "      <td>0.0</td>\n",
       "      <td>0.0</td>\n",
       "      <td>0.0</td>\n",
       "    </tr>\n",
       "    <tr>\n",
       "      <th>2</th>\n",
       "      <td>709</td>\n",
       "      <td>1.0</td>\n",
       "      <td>1.0</td>\n",
       "      <td>0.0</td>\n",
       "      <td>1.0</td>\n",
       "      <td>1.0</td>\n",
       "      <td>1.0</td>\n",
       "      <td>1.0</td>\n",
       "      <td>0.0</td>\n",
       "      <td>1.0</td>\n",
       "      <td>...</td>\n",
       "      <td>0.0</td>\n",
       "      <td>0.0</td>\n",
       "      <td>0.0</td>\n",
       "      <td>0.0</td>\n",
       "      <td>0.0</td>\n",
       "      <td>1.0</td>\n",
       "      <td>0.0</td>\n",
       "      <td>0.0</td>\n",
       "      <td>0.0</td>\n",
       "      <td>0.0</td>\n",
       "    </tr>\n",
       "    <tr>\n",
       "      <th>3</th>\n",
       "      <td>710</td>\n",
       "      <td>0.0</td>\n",
       "      <td>1.0</td>\n",
       "      <td>0.0</td>\n",
       "      <td>0.0</td>\n",
       "      <td>0.0</td>\n",
       "      <td>1.0</td>\n",
       "      <td>1.0</td>\n",
       "      <td>1.0</td>\n",
       "      <td>0.0</td>\n",
       "      <td>...</td>\n",
       "      <td>0.0</td>\n",
       "      <td>0.0</td>\n",
       "      <td>0.0</td>\n",
       "      <td>0.0</td>\n",
       "      <td>0.0</td>\n",
       "      <td>0.0</td>\n",
       "      <td>0.0</td>\n",
       "      <td>0.0</td>\n",
       "      <td>0.0</td>\n",
       "      <td>0.0</td>\n",
       "    </tr>\n",
       "    <tr>\n",
       "      <th>4</th>\n",
       "      <td>711</td>\n",
       "      <td>0.0</td>\n",
       "      <td>0.0</td>\n",
       "      <td>1.0</td>\n",
       "      <td>0.0</td>\n",
       "      <td>1.0</td>\n",
       "      <td>1.0</td>\n",
       "      <td>0.0</td>\n",
       "      <td>0.0</td>\n",
       "      <td>1.0</td>\n",
       "      <td>...</td>\n",
       "      <td>0.0</td>\n",
       "      <td>0.0</td>\n",
       "      <td>0.0</td>\n",
       "      <td>0.0</td>\n",
       "      <td>0.0</td>\n",
       "      <td>0.0</td>\n",
       "      <td>0.0</td>\n",
       "      <td>0.0</td>\n",
       "      <td>0.0</td>\n",
       "      <td>0.0</td>\n",
       "    </tr>\n",
       "  </tbody>\n",
       "</table>\n",
       "<p>5 rows × 65 columns</p>\n",
       "</div>"
      ],
      "text/plain": [
       "    id  sudden_fever  headache  mouth_bleed  nose_bleed  muscle_pain  \\\n",
       "0  707           0.0       0.0          0.0         0.0          0.0   \n",
       "1  708           1.0       1.0          0.0         1.0          0.0   \n",
       "2  709           1.0       1.0          0.0         1.0          1.0   \n",
       "3  710           0.0       1.0          0.0         0.0          0.0   \n",
       "4  711           0.0       0.0          1.0         0.0          1.0   \n",
       "\n",
       "   joint_pain  vomiting  rash  diarrhea  ...  lymph_swells  \\\n",
       "0         0.0       0.0   0.0       0.0  ...           0.0   \n",
       "1         1.0       1.0   1.0       1.0  ...           0.0   \n",
       "2         1.0       1.0   0.0       1.0  ...           0.0   \n",
       "3         1.0       1.0   1.0       0.0  ...           0.0   \n",
       "4         1.0       0.0   0.0       1.0  ...           0.0   \n",
       "\n",
       "   breathing_restriction  toe_inflammation  finger_inflammation  \\\n",
       "0                    0.0               0.0                  0.0   \n",
       "1                    0.0               0.0                  0.0   \n",
       "2                    0.0               0.0                  0.0   \n",
       "3                    0.0               0.0                  0.0   \n",
       "4                    0.0               0.0                  0.0   \n",
       "\n",
       "   lips_irritation  itchiness  ulcers  toenail_loss  speech_problem  \\\n",
       "0              0.0        0.0     0.0           0.0             0.0   \n",
       "1              0.0        0.0     0.0           0.0             0.0   \n",
       "2              0.0        1.0     0.0           0.0             0.0   \n",
       "3              0.0        0.0     0.0           0.0             0.0   \n",
       "4              0.0        0.0     0.0           0.0             0.0   \n",
       "\n",
       "   bullseye_rash  \n",
       "0            0.0  \n",
       "1            0.0  \n",
       "2            0.0  \n",
       "3            0.0  \n",
       "4            0.0  \n",
       "\n",
       "[5 rows x 65 columns]"
      ]
     },
     "execution_count": 4,
     "metadata": {},
     "output_type": "execute_result"
    }
   ],
   "source": [
    "test_df = pd.read_csv('/kaggle/input/playground-series-s3e13/test.csv')\n",
    "test_df.head()"
   ]
  },
  {
   "cell_type": "code",
   "execution_count": 5,
   "id": "d703a65d",
   "metadata": {
    "execution": {
     "iopub.execute_input": "2023-04-19T05:42:08.580053Z",
     "iopub.status.busy": "2023-04-19T05:42:08.578605Z",
     "iopub.status.idle": "2023-04-19T05:42:08.586601Z",
     "shell.execute_reply": "2023-04-19T05:42:08.585308Z"
    },
    "papermill": {
     "duration": 0.0193,
     "end_time": "2023-04-19T05:42:08.589221",
     "exception": false,
     "start_time": "2023-04-19T05:42:08.569921",
     "status": "completed"
    },
    "tags": []
   },
   "outputs": [
    {
     "data": {
      "text/plain": [
       "(303, 65)"
      ]
     },
     "execution_count": 5,
     "metadata": {},
     "output_type": "execute_result"
    }
   ],
   "source": [
    "test_df.shape"
   ]
  },
  {
   "cell_type": "markdown",
   "id": "732731af",
   "metadata": {
    "papermill": {
     "duration": 0.00658,
     "end_time": "2023-04-19T05:42:08.602806",
     "exception": false,
     "start_time": "2023-04-19T05:42:08.596226",
     "status": "completed"
    },
    "tags": []
   },
   "source": [
    "## Exploratory Data Analysis"
   ]
  },
  {
   "cell_type": "markdown",
   "id": "09d93895",
   "metadata": {
    "papermill": {
     "duration": 0.006431,
     "end_time": "2023-04-19T05:42:08.616010",
     "exception": false,
     "start_time": "2023-04-19T05:42:08.609579",
     "status": "completed"
    },
    "tags": []
   },
   "source": [
    "### Check the labels distribution"
   ]
  },
  {
   "cell_type": "markdown",
   "id": "240022ab",
   "metadata": {
    "papermill": {
     "duration": 0.006425,
     "end_time": "2023-04-19T05:42:08.629143",
     "exception": false,
     "start_time": "2023-04-19T05:42:08.622718",
     "status": "completed"
    },
    "tags": []
   },
   "source": [
    "## Baseline model development"
   ]
  },
  {
   "cell_type": "markdown",
   "id": "2ab1dbf4",
   "metadata": {
    "papermill": {
     "duration": 0.006681,
     "end_time": "2023-04-19T05:42:08.643591",
     "exception": false,
     "start_time": "2023-04-19T05:42:08.636910",
     "status": "completed"
    },
    "tags": []
   },
   "source": [
    "### Encode the labels"
   ]
  },
  {
   "cell_type": "code",
   "execution_count": 6,
   "id": "7dac6ee8",
   "metadata": {
    "execution": {
     "iopub.execute_input": "2023-04-19T05:42:08.659450Z",
     "iopub.status.busy": "2023-04-19T05:42:08.658566Z",
     "iopub.status.idle": "2023-04-19T05:42:08.675566Z",
     "shell.execute_reply": "2023-04-19T05:42:08.674206Z"
    },
    "papermill": {
     "duration": 0.027928,
     "end_time": "2023-04-19T05:42:08.678320",
     "exception": false,
     "start_time": "2023-04-19T05:42:08.650392",
     "status": "completed"
    },
    "tags": []
   },
   "outputs": [
    {
     "data": {
      "text/plain": [
       "0     3.0\n",
       "1     7.0\n",
       "2     3.0\n",
       "3    10.0\n",
       "4     6.0\n",
       "5     3.0\n",
       "6     8.0\n",
       "7     7.0\n",
       "8     4.0\n",
       "9     0.0\n",
       "Name: prognosis, dtype: float64"
      ]
     },
     "execution_count": 6,
     "metadata": {},
     "output_type": "execute_result"
    }
   ],
   "source": [
    "# Encoder our prognosis labels as integers for easier decoding later\n",
    "enc = OrdinalEncoder()\n",
    "train_df['prognosis'] = enc.fit_transform(train_df[['prognosis']])\n",
    "train_df['prognosis'][:10] # Note the values here are now ordinal (floats)"
   ]
  },
  {
   "cell_type": "code",
   "execution_count": 7,
   "id": "de0786ec",
   "metadata": {
    "execution": {
     "iopub.execute_input": "2023-04-19T05:42:08.694238Z",
     "iopub.status.busy": "2023-04-19T05:42:08.693846Z",
     "iopub.status.idle": "2023-04-19T05:42:08.705443Z",
     "shell.execute_reply": "2023-04-19T05:42:08.704392Z"
    },
    "papermill": {
     "duration": 0.022897,
     "end_time": "2023-04-19T05:42:08.708152",
     "exception": false,
     "start_time": "2023-04-19T05:42:08.685255",
     "status": "completed"
    },
    "tags": []
   },
   "outputs": [],
   "source": [
    "# We split out our own test set so we can calculate an example MAP@K\n",
    "X_train, X_test, y_train, y_test = train_test_split(train_df.drop('prognosis', axis=1), train_df['prognosis'], random_state=42)"
   ]
  },
  {
   "cell_type": "code",
   "execution_count": 8,
   "id": "5d2f8dfe",
   "metadata": {
    "execution": {
     "iopub.execute_input": "2023-04-19T05:42:08.724274Z",
     "iopub.status.busy": "2023-04-19T05:42:08.723829Z",
     "iopub.status.idle": "2023-04-19T05:42:08.954688Z",
     "shell.execute_reply": "2023-04-19T05:42:08.952966Z"
    },
    "papermill": {
     "duration": 0.246009,
     "end_time": "2023-04-19T05:42:08.961092",
     "exception": false,
     "start_time": "2023-04-19T05:42:08.715083",
     "status": "completed"
    },
    "tags": []
   },
   "outputs": [
    {
     "name": "stderr",
     "output_type": "stream",
     "text": [
      "/opt/conda/lib/python3.7/site-packages/sklearn/linear_model/_logistic.py:818: ConvergenceWarning:\n",
      "\n",
      "lbfgs failed to converge (status=1):\n",
      "STOP: TOTAL NO. of ITERATIONS REACHED LIMIT.\n",
      "\n",
      "Increase the number of iterations (max_iter) or scale the data as shown in:\n",
      "    https://scikit-learn.org/stable/modules/preprocessing.html\n",
      "Please also refer to the documentation for alternative solver options:\n",
      "    https://scikit-learn.org/stable/modules/linear_model.html#logistic-regression\n",
      "\n"
     ]
    }
   ],
   "source": [
    "# We'll train a simple LogisticRegression model on our training split\n",
    "lr_clf = LogisticRegression()\n",
    "lr_clf.fit(X_train, y_train)\n",
    "\n",
    "# Normally lr_clf.predict would just predict the most likely prognosis, but with predict_proba we can get probabilities for all possible prognoses.\n",
    "predictions = lr_clf.predict_proba(X_test) / 8"
   ]
  },
  {
   "cell_type": "code",
   "execution_count": 9,
   "id": "63612181",
   "metadata": {
    "execution": {
     "iopub.execute_input": "2023-04-19T05:42:08.999882Z",
     "iopub.status.busy": "2023-04-19T05:42:08.999067Z",
     "iopub.status.idle": "2023-04-19T05:42:09.016282Z",
     "shell.execute_reply": "2023-04-19T05:42:09.014462Z"
    },
    "papermill": {
     "duration": 0.042495,
     "end_time": "2023-04-19T05:42:09.021520",
     "exception": false,
     "start_time": "2023-04-19T05:42:08.979025",
     "status": "completed"
    },
    "tags": []
   },
   "outputs": [
    {
     "name": "stdout",
     "output_type": "stream",
     "text": [
      "Output of predict_proba:\n",
      "[0.01585209 0.02447828 0.03517554 0.00604367 0.009715   0.00323861\n",
      " 0.00858926 0.00535092 0.00626227 0.00608648 0.00420788]\n"
     ]
    }
   ],
   "source": [
    "print(\"Output of predict_proba:\")\n",
    "print(predictions[0])"
   ]
  },
  {
   "cell_type": "code",
   "execution_count": 10,
   "id": "04bf59c5",
   "metadata": {
    "execution": {
     "iopub.execute_input": "2023-04-19T05:42:09.062111Z",
     "iopub.status.busy": "2023-04-19T05:42:09.061041Z",
     "iopub.status.idle": "2023-04-19T05:42:09.070520Z",
     "shell.execute_reply": "2023-04-19T05:42:09.069166Z"
    },
    "papermill": {
     "duration": 0.034735,
     "end_time": "2023-04-19T05:42:09.074143",
     "exception": false,
     "start_time": "2023-04-19T05:42:09.039408",
     "status": "completed"
    },
    "tags": []
   },
   "outputs": [
    {
     "name": "stdout",
     "output_type": "stream",
     "text": [
      "Indices sorted by probabilities:\n",
      "[[ 2  1  0 ...  7 10  5]\n",
      " [ 1  8  6 ...  9  3 10]\n",
      " [ 6  1  8 ...  3  4  0]\n",
      " ...\n",
      " [ 6  8  1 ...  9  7  0]\n",
      " [ 9  5  2 ...  7  6  0]\n",
      " [ 9  5  6 ... 10  7  0]]\n"
     ]
    }
   ],
   "source": [
    "sorted_prediction_ids = np.argsort(-predictions,axis=1) # Note argsort sorts in ascending order, but by making all our values negative we'll end up with the highest probabilities first\n",
    "print(\"Indices sorted by probabilities:\")\n",
    "print(sorted_prediction_ids)"
   ]
  },
  {
   "cell_type": "code",
   "execution_count": 11,
   "id": "5b52372c",
   "metadata": {
    "execution": {
     "iopub.execute_input": "2023-04-19T05:42:09.090959Z",
     "iopub.status.busy": "2023-04-19T05:42:09.090134Z",
     "iopub.status.idle": "2023-04-19T05:42:09.098903Z",
     "shell.execute_reply": "2023-04-19T05:42:09.097889Z"
    },
    "papermill": {
     "duration": 0.019877,
     "end_time": "2023-04-19T05:42:09.101217",
     "exception": false,
     "start_time": "2023-04-19T05:42:09.081340",
     "status": "completed"
    },
    "tags": []
   },
   "outputs": [
    {
     "data": {
      "text/plain": [
       "array([['Japanese_encephalitis', 'Dengue', 'Chikungunya'],\n",
       "       ['Dengue', 'West_Nile_fever', 'Rift_Valley_fever'],\n",
       "       ['Rift_Valley_fever', 'Dengue', 'West_Nile_fever'],\n",
       "       ['Zika', 'Yellow_Fever', 'Japanese_encephalitis'],\n",
       "       ['Chikungunya', 'Tungiasis', 'Dengue'],\n",
       "       ['Tungiasis', 'Dengue', 'Rift_Valley_fever'],\n",
       "       ['West_Nile_fever', 'Plague', 'Zika'],\n",
       "       ['Rift_Valley_fever', 'West_Nile_fever', 'Japanese_encephalitis'],\n",
       "       ['Dengue', 'Chikungunya', 'Rift_Valley_fever'],\n",
       "       ['Zika', 'Yellow_Fever', 'Plague']], dtype=object)"
      ]
     },
     "execution_count": 11,
     "metadata": {},
     "output_type": "execute_result"
    }
   ],
   "source": [
    "# Now let's look at doing the above for a whole set of predictions at once:\n",
    "sorted_prediction_ids = np.argsort(-predictions, axis=1)\n",
    "top_3_prediction_ids = sorted_prediction_ids[:,:3]\n",
    "\n",
    "# Because enc.inverse_transform expects a specific shape (a 2D array with 1 column) we can save the original shape to reshape to after decoding\n",
    "original_shape = top_3_prediction_ids.shape\n",
    "top_3_predictions = enc.inverse_transform(top_3_prediction_ids.reshape(-1, 1))\n",
    "top_3_predictions = top_3_predictions.reshape(original_shape)\n",
    "top_3_predictions[:10] # Spot check our first 10 values"
   ]
  },
  {
   "cell_type": "code",
   "execution_count": 12,
   "id": "539c36c0",
   "metadata": {
    "collapsed": true,
    "execution": {
     "iopub.execute_input": "2023-04-19T05:42:09.118281Z",
     "iopub.status.busy": "2023-04-19T05:42:09.117502Z",
     "iopub.status.idle": "2023-04-19T05:42:09.128479Z",
     "shell.execute_reply": "2023-04-19T05:42:09.127284Z"
    },
    "jupyter": {
     "outputs_hidden": true
    },
    "papermill": {
     "duration": 0.022499,
     "end_time": "2023-04-19T05:42:09.131036",
     "exception": false,
     "start_time": "2023-04-19T05:42:09.108537",
     "status": "completed"
    },
    "tags": []
   },
   "outputs": [
    {
     "data": {
      "text/plain": [
       "array([['Japanese_encephalitis', 'Dengue', 'Chikungunya'],\n",
       "       ['Dengue', 'West_Nile_fever', 'Rift_Valley_fever'],\n",
       "       ['Rift_Valley_fever', 'Dengue', 'West_Nile_fever'],\n",
       "       ['Zika', 'Yellow_Fever', 'Japanese_encephalitis'],\n",
       "       ['Chikungunya', 'Tungiasis', 'Dengue'],\n",
       "       ['Tungiasis', 'Dengue', 'Rift_Valley_fever'],\n",
       "       ['West_Nile_fever', 'Plague', 'Zika'],\n",
       "       ['Rift_Valley_fever', 'West_Nile_fever', 'Japanese_encephalitis'],\n",
       "       ['Dengue', 'Chikungunya', 'Rift_Valley_fever'],\n",
       "       ['Zika', 'Yellow_Fever', 'Plague'],\n",
       "       ['Zika', 'Yellow_Fever', 'Malaria'],\n",
       "       ['Plague', 'Japanese_encephalitis', 'Lyme_disease'],\n",
       "       ['Malaria', 'West_Nile_fever', 'Japanese_encephalitis'],\n",
       "       ['Rift_Valley_fever', 'Lyme_disease', 'Plague'],\n",
       "       ['Japanese_encephalitis', 'Rift_Valley_fever', 'Dengue'],\n",
       "       ['Chikungunya', 'Dengue', 'West_Nile_fever'],\n",
       "       ['Rift_Valley_fever', 'Dengue', 'Tungiasis'],\n",
       "       ['Tungiasis', 'West_Nile_fever', 'Japanese_encephalitis'],\n",
       "       ['Malaria', 'Plague', 'West_Nile_fever'],\n",
       "       ['Malaria', 'Rift_Valley_fever', 'Dengue'],\n",
       "       ['Zika', 'Yellow_Fever', 'Plague'],\n",
       "       ['Chikungunya', 'Dengue', 'West_Nile_fever'],\n",
       "       ['Yellow_Fever', 'Zika', 'Japanese_encephalitis'],\n",
       "       ['West_Nile_fever', 'Zika', 'Plague'],\n",
       "       ['Rift_Valley_fever', 'West_Nile_fever', 'Japanese_encephalitis'],\n",
       "       ['Zika', 'Yellow_Fever', 'West_Nile_fever'],\n",
       "       ['Lyme_disease', 'Plague', 'Japanese_encephalitis'],\n",
       "       ['Rift_Valley_fever', 'West_Nile_fever', 'Lyme_disease'],\n",
       "       ['Plague', 'Malaria', 'Japanese_encephalitis'],\n",
       "       ['Yellow_Fever', 'Zika', 'Plague'],\n",
       "       ['Plague', 'Malaria', 'West_Nile_fever'],\n",
       "       ['Chikungunya', 'Dengue', 'Japanese_encephalitis'],\n",
       "       ['Tungiasis', 'Rift_Valley_fever', 'Dengue'],\n",
       "       ['Rift_Valley_fever', 'Dengue', 'West_Nile_fever'],\n",
       "       ['Yellow_Fever', 'Zika', 'Malaria'],\n",
       "       ['Lyme_disease', 'Rift_Valley_fever', 'Plague'],\n",
       "       ['Yellow_Fever', 'Plague', 'Zika'],\n",
       "       ['Zika', 'Yellow_Fever', 'Plague'],\n",
       "       ['Malaria', 'Japanese_encephalitis', 'Yellow_Fever'],\n",
       "       ['Tungiasis', 'Dengue', 'Japanese_encephalitis'],\n",
       "       ['Yellow_Fever', 'Zika', 'Plague'],\n",
       "       ['Malaria', 'West_Nile_fever', 'Dengue'],\n",
       "       ['Chikungunya', 'Dengue', 'Rift_Valley_fever'],\n",
       "       ['Lyme_disease', 'Plague', 'Japanese_encephalitis'],\n",
       "       ['Dengue', 'Rift_Valley_fever', 'Plague'],\n",
       "       ['Yellow_Fever', 'Japanese_encephalitis', 'Zika'],\n",
       "       ['Chikungunya', 'Dengue', 'Tungiasis'],\n",
       "       ['Tungiasis', 'Rift_Valley_fever', 'Dengue'],\n",
       "       ['Yellow_Fever', 'Zika', 'Plague'],\n",
       "       ['Plague', 'Malaria', 'Zika'],\n",
       "       ['Rift_Valley_fever', 'Dengue', 'West_Nile_fever'],\n",
       "       ['Dengue', 'Rift_Valley_fever', 'West_Nile_fever'],\n",
       "       ['Yellow_Fever', 'Zika', 'Japanese_encephalitis'],\n",
       "       ['Lyme_disease', 'West_Nile_fever', 'Japanese_encephalitis'],\n",
       "       ['Zika', 'Yellow_Fever', 'Plague'],\n",
       "       ['Dengue', 'Tungiasis', 'Rift_Valley_fever'],\n",
       "       ['Japanese_encephalitis', 'Lyme_disease', 'Plague'],\n",
       "       ['West_Nile_fever', 'Dengue', 'Rift_Valley_fever'],\n",
       "       ['Lyme_disease', 'Plague', 'Japanese_encephalitis'],\n",
       "       ['Tungiasis', 'West_Nile_fever', 'Dengue'],\n",
       "       ['Rift_Valley_fever', 'West_Nile_fever', 'Japanese_encephalitis'],\n",
       "       ['Tungiasis', 'Rift_Valley_fever', 'Dengue'],\n",
       "       ['West_Nile_fever', 'Zika', 'Japanese_encephalitis'],\n",
       "       ['Chikungunya', 'Dengue', 'Rift_Valley_fever'],\n",
       "       ['Yellow_Fever', 'West_Nile_fever', 'Plague'],\n",
       "       ['Yellow_Fever', 'Zika', 'Plague'],\n",
       "       ['Dengue', 'West_Nile_fever', 'Japanese_encephalitis'],\n",
       "       ['Tungiasis', 'Dengue', 'Rift_Valley_fever'],\n",
       "       ['Japanese_encephalitis', 'Dengue', 'West_Nile_fever'],\n",
       "       ['Rift_Valley_fever', 'Plague', 'Dengue'],\n",
       "       ['Dengue', 'Chikungunya', 'Rift_Valley_fever'],\n",
       "       ['Zika', 'Japanese_encephalitis', 'Yellow_Fever'],\n",
       "       ['Zika', 'Yellow_Fever', 'Japanese_encephalitis'],\n",
       "       ['Yellow_Fever', 'Japanese_encephalitis', 'Zika'],\n",
       "       ['Chikungunya', 'Dengue', 'Tungiasis'],\n",
       "       ['Tungiasis', 'Dengue', 'Rift_Valley_fever'],\n",
       "       ['Plague', 'Malaria', 'Japanese_encephalitis'],\n",
       "       ['Japanese_encephalitis', 'West_Nile_fever', 'Rift_Valley_fever'],\n",
       "       ['Plague', 'Yellow_Fever', 'Zika'],\n",
       "       ['Japanese_encephalitis', 'West_Nile_fever', 'Lyme_disease'],\n",
       "       ['Dengue', 'Chikungunya', 'Tungiasis'],\n",
       "       ['Japanese_encephalitis', 'West_Nile_fever', 'Zika'],\n",
       "       ['Yellow_Fever', 'Zika', 'Plague'],\n",
       "       ['Lyme_disease', 'Plague', 'Dengue'],\n",
       "       ['Plague', 'Yellow_Fever', 'West_Nile_fever'],\n",
       "       ['Rift_Valley_fever', 'West_Nile_fever', 'Dengue'],\n",
       "       ['West_Nile_fever', 'Rift_Valley_fever', 'Yellow_Fever'],\n",
       "       ['Yellow_Fever', 'Plague', 'West_Nile_fever'],\n",
       "       ['Dengue', 'West_Nile_fever', 'Malaria'],\n",
       "       ['Zika', 'Yellow_Fever', 'West_Nile_fever'],\n",
       "       ['Malaria', 'Rift_Valley_fever', 'Dengue'],\n",
       "       ['Yellow_Fever', 'Japanese_encephalitis', 'Zika'],\n",
       "       ['Zika', 'Yellow_Fever', 'West_Nile_fever'],\n",
       "       ['Tungiasis', 'Dengue', 'Rift_Valley_fever'],\n",
       "       ['Yellow_Fever', 'Plague', 'Zika'],\n",
       "       ['Japanese_encephalitis', 'West_Nile_fever', 'Zika'],\n",
       "       ['Malaria', 'Lyme_disease', 'Plague'],\n",
       "       ['Yellow_Fever', 'Zika', 'West_Nile_fever'],\n",
       "       ['Yellow_Fever', 'Zika', 'Plague'],\n",
       "       ['Chikungunya', 'Tungiasis', 'Dengue'],\n",
       "       ['Plague', 'Japanese_encephalitis', 'Zika'],\n",
       "       ['Tungiasis', 'Dengue', 'Rift_Valley_fever'],\n",
       "       ['Tungiasis', 'Japanese_encephalitis', 'Yellow_Fever'],\n",
       "       ['Dengue', 'Tungiasis', 'Rift_Valley_fever'],\n",
       "       ['Yellow_Fever', 'Zika', 'Japanese_encephalitis'],\n",
       "       ['Dengue', 'West_Nile_fever', 'Rift_Valley_fever'],\n",
       "       ['Rift_Valley_fever', 'Plague', 'Zika'],\n",
       "       ['Plague', 'Japanese_encephalitis', 'Rift_Valley_fever'],\n",
       "       ['Dengue', 'Rift_Valley_fever', 'Plague'],\n",
       "       ['Malaria', 'West_Nile_fever', 'Plague'],\n",
       "       ['Lyme_disease', 'Plague', 'Zika'],\n",
       "       ['Japanese_encephalitis', 'Zika', 'Rift_Valley_fever'],\n",
       "       ['Zika', 'Yellow_Fever', 'Plague'],\n",
       "       ['Lyme_disease', 'West_Nile_fever', 'Plague'],\n",
       "       ['Rift_Valley_fever', 'West_Nile_fever', 'Japanese_encephalitis'],\n",
       "       ['West_Nile_fever', 'Zika', 'Yellow_Fever'],\n",
       "       ['Yellow_Fever', 'Zika', 'Japanese_encephalitis'],\n",
       "       ['Yellow_Fever', 'Zika', 'Japanese_encephalitis'],\n",
       "       ['Yellow_Fever', 'Japanese_encephalitis', 'Zika'],\n",
       "       ['Tungiasis', 'Dengue', 'Rift_Valley_fever'],\n",
       "       ['Plague', 'Zika', 'Malaria'],\n",
       "       ['Yellow_Fever', 'Zika', 'Japanese_encephalitis'],\n",
       "       ['Rift_Valley_fever', 'Dengue', 'West_Nile_fever'],\n",
       "       ['Lyme_disease', 'Plague', 'West_Nile_fever'],\n",
       "       ['Rift_Valley_fever', 'Dengue', 'West_Nile_fever'],\n",
       "       ['Yellow_Fever', 'Zika', 'Plague'],\n",
       "       ['Yellow_Fever', 'Tungiasis', 'Japanese_encephalitis'],\n",
       "       ['Malaria', 'West_Nile_fever', 'Japanese_encephalitis'],\n",
       "       ['Plague', 'Lyme_disease', 'West_Nile_fever'],\n",
       "       ['Yellow_Fever', 'Plague', 'Zika'],\n",
       "       ['Yellow_Fever', 'Zika', 'Japanese_encephalitis'],\n",
       "       ['Dengue', 'Rift_Valley_fever', 'West_Nile_fever'],\n",
       "       ['Chikungunya', 'Dengue', 'Rift_Valley_fever'],\n",
       "       ['Lyme_disease', 'Rift_Valley_fever', 'Dengue'],\n",
       "       ['Tungiasis', 'Dengue', 'Rift_Valley_fever'],\n",
       "       ['Yellow_Fever', 'Plague', 'Zika'],\n",
       "       ['Dengue', 'Malaria', 'Rift_Valley_fever'],\n",
       "       ['Chikungunya', 'Dengue', 'Rift_Valley_fever'],\n",
       "       ['Zika', 'Japanese_encephalitis', 'Plague'],\n",
       "       ['West_Nile_fever', 'Rift_Valley_fever', 'Dengue'],\n",
       "       ['Tungiasis', 'Dengue', 'Rift_Valley_fever'],\n",
       "       ['Yellow_Fever', 'Plague', 'Zika'],\n",
       "       ['Dengue', 'Japanese_encephalitis', 'Rift_Valley_fever'],\n",
       "       ['Dengue', 'Rift_Valley_fever', 'West_Nile_fever'],\n",
       "       ['West_Nile_fever', 'Dengue', 'Rift_Valley_fever'],\n",
       "       ['Tungiasis', 'Dengue', 'Rift_Valley_fever'],\n",
       "       ['Chikungunya', 'Dengue', 'Rift_Valley_fever'],\n",
       "       ['Chikungunya', 'Dengue', 'West_Nile_fever'],\n",
       "       ['Dengue', 'Tungiasis', 'Rift_Valley_fever'],\n",
       "       ['Chikungunya', 'Dengue', 'Rift_Valley_fever'],\n",
       "       ['Yellow_Fever', 'Japanese_encephalitis', 'Plague'],\n",
       "       ['Japanese_encephalitis', 'Lyme_disease', 'West_Nile_fever'],\n",
       "       ['Yellow_Fever', 'Japanese_encephalitis', 'West_Nile_fever'],\n",
       "       ['Chikungunya', 'Rift_Valley_fever', 'Dengue'],\n",
       "       ['Chikungunya', 'Dengue', 'Tungiasis'],\n",
       "       ['Dengue', 'Tungiasis', 'Rift_Valley_fever'],\n",
       "       ['Yellow_Fever', 'Plague', 'West_Nile_fever'],\n",
       "       ['Rift_Valley_fever', 'West_Nile_fever', 'Plague'],\n",
       "       ['Dengue', 'Tungiasis', 'Rift_Valley_fever'],\n",
       "       ['Rift_Valley_fever', 'West_Nile_fever', 'Lyme_disease'],\n",
       "       ['Chikungunya', 'Dengue', 'West_Nile_fever'],\n",
       "       ['Yellow_Fever', 'West_Nile_fever', 'Zika'],\n",
       "       ['Yellow_Fever', 'Zika', 'Plague'],\n",
       "       ['Tungiasis', 'Dengue', 'Rift_Valley_fever'],\n",
       "       ['West_Nile_fever', 'Dengue', 'Rift_Valley_fever'],\n",
       "       ['Chikungunya', 'Dengue', 'Japanese_encephalitis'],\n",
       "       ['West_Nile_fever', 'Japanese_encephalitis', 'Plague'],\n",
       "       ['Plague', 'Yellow_Fever', 'Zika'],\n",
       "       ['Dengue', 'Rift_Valley_fever', 'Malaria'],\n",
       "       ['Chikungunya', 'Dengue', 'Tungiasis'],\n",
       "       ['Yellow_Fever', 'Plague', 'Japanese_encephalitis'],\n",
       "       ['Plague', 'Lyme_disease', 'Japanese_encephalitis'],\n",
       "       ['Dengue', 'Chikungunya', 'Rift_Valley_fever'],\n",
       "       ['Zika', 'Japanese_encephalitis', 'Yellow_Fever'],\n",
       "       ['Rift_Valley_fever', 'West_Nile_fever', 'Dengue'],\n",
       "       ['Yellow_Fever', 'Plague', 'Japanese_encephalitis'],\n",
       "       ['Yellow_Fever', 'Plague', 'Rift_Valley_fever']], dtype=object)"
      ]
     },
     "execution_count": 12,
     "metadata": {},
     "output_type": "execute_result"
    }
   ],
   "source": [
    "top_3_prediction_ids = sorted_prediction_ids[:,:3]\n",
    "top_3_predictions = enc.inverse_transform(top_3_prediction_ids.reshape(-1, 1))\n",
    "top_3_predictions = top_3_predictions.reshape(original_shape)# inverse_transform expects a 2D array, so we reshape our vector (but this won't be necessary when we run on multiple predictions at once)\n",
    "top_3_predictions\n",
    "# We got a list of 3 predictions! Great!"
   ]
  },
  {
   "cell_type": "code",
   "execution_count": 13,
   "id": "9e0c2819",
   "metadata": {
    "execution": {
     "iopub.execute_input": "2023-04-19T05:42:09.148340Z",
     "iopub.status.busy": "2023-04-19T05:42:09.147925Z",
     "iopub.status.idle": "2023-04-19T05:42:09.159283Z",
     "shell.execute_reply": "2023-04-19T05:42:09.157454Z"
    },
    "papermill": {
     "duration": 0.023912,
     "end_time": "2023-04-19T05:42:09.162511",
     "exception": false,
     "start_time": "2023-04-19T05:42:09.138599",
     "status": "completed"
    },
    "tags": []
   },
   "outputs": [],
   "source": [
    "import numpy as np\n",
    "\n",
    "def apk(actual, predicted, k=10):\n",
    "    \"\"\"\n",
    "    Computes the average precision at k.\n",
    "    This function computes the average prescision at k between two lists of\n",
    "    items.\n",
    "    Parameters\n",
    "    ----------\n",
    "    actual : list\n",
    "             A list of elements that are to be predicted (order doesn't matter)\n",
    "    predicted : list\n",
    "                A list of predicted elements (order does matter)\n",
    "    k : int, optional\n",
    "        The maximum number of predicted elements\n",
    "    Returns\n",
    "    -------\n",
    "    score : double\n",
    "            The average precision at k over the input lists\n",
    "    \"\"\"\n",
    "    if len(predicted)>k:\n",
    "        predicted = predicted[:k]\n",
    "\n",
    "    score = 0.0\n",
    "    num_hits = 0.0\n",
    "\n",
    "    for i,p in enumerate(predicted):\n",
    "        if p in actual and p not in predicted[:i]:\n",
    "            num_hits += 1.0\n",
    "            score += num_hits / (i+1.0)\n",
    "\n",
    "    if not actual:\n",
    "        return 0.0\n",
    "\n",
    "    return score / min(len(actual), k)\n",
    "\n",
    "def mapk(actual, predicted, k=10):\n",
    "    \"\"\"\n",
    "    Computes the mean average precision at k.\n",
    "    This function computes the mean average prescision at k between two lists\n",
    "    of lists of items.\n",
    "    Parameters\n",
    "    ----------\n",
    "    actual : list\n",
    "             A list of lists of elements that are to be predicted \n",
    "             (order doesn't matter in the lists)\n",
    "    predicted : list\n",
    "                A list of lists of predicted elements\n",
    "                (order matters in the lists)\n",
    "    k : int, optional\n",
    "        The maximum number of predicted elements\n",
    "    Returns\n",
    "    -------\n",
    "    score : double\n",
    "            The mean average precision at k over the input lists\n",
    "    \"\"\"\n",
    "    return np.mean([apk(a,p,k) for a,p in zip(actual, predicted)])\n"
   ]
  },
  {
   "cell_type": "code",
   "execution_count": 14,
   "id": "a9e03604",
   "metadata": {
    "execution": {
     "iopub.execute_input": "2023-04-19T05:42:09.180570Z",
     "iopub.status.busy": "2023-04-19T05:42:09.180177Z",
     "iopub.status.idle": "2023-04-19T05:42:09.190974Z",
     "shell.execute_reply": "2023-04-19T05:42:09.189819Z"
    },
    "papermill": {
     "duration": 0.022467,
     "end_time": "2023-04-19T05:42:09.193277",
     "exception": false,
     "start_time": "2023-04-19T05:42:09.170810",
     "status": "completed"
    },
    "tags": []
   },
   "outputs": [
    {
     "data": {
      "text/plain": [
       "0.34557438794726925"
      ]
     },
     "execution_count": 14,
     "metadata": {},
     "output_type": "execute_result"
    }
   ],
   "source": [
    "# Our MAP@K score here is ~0.3456\n",
    "mapk(y_test.values.reshape(-1, 1), top_3_prediction_ids, k=3)"
   ]
  },
  {
   "cell_type": "code",
   "execution_count": 15,
   "id": "cd2beb8e",
   "metadata": {
    "execution": {
     "iopub.execute_input": "2023-04-19T05:42:09.210431Z",
     "iopub.status.busy": "2023-04-19T05:42:09.210007Z",
     "iopub.status.idle": "2023-04-19T05:42:09.216004Z",
     "shell.execute_reply": "2023-04-19T05:42:09.214824Z"
    },
    "papermill": {
     "duration": 0.017285,
     "end_time": "2023-04-19T05:42:09.218310",
     "exception": false,
     "start_time": "2023-04-19T05:42:09.201025",
     "status": "completed"
    },
    "tags": []
   },
   "outputs": [],
   "source": [
    "# kfold = KFold(n_splits=5, shuffle=True, random_state=42)\n",
    "# pred_xgb = np.zeros(df_test.shape[0])\n",
    "\n",
    "\n",
    "\n",
    "# roc_xgb = []# list contains rmse for each fold\n",
    "# n=0\n",
    "\n",
    "# for i, (train_index, valid_index) in enumerate(kfold.split(X, y)):\n",
    "#     x_train, y_train = X.iloc[train_index], y.iloc[train_index]\n",
    "#     x_valid, y_valid = X.loc[valid_index], y.iloc[valid_index]\n",
    "    \n",
    "\n",
    "    \n",
    "#     # XGBoost regressor\n",
    "#     model_xgb = XGBClassifier(\n",
    "#                           colsample_bytree = 0.5, \n",
    "#                           gamma = 1, \n",
    "#                           learning_rate = 0.01, \n",
    "#                           max_depth = 4, \n",
    "#                           min_child_weight = 8, \n",
    "#                           n_estimators = 500, \n",
    "#                           subsample = 0.6, random_state=42).fit(x_train, y_train)\n",
    "    \n",
    "#     # Now let's look at doing the above for a whole set of predictions at once:\n",
    "#     sorted_prediction_ids = np.argsort(-predictions, axis=1)\n",
    "#     top_3_prediction_ids = sorted_prediction_ids[:,:3]\n",
    "\n",
    "#     # Because enc.inverse_transform expects a specific shape (a 2D array with 1 column) we can save the original shape to reshape to after decoding\n",
    "#     original_shape = top_3_prediction_ids.shape\n",
    "#     top_3_predictions = enc.inverse_transform(top_3_prediction_ids.reshape(-1, 1))\n",
    "#     top_3_predictions = top_3_predictions.reshape(original_shape)\n",
    "    \n",
    "#     pred_xgb+= model_xgb.predict_proba(df_test)/kfold.n_splits\n",
    "#     val_pred = model_xgb.predict_proba(x_valid)\n",
    "#     roc_xgb.append(roc_auc_score(y_valid, val_pred))\n",
    "    \n",
    "\n",
    "#     print(f\"fold: {n+1} roc XGB Classifier: {roc_xgb[n]}\")\n",
    "#     n+=1\n",
    "# print(f\"final rmsle is :{np.mean(roc_xgb)}\")"
   ]
  },
  {
   "cell_type": "code",
   "execution_count": 16,
   "id": "994dbf7d",
   "metadata": {
    "execution": {
     "iopub.execute_input": "2023-04-19T05:42:09.235496Z",
     "iopub.status.busy": "2023-04-19T05:42:09.235088Z",
     "iopub.status.idle": "2023-04-19T05:42:09.240113Z",
     "shell.execute_reply": "2023-04-19T05:42:09.238863Z"
    },
    "papermill": {
     "duration": 0.016397,
     "end_time": "2023-04-19T05:42:09.242406",
     "exception": false,
     "start_time": "2023-04-19T05:42:09.226009",
     "status": "completed"
    },
    "tags": []
   },
   "outputs": [],
   "source": [
    "# kfold = KFold(n_splits=8, shuffle=True, random_state=42)"
   ]
  },
  {
   "cell_type": "code",
   "execution_count": 17,
   "id": "e4b66a5a",
   "metadata": {
    "execution": {
     "iopub.execute_input": "2023-04-19T05:42:09.259673Z",
     "iopub.status.busy": "2023-04-19T05:42:09.259220Z",
     "iopub.status.idle": "2023-04-19T05:42:09.264977Z",
     "shell.execute_reply": "2023-04-19T05:42:09.263179Z"
    },
    "papermill": {
     "duration": 0.017651,
     "end_time": "2023-04-19T05:42:09.267684",
     "exception": false,
     "start_time": "2023-04-19T05:42:09.250033",
     "status": "completed"
    },
    "tags": []
   },
   "outputs": [],
   "source": [
    "# kfold.n_splits"
   ]
  }
 ],
 "metadata": {
  "kernelspec": {
   "display_name": "Python 3",
   "language": "python",
   "name": "python3"
  },
  "language_info": {
   "codemirror_mode": {
    "name": "ipython",
    "version": 3
   },
   "file_extension": ".py",
   "mimetype": "text/x-python",
   "name": "python",
   "nbconvert_exporter": "python",
   "pygments_lexer": "ipython3",
   "version": "3.7.12"
  },
  "papermill": {
   "default_parameters": {},
   "duration": 14.809482,
   "end_time": "2023-04-19T05:42:10.098737",
   "environment_variables": {},
   "exception": null,
   "input_path": "__notebook__.ipynb",
   "output_path": "__notebook__.ipynb",
   "parameters": {},
   "start_time": "2023-04-19T05:41:55.289255",
   "version": "2.4.0"
  }
 },
 "nbformat": 4,
 "nbformat_minor": 5
}
