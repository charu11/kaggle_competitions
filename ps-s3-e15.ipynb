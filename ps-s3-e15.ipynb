{
 "cells": [
  {
   "cell_type": "code",
   "execution_count": 1,
   "id": "59d44928",
   "metadata": {
    "_cell_guid": "b1076dfc-b9ad-4769-8c92-a6c4dae69d19",
    "_uuid": "8f2839f25d086af736a60e9eeb907d3b93b6e0e5",
    "execution": {
     "iopub.execute_input": "2023-05-22T17:36:14.908410Z",
     "iopub.status.busy": "2023-05-22T17:36:14.908087Z",
     "iopub.status.idle": "2023-05-22T17:36:16.157409Z",
     "shell.execute_reply": "2023-05-22T17:36:16.156151Z"
    },
    "papermill": {
     "duration": 1.257492,
     "end_time": "2023-05-22T17:36:16.159238",
     "exception": false,
     "start_time": "2023-05-22T17:36:14.901746",
     "status": "completed"
    },
    "tags": []
   },
   "outputs": [
    {
     "name": "stderr",
     "output_type": "stream",
     "text": [
      "/opt/conda/lib/python3.10/site-packages/scipy/__init__.py:146: UserWarning: A NumPy version >=1.16.5 and <1.23.0 is required for this version of SciPy (detected version 1.23.5\n",
      "  warnings.warn(f\"A NumPy version >={np_minversion} and <{np_maxversion}\"\n"
     ]
    },
    {
     "name": "stdout",
     "output_type": "stream",
     "text": [
      "/kaggle/input/playground-series-s3e15/sample_submission.csv\n",
      "/kaggle/input/playground-series-s3e15/data.csv\n"
     ]
    }
   ],
   "source": [
    "# This Python 3 environment comes with many helpful analytics libraries installed\n",
    "# It is defined by the kaggle/python Docker image: https://github.com/kaggle/docker-python\n",
    "# For example, here's several helpful packages to load\n",
    "\n",
    "import numpy as np # linear algebra\n",
    "import pandas as pd # data processing, CSV file I/O (e.g. pd.read_csv)\n",
    "\n",
    "\n",
    "from sklearn.experimental import enable_iterative_imputer\n",
    "from sklearn.impute import IterativeImputer\n",
    "from sklearn.impute import SimpleImputer\n",
    "\n",
    "# Input data files are available in the read-only \"../input/\" directory\n",
    "# For example, running this (by clicking run or pressing Shift+Enter) will list all files under the input directory\n",
    "\n",
    "import os\n",
    "for dirname, _, filenames in os.walk('/kaggle/input'):\n",
    "    for filename in filenames:\n",
    "        print(os.path.join(dirname, filename))\n",
    "\n",
    "# You can write up to 20GB to the current directory (/kaggle/working/) that gets preserved as output when you create a version using \"Save & Run All\" \n",
    "# You can also write temporary files to /kaggle/temp/, but they won't be saved outside of the current session"
   ]
  },
  {
   "cell_type": "markdown",
   "id": "5cc2f179",
   "metadata": {
    "papermill": {
     "duration": 0.004119,
     "end_time": "2023-05-22T17:36:16.168050",
     "exception": false,
     "start_time": "2023-05-22T17:36:16.163931",
     "status": "completed"
    },
    "tags": []
   },
   "source": [
    "### Import the data"
   ]
  },
  {
   "cell_type": "code",
   "execution_count": 2,
   "id": "ffd0dbf8",
   "metadata": {
    "execution": {
     "iopub.execute_input": "2023-05-22T17:36:16.177848Z",
     "iopub.status.busy": "2023-05-22T17:36:16.177541Z",
     "iopub.status.idle": "2023-05-22T17:36:16.265187Z",
     "shell.execute_reply": "2023-05-22T17:36:16.264047Z"
    },
    "papermill": {
     "duration": 0.094983,
     "end_time": "2023-05-22T17:36:16.267216",
     "exception": false,
     "start_time": "2023-05-22T17:36:16.172233",
     "status": "completed"
    },
    "tags": []
   },
   "outputs": [
    {
     "data": {
      "text/html": [
       "<div>\n",
       "<style scoped>\n",
       "    .dataframe tbody tr th:only-of-type {\n",
       "        vertical-align: middle;\n",
       "    }\n",
       "\n",
       "    .dataframe tbody tr th {\n",
       "        vertical-align: top;\n",
       "    }\n",
       "\n",
       "    .dataframe thead th {\n",
       "        text-align: right;\n",
       "    }\n",
       "</style>\n",
       "<table border=\"1\" class=\"dataframe\">\n",
       "  <thead>\n",
       "    <tr style=\"text-align: right;\">\n",
       "      <th></th>\n",
       "      <th>id</th>\n",
       "      <th>author</th>\n",
       "      <th>geometry</th>\n",
       "      <th>pressure [MPa]</th>\n",
       "      <th>mass_flux [kg/m2-s]</th>\n",
       "      <th>x_e_out [-]</th>\n",
       "      <th>D_e [mm]</th>\n",
       "      <th>D_h [mm]</th>\n",
       "      <th>length [mm]</th>\n",
       "      <th>chf_exp [MW/m2]</th>\n",
       "    </tr>\n",
       "  </thead>\n",
       "  <tbody>\n",
       "    <tr>\n",
       "      <th>0</th>\n",
       "      <td>0</td>\n",
       "      <td>Thompson</td>\n",
       "      <td>tube</td>\n",
       "      <td>7.00</td>\n",
       "      <td>3770.0</td>\n",
       "      <td>0.1754</td>\n",
       "      <td>NaN</td>\n",
       "      <td>10.8</td>\n",
       "      <td>432.0</td>\n",
       "      <td>3.6</td>\n",
       "    </tr>\n",
       "    <tr>\n",
       "      <th>1</th>\n",
       "      <td>1</td>\n",
       "      <td>Thompson</td>\n",
       "      <td>tube</td>\n",
       "      <td>NaN</td>\n",
       "      <td>6049.0</td>\n",
       "      <td>-0.0416</td>\n",
       "      <td>10.3</td>\n",
       "      <td>10.3</td>\n",
       "      <td>762.0</td>\n",
       "      <td>6.2</td>\n",
       "    </tr>\n",
       "    <tr>\n",
       "      <th>2</th>\n",
       "      <td>2</td>\n",
       "      <td>Thompson</td>\n",
       "      <td>NaN</td>\n",
       "      <td>13.79</td>\n",
       "      <td>2034.0</td>\n",
       "      <td>0.0335</td>\n",
       "      <td>7.7</td>\n",
       "      <td>7.7</td>\n",
       "      <td>457.0</td>\n",
       "      <td>2.5</td>\n",
       "    </tr>\n",
       "    <tr>\n",
       "      <th>3</th>\n",
       "      <td>3</td>\n",
       "      <td>Beus</td>\n",
       "      <td>annulus</td>\n",
       "      <td>13.79</td>\n",
       "      <td>3679.0</td>\n",
       "      <td>-0.0279</td>\n",
       "      <td>5.6</td>\n",
       "      <td>15.2</td>\n",
       "      <td>2134.0</td>\n",
       "      <td>3.0</td>\n",
       "    </tr>\n",
       "    <tr>\n",
       "      <th>4</th>\n",
       "      <td>4</td>\n",
       "      <td>NaN</td>\n",
       "      <td>tube</td>\n",
       "      <td>13.79</td>\n",
       "      <td>686.0</td>\n",
       "      <td>NaN</td>\n",
       "      <td>11.1</td>\n",
       "      <td>11.1</td>\n",
       "      <td>457.0</td>\n",
       "      <td>2.8</td>\n",
       "    </tr>\n",
       "  </tbody>\n",
       "</table>\n",
       "</div>"
      ],
      "text/plain": [
       "   id    author geometry  pressure [MPa]  mass_flux [kg/m2-s]  x_e_out [-]  \\\n",
       "0   0  Thompson     tube            7.00               3770.0       0.1754   \n",
       "1   1  Thompson     tube             NaN               6049.0      -0.0416   \n",
       "2   2  Thompson      NaN           13.79               2034.0       0.0335   \n",
       "3   3      Beus  annulus           13.79               3679.0      -0.0279   \n",
       "4   4       NaN     tube           13.79                686.0          NaN   \n",
       "\n",
       "   D_e [mm]  D_h [mm]  length [mm]  chf_exp [MW/m2]  \n",
       "0       NaN      10.8        432.0              3.6  \n",
       "1      10.3      10.3        762.0              6.2  \n",
       "2       7.7       7.7        457.0              2.5  \n",
       "3       5.6      15.2       2134.0              3.0  \n",
       "4      11.1      11.1        457.0              2.8  "
      ]
     },
     "execution_count": 2,
     "metadata": {},
     "output_type": "execute_result"
    }
   ],
   "source": [
    "df = pd.read_csv('/kaggle/input/playground-series-s3e15/data.csv')\n",
    "df.head()"
   ]
  },
  {
   "cell_type": "code",
   "execution_count": 3,
   "id": "1dbc6d96",
   "metadata": {
    "execution": {
     "iopub.execute_input": "2023-05-22T17:36:16.277816Z",
     "iopub.status.busy": "2023-05-22T17:36:16.277536Z",
     "iopub.status.idle": "2023-05-22T17:36:16.283620Z",
     "shell.execute_reply": "2023-05-22T17:36:16.282619Z"
    },
    "papermill": {
     "duration": 0.01346,
     "end_time": "2023-05-22T17:36:16.285427",
     "exception": false,
     "start_time": "2023-05-22T17:36:16.271967",
     "status": "completed"
    },
    "tags": []
   },
   "outputs": [
    {
     "data": {
      "text/plain": [
       "31644"
      ]
     },
     "execution_count": 3,
     "metadata": {},
     "output_type": "execute_result"
    }
   ],
   "source": [
    "len(df)"
   ]
  },
  {
   "cell_type": "markdown",
   "id": "342e6452",
   "metadata": {
    "papermill": {
     "duration": 0.004503,
     "end_time": "2023-05-22T17:36:16.294669",
     "exception": false,
     "start_time": "2023-05-22T17:36:16.290166",
     "status": "completed"
    },
    "tags": []
   },
   "source": [
    "### Check the null values"
   ]
  },
  {
   "cell_type": "code",
   "execution_count": 4,
   "id": "5125db1c",
   "metadata": {
    "execution": {
     "iopub.execute_input": "2023-05-22T17:36:16.305155Z",
     "iopub.status.busy": "2023-05-22T17:36:16.304861Z",
     "iopub.status.idle": "2023-05-22T17:36:16.325017Z",
     "shell.execute_reply": "2023-05-22T17:36:16.324036Z"
    },
    "papermill": {
     "duration": 0.02787,
     "end_time": "2023-05-22T17:36:16.327091",
     "exception": false,
     "start_time": "2023-05-22T17:36:16.299221",
     "status": "completed"
    },
    "tags": []
   },
   "outputs": [
    {
     "data": {
      "text/plain": [
       "id                         0\n",
       "author                  5024\n",
       "geometry                5500\n",
       "pressure [MPa]          4452\n",
       "mass_flux [kg/m2-s]     4791\n",
       "x_e_out [-]            10415\n",
       "D_e [mm]                5488\n",
       "D_h [mm]                4589\n",
       "length [mm]             4759\n",
       "chf_exp [MW/m2]            0\n",
       "dtype: int64"
      ]
     },
     "execution_count": 4,
     "metadata": {},
     "output_type": "execute_result"
    }
   ],
   "source": [
    "df.isnull().sum()"
   ]
  },
  {
   "cell_type": "code",
   "execution_count": 5,
   "id": "4d06963c",
   "metadata": {
    "execution": {
     "iopub.execute_input": "2023-05-22T17:36:16.338929Z",
     "iopub.status.busy": "2023-05-22T17:36:16.337965Z",
     "iopub.status.idle": "2023-05-22T17:36:16.354246Z",
     "shell.execute_reply": "2023-05-22T17:36:16.353337Z"
    },
    "papermill": {
     "duration": 0.024376,
     "end_time": "2023-05-22T17:36:16.356453",
     "exception": false,
     "start_time": "2023-05-22T17:36:16.332077",
     "status": "completed"
    },
    "tags": []
   },
   "outputs": [
    {
     "data": {
      "text/html": [
       "<div>\n",
       "<style scoped>\n",
       "    .dataframe tbody tr th:only-of-type {\n",
       "        vertical-align: middle;\n",
       "    }\n",
       "\n",
       "    .dataframe tbody tr th {\n",
       "        vertical-align: top;\n",
       "    }\n",
       "\n",
       "    .dataframe thead th {\n",
       "        text-align: right;\n",
       "    }\n",
       "</style>\n",
       "<table border=\"1\" class=\"dataframe\">\n",
       "  <thead>\n",
       "    <tr style=\"text-align: right;\">\n",
       "      <th></th>\n",
       "      <th>id</th>\n",
       "      <th>author</th>\n",
       "      <th>geometry</th>\n",
       "      <th>pressure [MPa]</th>\n",
       "      <th>mass_flux [kg/m2-s]</th>\n",
       "      <th>x_e_out [-]</th>\n",
       "      <th>D_e [mm]</th>\n",
       "      <th>D_h [mm]</th>\n",
       "      <th>length [mm]</th>\n",
       "      <th>chf_exp [MW/m2]</th>\n",
       "    </tr>\n",
       "  </thead>\n",
       "  <tbody>\n",
       "    <tr>\n",
       "      <th>0</th>\n",
       "      <td>0</td>\n",
       "      <td>Thompson</td>\n",
       "      <td>tube</td>\n",
       "      <td>7.00</td>\n",
       "      <td>3770.0</td>\n",
       "      <td>0.1754</td>\n",
       "      <td>NaN</td>\n",
       "      <td>10.8</td>\n",
       "      <td>432.0</td>\n",
       "      <td>3.6</td>\n",
       "    </tr>\n",
       "    <tr>\n",
       "      <th>1</th>\n",
       "      <td>1</td>\n",
       "      <td>Thompson</td>\n",
       "      <td>tube</td>\n",
       "      <td>NaN</td>\n",
       "      <td>6049.0</td>\n",
       "      <td>-0.0416</td>\n",
       "      <td>10.3</td>\n",
       "      <td>10.3</td>\n",
       "      <td>762.0</td>\n",
       "      <td>6.2</td>\n",
       "    </tr>\n",
       "    <tr>\n",
       "      <th>2</th>\n",
       "      <td>2</td>\n",
       "      <td>Thompson</td>\n",
       "      <td>NaN</td>\n",
       "      <td>13.79</td>\n",
       "      <td>2034.0</td>\n",
       "      <td>0.0335</td>\n",
       "      <td>7.7</td>\n",
       "      <td>7.7</td>\n",
       "      <td>457.0</td>\n",
       "      <td>2.5</td>\n",
       "    </tr>\n",
       "    <tr>\n",
       "      <th>3</th>\n",
       "      <td>3</td>\n",
       "      <td>Beus</td>\n",
       "      <td>annulus</td>\n",
       "      <td>13.79</td>\n",
       "      <td>3679.0</td>\n",
       "      <td>-0.0279</td>\n",
       "      <td>5.6</td>\n",
       "      <td>15.2</td>\n",
       "      <td>2134.0</td>\n",
       "      <td>3.0</td>\n",
       "    </tr>\n",
       "    <tr>\n",
       "      <th>4</th>\n",
       "      <td>4</td>\n",
       "      <td>NaN</td>\n",
       "      <td>tube</td>\n",
       "      <td>13.79</td>\n",
       "      <td>686.0</td>\n",
       "      <td>NaN</td>\n",
       "      <td>11.1</td>\n",
       "      <td>11.1</td>\n",
       "      <td>457.0</td>\n",
       "      <td>2.8</td>\n",
       "    </tr>\n",
       "  </tbody>\n",
       "</table>\n",
       "</div>"
      ],
      "text/plain": [
       "   id    author geometry  pressure [MPa]  mass_flux [kg/m2-s]  x_e_out [-]  \\\n",
       "0   0  Thompson     tube            7.00               3770.0       0.1754   \n",
       "1   1  Thompson     tube             NaN               6049.0      -0.0416   \n",
       "2   2  Thompson      NaN           13.79               2034.0       0.0335   \n",
       "3   3      Beus  annulus           13.79               3679.0      -0.0279   \n",
       "4   4       NaN     tube           13.79                686.0          NaN   \n",
       "\n",
       "   D_e [mm]  D_h [mm]  length [mm]  chf_exp [MW/m2]  \n",
       "0       NaN      10.8        432.0              3.6  \n",
       "1      10.3      10.3        762.0              6.2  \n",
       "2       7.7       7.7        457.0              2.5  \n",
       "3       5.6      15.2       2134.0              3.0  \n",
       "4      11.1      11.1        457.0              2.8  "
      ]
     },
     "execution_count": 5,
     "metadata": {},
     "output_type": "execute_result"
    }
   ],
   "source": [
    "df.head()"
   ]
  },
  {
   "cell_type": "code",
   "execution_count": 6,
   "id": "5a8f4d36",
   "metadata": {
    "execution": {
     "iopub.execute_input": "2023-05-22T17:36:16.368886Z",
     "iopub.status.busy": "2023-05-22T17:36:16.368170Z",
     "iopub.status.idle": "2023-05-22T17:36:16.398069Z",
     "shell.execute_reply": "2023-05-22T17:36:16.397009Z"
    },
    "papermill": {
     "duration": 0.038221,
     "end_time": "2023-05-22T17:36:16.399900",
     "exception": false,
     "start_time": "2023-05-22T17:36:16.361679",
     "status": "completed"
    },
    "tags": []
   },
   "outputs": [
    {
     "name": "stdout",
     "output_type": "stream",
     "text": [
      "<class 'pandas.core.frame.DataFrame'>\n",
      "RangeIndex: 31644 entries, 0 to 31643\n",
      "Data columns (total 10 columns):\n",
      " #   Column               Non-Null Count  Dtype  \n",
      "---  ------               --------------  -----  \n",
      " 0   id                   31644 non-null  int64  \n",
      " 1   author               26620 non-null  object \n",
      " 2   geometry             26144 non-null  object \n",
      " 3   pressure [MPa]       27192 non-null  float64\n",
      " 4   mass_flux [kg/m2-s]  26853 non-null  float64\n",
      " 5   x_e_out [-]          21229 non-null  float64\n",
      " 6   D_e [mm]             26156 non-null  float64\n",
      " 7   D_h [mm]             27055 non-null  float64\n",
      " 8   length [mm]          26885 non-null  float64\n",
      " 9   chf_exp [MW/m2]      31644 non-null  float64\n",
      "dtypes: float64(7), int64(1), object(2)\n",
      "memory usage: 2.4+ MB\n"
     ]
    }
   ],
   "source": [
    "df.info()"
   ]
  },
  {
   "cell_type": "code",
   "execution_count": 7,
   "id": "fa776fbd",
   "metadata": {
    "execution": {
     "iopub.execute_input": "2023-05-22T17:36:16.411743Z",
     "iopub.status.busy": "2023-05-22T17:36:16.411393Z",
     "iopub.status.idle": "2023-05-22T17:36:16.450875Z",
     "shell.execute_reply": "2023-05-22T17:36:16.449740Z"
    },
    "papermill": {
     "duration": 0.048196,
     "end_time": "2023-05-22T17:36:16.453244",
     "exception": false,
     "start_time": "2023-05-22T17:36:16.405048",
     "status": "completed"
    },
    "tags": []
   },
   "outputs": [
    {
     "data": {
      "text/html": [
       "<div>\n",
       "<style scoped>\n",
       "    .dataframe tbody tr th:only-of-type {\n",
       "        vertical-align: middle;\n",
       "    }\n",
       "\n",
       "    .dataframe tbody tr th {\n",
       "        vertical-align: top;\n",
       "    }\n",
       "\n",
       "    .dataframe thead th {\n",
       "        text-align: right;\n",
       "    }\n",
       "</style>\n",
       "<table border=\"1\" class=\"dataframe\">\n",
       "  <thead>\n",
       "    <tr style=\"text-align: right;\">\n",
       "      <th></th>\n",
       "      <th>id</th>\n",
       "      <th>pressure [MPa]</th>\n",
       "      <th>mass_flux [kg/m2-s]</th>\n",
       "      <th>x_e_out [-]</th>\n",
       "      <th>D_e [mm]</th>\n",
       "      <th>D_h [mm]</th>\n",
       "      <th>length [mm]</th>\n",
       "      <th>chf_exp [MW/m2]</th>\n",
       "    </tr>\n",
       "  </thead>\n",
       "  <tbody>\n",
       "    <tr>\n",
       "      <th>count</th>\n",
       "      <td>31644.000000</td>\n",
       "      <td>27192.000000</td>\n",
       "      <td>26853.000000</td>\n",
       "      <td>21229.000000</td>\n",
       "      <td>26156.000000</td>\n",
       "      <td>27055.000000</td>\n",
       "      <td>26885.000000</td>\n",
       "      <td>31644.000000</td>\n",
       "    </tr>\n",
       "    <tr>\n",
       "      <th>mean</th>\n",
       "      <td>15821.500000</td>\n",
       "      <td>10.640747</td>\n",
       "      <td>3068.011023</td>\n",
       "      <td>-0.000453</td>\n",
       "      <td>8.629255</td>\n",
       "      <td>14.174330</td>\n",
       "      <td>832.987391</td>\n",
       "      <td>3.796985</td>\n",
       "    </tr>\n",
       "    <tr>\n",
       "      <th>std</th>\n",
       "      <td>9134.980296</td>\n",
       "      <td>4.333683</td>\n",
       "      <td>1777.032080</td>\n",
       "      <td>0.100911</td>\n",
       "      <td>5.185692</td>\n",
       "      <td>19.838489</td>\n",
       "      <td>672.299239</td>\n",
       "      <td>1.983991</td>\n",
       "    </tr>\n",
       "    <tr>\n",
       "      <th>min</th>\n",
       "      <td>0.000000</td>\n",
       "      <td>0.100000</td>\n",
       "      <td>0.000000</td>\n",
       "      <td>-0.866700</td>\n",
       "      <td>1.000000</td>\n",
       "      <td>1.000000</td>\n",
       "      <td>10.000000</td>\n",
       "      <td>0.800000</td>\n",
       "    </tr>\n",
       "    <tr>\n",
       "      <th>25%</th>\n",
       "      <td>7910.750000</td>\n",
       "      <td>6.890000</td>\n",
       "      <td>1519.000000</td>\n",
       "      <td>-0.046600</td>\n",
       "      <td>5.000000</td>\n",
       "      <td>5.600000</td>\n",
       "      <td>318.000000</td>\n",
       "      <td>2.400000</td>\n",
       "    </tr>\n",
       "    <tr>\n",
       "      <th>50%</th>\n",
       "      <td>15821.500000</td>\n",
       "      <td>11.070000</td>\n",
       "      <td>2731.000000</td>\n",
       "      <td>0.003800</td>\n",
       "      <td>7.800000</td>\n",
       "      <td>10.000000</td>\n",
       "      <td>610.000000</td>\n",
       "      <td>3.400000</td>\n",
       "    </tr>\n",
       "    <tr>\n",
       "      <th>75%</th>\n",
       "      <td>23732.250000</td>\n",
       "      <td>13.790000</td>\n",
       "      <td>4069.000000</td>\n",
       "      <td>0.064800</td>\n",
       "      <td>10.800000</td>\n",
       "      <td>11.500000</td>\n",
       "      <td>914.000000</td>\n",
       "      <td>4.600000</td>\n",
       "    </tr>\n",
       "    <tr>\n",
       "      <th>max</th>\n",
       "      <td>31643.000000</td>\n",
       "      <td>20.680000</td>\n",
       "      <td>7975.000000</td>\n",
       "      <td>0.232000</td>\n",
       "      <td>37.500000</td>\n",
       "      <td>120.000000</td>\n",
       "      <td>3048.000000</td>\n",
       "      <td>19.300000</td>\n",
       "    </tr>\n",
       "  </tbody>\n",
       "</table>\n",
       "</div>"
      ],
      "text/plain": [
       "                 id  pressure [MPa]  mass_flux [kg/m2-s]   x_e_out [-]  \\\n",
       "count  31644.000000    27192.000000         26853.000000  21229.000000   \n",
       "mean   15821.500000       10.640747          3068.011023     -0.000453   \n",
       "std     9134.980296        4.333683          1777.032080      0.100911   \n",
       "min        0.000000        0.100000             0.000000     -0.866700   \n",
       "25%     7910.750000        6.890000          1519.000000     -0.046600   \n",
       "50%    15821.500000       11.070000          2731.000000      0.003800   \n",
       "75%    23732.250000       13.790000          4069.000000      0.064800   \n",
       "max    31643.000000       20.680000          7975.000000      0.232000   \n",
       "\n",
       "           D_e [mm]      D_h [mm]   length [mm]  chf_exp [MW/m2]  \n",
       "count  26156.000000  27055.000000  26885.000000     31644.000000  \n",
       "mean       8.629255     14.174330    832.987391         3.796985  \n",
       "std        5.185692     19.838489    672.299239         1.983991  \n",
       "min        1.000000      1.000000     10.000000         0.800000  \n",
       "25%        5.000000      5.600000    318.000000         2.400000  \n",
       "50%        7.800000     10.000000    610.000000         3.400000  \n",
       "75%       10.800000     11.500000    914.000000         4.600000  \n",
       "max       37.500000    120.000000   3048.000000        19.300000  "
      ]
     },
     "execution_count": 7,
     "metadata": {},
     "output_type": "execute_result"
    }
   ],
   "source": [
    "df.describe()"
   ]
  },
  {
   "cell_type": "code",
   "execution_count": 8,
   "id": "511c9300",
   "metadata": {
    "execution": {
     "iopub.execute_input": "2023-05-22T17:36:16.465535Z",
     "iopub.status.busy": "2023-05-22T17:36:16.465213Z",
     "iopub.status.idle": "2023-05-22T17:36:16.487131Z",
     "shell.execute_reply": "2023-05-22T17:36:16.486432Z"
    },
    "papermill": {
     "duration": 0.029576,
     "end_time": "2023-05-22T17:36:16.488667",
     "exception": false,
     "start_time": "2023-05-22T17:36:16.459091",
     "status": "completed"
    },
    "tags": []
   },
   "outputs": [
    {
     "data": {
      "text/plain": [
       "0"
      ]
     },
     "execution_count": 8,
     "metadata": {},
     "output_type": "execute_result"
    }
   ],
   "source": [
    "df.duplicated().sum()"
   ]
  },
  {
   "cell_type": "code",
   "execution_count": 9,
   "id": "34a3f475",
   "metadata": {
    "execution": {
     "iopub.execute_input": "2023-05-22T17:36:16.501284Z",
     "iopub.status.busy": "2023-05-22T17:36:16.500519Z",
     "iopub.status.idle": "2023-05-22T17:36:16.512156Z",
     "shell.execute_reply": "2023-05-22T17:36:16.511559Z"
    },
    "papermill": {
     "duration": 0.019522,
     "end_time": "2023-05-22T17:36:16.513615",
     "exception": false,
     "start_time": "2023-05-22T17:36:16.494093",
     "status": "completed"
    },
    "tags": []
   },
   "outputs": [
    {
     "data": {
      "text/plain": [
       "id                     31644\n",
       "author                    10\n",
       "geometry                   3\n",
       "pressure [MPa]           144\n",
       "mass_flux [kg/m2-s]      733\n",
       "x_e_out [-]             1682\n",
       "D_e [mm]                  43\n",
       "D_h [mm]                  49\n",
       "length [mm]               70\n",
       "chf_exp [MW/m2]          109\n",
       "dtype: int64"
      ]
     },
     "execution_count": 9,
     "metadata": {},
     "output_type": "execute_result"
    }
   ],
   "source": [
    "df.nunique()"
   ]
  },
  {
   "cell_type": "code",
   "execution_count": 10,
   "id": "1ff1bfb2",
   "metadata": {
    "execution": {
     "iopub.execute_input": "2023-05-22T17:36:16.525675Z",
     "iopub.status.busy": "2023-05-22T17:36:16.525370Z",
     "iopub.status.idle": "2023-05-22T17:36:16.530240Z",
     "shell.execute_reply": "2023-05-22T17:36:16.529690Z"
    },
    "papermill": {
     "duration": 0.013086,
     "end_time": "2023-05-22T17:36:16.531951",
     "exception": false,
     "start_time": "2023-05-22T17:36:16.518865",
     "status": "completed"
    },
    "tags": []
   },
   "outputs": [],
   "source": [
    "### Rename the columns\n",
    "\n",
    "df = df.rename(columns={'pressure [MPa]': 'pressure', \n",
    "                 'mass_flux [kg/m2-s]': 'mass_flux',\n",
    "                 'x_e_out [-]': 'x_e_out',\n",
    "                 'D_e [mm]': 'D_e',\n",
    "                 'D_h [mm]': 'D_h',\n",
    "                 'length [mm]': 'length',\n",
    "                 'chf_exp [MW/m2]': 'chf_exp'})"
   ]
  },
  {
   "cell_type": "code",
   "execution_count": 11,
   "id": "8cdddf38",
   "metadata": {
    "execution": {
     "iopub.execute_input": "2023-05-22T17:36:16.545629Z",
     "iopub.status.busy": "2023-05-22T17:36:16.544957Z",
     "iopub.status.idle": "2023-05-22T17:36:16.551230Z",
     "shell.execute_reply": "2023-05-22T17:36:16.549965Z"
    },
    "papermill": {
     "duration": 0.015149,
     "end_time": "2023-05-22T17:36:16.553131",
     "exception": false,
     "start_time": "2023-05-22T17:36:16.537982",
     "status": "completed"
    },
    "tags": []
   },
   "outputs": [
    {
     "data": {
      "text/plain": [
       "Index(['id', 'author', 'geometry', 'pressure', 'mass_flux', 'x_e_out', 'D_e',\n",
       "       'D_h', 'length', 'chf_exp'],\n",
       "      dtype='object')"
      ]
     },
     "execution_count": 11,
     "metadata": {},
     "output_type": "execute_result"
    }
   ],
   "source": [
    "df.columns"
   ]
  },
  {
   "cell_type": "markdown",
   "id": "8ac0e631",
   "metadata": {
    "papermill": {
     "duration": 0.005231,
     "end_time": "2023-05-22T17:36:16.564161",
     "exception": false,
     "start_time": "2023-05-22T17:36:16.558930",
     "status": "completed"
    },
    "tags": []
   },
   "source": [
    "### Feature Imputation"
   ]
  },
  {
   "cell_type": "markdown",
   "id": "0b67d497",
   "metadata": {
    "papermill": {
     "duration": 0.005149,
     "end_time": "2023-05-22T17:36:16.574723",
     "exception": false,
     "start_time": "2023-05-22T17:36:16.569574",
     "status": "completed"
    },
    "tags": []
   },
   "source": [
    "## Simple Imputation"
   ]
  },
  {
   "cell_type": "code",
   "execution_count": 12,
   "id": "f52c5676",
   "metadata": {
    "execution": {
     "iopub.execute_input": "2023-05-22T17:36:16.587229Z",
     "iopub.status.busy": "2023-05-22T17:36:16.586877Z",
     "iopub.status.idle": "2023-05-22T17:36:16.590892Z",
     "shell.execute_reply": "2023-05-22T17:36:16.589892Z"
    },
    "papermill": {
     "duration": 0.01326,
     "end_time": "2023-05-22T17:36:16.593306",
     "exception": false,
     "start_time": "2023-05-22T17:36:16.580046",
     "status": "completed"
    },
    "tags": []
   },
   "outputs": [],
   "source": [
    "simple_imputer_cat = SimpleImputer(strategy='most_frequent')\n",
    "simple_imputer_num = SimpleImputer(strategy='mean')"
   ]
  },
  {
   "cell_type": "code",
   "execution_count": 13,
   "id": "56886846",
   "metadata": {
    "execution": {
     "iopub.execute_input": "2023-05-22T17:36:16.609017Z",
     "iopub.status.busy": "2023-05-22T17:36:16.608388Z",
     "iopub.status.idle": "2023-05-22T17:36:16.616158Z",
     "shell.execute_reply": "2023-05-22T17:36:16.613283Z"
    },
    "papermill": {
     "duration": 0.018939,
     "end_time": "2023-05-22T17:36:16.618877",
     "exception": false,
     "start_time": "2023-05-22T17:36:16.599938",
     "status": "completed"
    },
    "tags": []
   },
   "outputs": [],
   "source": [
    "def imputation(data):\n",
    "    df_imp = data.copy()\n",
    "    for i in data.columns:\n",
    "        if data[i].dtypes == 'object':\n",
    "            df_imp[i] = simple_imputer_cat.fit_transform(df_imp[[i]])\n",
    "        else:\n",
    "            df_imp[i] = simple_imputer_num.fit_transform(df_imp[[i]])\n",
    "            \n",
    "    return df_imp"
   ]
  },
  {
   "cell_type": "code",
   "execution_count": 14,
   "id": "1ed2ff8a",
   "metadata": {
    "execution": {
     "iopub.execute_input": "2023-05-22T17:36:16.637562Z",
     "iopub.status.busy": "2023-05-22T17:36:16.637180Z",
     "iopub.status.idle": "2023-05-22T17:36:16.694415Z",
     "shell.execute_reply": "2023-05-22T17:36:16.693649Z"
    },
    "papermill": {
     "duration": 0.069131,
     "end_time": "2023-05-22T17:36:16.696789",
     "exception": false,
     "start_time": "2023-05-22T17:36:16.627658",
     "status": "completed"
    },
    "tags": []
   },
   "outputs": [],
   "source": [
    "### lets drop the target feature\n",
    "df_train = df.drop(columns='x_e_out', axis=1)\n",
    "df_simp = imputation(df_train)"
   ]
  },
  {
   "cell_type": "code",
   "execution_count": 15,
   "id": "211d5ca5",
   "metadata": {
    "execution": {
     "iopub.execute_input": "2023-05-22T17:36:16.709963Z",
     "iopub.status.busy": "2023-05-22T17:36:16.709628Z",
     "iopub.status.idle": "2023-05-22T17:36:16.727267Z",
     "shell.execute_reply": "2023-05-22T17:36:16.726043Z"
    },
    "papermill": {
     "duration": 0.027056,
     "end_time": "2023-05-22T17:36:16.729826",
     "exception": false,
     "start_time": "2023-05-22T17:36:16.702770",
     "status": "completed"
    },
    "tags": []
   },
   "outputs": [
    {
     "data": {
      "text/plain": [
       "id           0\n",
       "author       0\n",
       "geometry     0\n",
       "pressure     0\n",
       "mass_flux    0\n",
       "D_e          0\n",
       "D_h          0\n",
       "length       0\n",
       "chf_exp      0\n",
       "dtype: int64"
      ]
     },
     "execution_count": 15,
     "metadata": {},
     "output_type": "execute_result"
    }
   ],
   "source": [
    "df_simp.isnull().sum()"
   ]
  },
  {
   "cell_type": "code",
   "execution_count": 16,
   "id": "087c3d31",
   "metadata": {
    "execution": {
     "iopub.execute_input": "2023-05-22T17:36:16.742791Z",
     "iopub.status.busy": "2023-05-22T17:36:16.742519Z",
     "iopub.status.idle": "2023-05-22T17:36:16.751665Z",
     "shell.execute_reply": "2023-05-22T17:36:16.750742Z"
    },
    "papermill": {
     "duration": 0.017334,
     "end_time": "2023-05-22T17:36:16.753332",
     "exception": false,
     "start_time": "2023-05-22T17:36:16.735998",
     "status": "completed"
    },
    "tags": []
   },
   "outputs": [
    {
     "name": "stdout",
     "output_type": "stream",
     "text": [
      "[array(['Thompson', 'Beus', nan, 'Peskov', 'Janssen', 'Weatherhead',\n",
      "       'Inasaka', 'Williams', 'Mortimore', 'Richenderfer', 'Kossolapov'],\n",
      "      dtype=object), array(['tube', nan, 'annulus', 'plate'], dtype=object)]\n"
     ]
    }
   ],
   "source": [
    "### get the unique values features. it seems that only 2 features has less categorical values\n",
    "\n",
    "unqiue_features = [df[i].unique() for i in df.columns if df[i].dtypes == 'object']\n",
    "print(unqiue_features)"
   ]
  },
  {
   "cell_type": "code",
   "execution_count": 17,
   "id": "4ed9597a",
   "metadata": {
    "collapsed": true,
    "execution": {
     "iopub.execute_input": "2023-05-22T17:36:16.767416Z",
     "iopub.status.busy": "2023-05-22T17:36:16.766397Z",
     "iopub.status.idle": "2023-05-22T17:36:16.770142Z",
     "shell.execute_reply": "2023-05-22T17:36:16.769474Z"
    },
    "jupyter": {
     "outputs_hidden": true
    },
    "papermill": {
     "duration": 0.012331,
     "end_time": "2023-05-22T17:36:16.771655",
     "exception": false,
     "start_time": "2023-05-22T17:36:16.759324",
     "status": "completed"
    },
    "tags": []
   },
   "outputs": [],
   "source": [
    "# imputer = IterativeImputer(random_state=100, max_iter=10)\n",
    "# imputer.fit(df.iloc[:, :-1])"
   ]
  }
 ],
 "metadata": {
  "kernelspec": {
   "display_name": "Python 3",
   "language": "python",
   "name": "python3"
  },
  "language_info": {
   "codemirror_mode": {
    "name": "ipython",
    "version": 3
   },
   "file_extension": ".py",
   "mimetype": "text/x-python",
   "name": "python",
   "nbconvert_exporter": "python",
   "pygments_lexer": "ipython3",
   "version": "3.10.10"
  },
  "papermill": {
   "default_parameters": {},
   "duration": 11.208534,
   "end_time": "2023-05-22T17:36:17.698740",
   "environment_variables": {},
   "exception": null,
   "input_path": "__notebook__.ipynb",
   "output_path": "__notebook__.ipynb",
   "parameters": {},
   "start_time": "2023-05-22T17:36:06.490206",
   "version": "2.4.0"
  }
 },
 "nbformat": 4,
 "nbformat_minor": 5
}
