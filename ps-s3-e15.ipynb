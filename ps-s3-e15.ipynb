{
 "cells": [
  {
   "cell_type": "code",
   "execution_count": 1,
   "id": "39e2cac8",
   "metadata": {
    "_cell_guid": "b1076dfc-b9ad-4769-8c92-a6c4dae69d19",
    "_uuid": "8f2839f25d086af736a60e9eeb907d3b93b6e0e5",
    "execution": {
     "iopub.execute_input": "2023-05-27T16:19:58.563531Z",
     "iopub.status.busy": "2023-05-27T16:19:58.563168Z",
     "iopub.status.idle": "2023-05-27T16:20:02.775614Z",
     "shell.execute_reply": "2023-05-27T16:20:02.773826Z"
    },
    "papermill": {
     "duration": 4.226361,
     "end_time": "2023-05-27T16:20:02.778913",
     "exception": false,
     "start_time": "2023-05-27T16:19:58.552552",
     "status": "completed"
    },
    "tags": []
   },
   "outputs": [
    {
     "name": "stderr",
     "output_type": "stream",
     "text": [
      "/opt/conda/lib/python3.10/site-packages/scipy/__init__.py:146: UserWarning: A NumPy version >=1.16.5 and <1.23.0 is required for this version of SciPy (detected version 1.23.5\n",
      "  warnings.warn(f\"A NumPy version >={np_minversion} and <{np_maxversion}\"\n"
     ]
    },
    {
     "name": "stdout",
     "output_type": "stream",
     "text": [
      "/kaggle/input/playground-series-s3e15/sample_submission.csv\n",
      "/kaggle/input/playground-series-s3e15/data.csv\n"
     ]
    }
   ],
   "source": [
    "# This Python 3 environment comes with many helpful analytics libraries installed\n",
    "# It is defined by the kaggle/python Docker image: https://github.com/kaggle/docker-python\n",
    "# For example, here's several helpful packages to load\n",
    "\n",
    "import numpy as np # linear algebra\n",
    "import pandas as pd # data processing, CSV file I/O (e.g. pd.read_csv)\n",
    "\n",
    "import matplotlib.pyplot as plt\n",
    "import seaborn as sns\n",
    "from sklearn.model_selection import train_test_split,  StratifiedKFold, KFold,GridSearchCV, cross_val_score\n",
    "from sklearn.inspection import permutation_importance\n",
    "from sklearn.preprocessing import  PolynomialFeatures\n",
    "from sklearn.tree import DecisionTreeRegressor\n",
    "from sklearn.ensemble import RandomForestRegressor\n",
    "from sklearn.ensemble import GradientBoostingRegressor\n",
    "from sklearn import datasets, ensemble\n",
    "from catboost import CatBoostRegressor\n",
    "from sklearn.metrics import mean_squared_error\n",
    "# import xgboost import XGBRegressor\n",
    "from xgboost import XGBRegressor\n",
    "from lightgbm import LGBMRegressor\n",
    "from sklearn.ensemble import VotingRegressor\n",
    "from sklearn.ensemble import HistGradientBoostingRegressor\n",
    "from sklearn.experimental import enable_iterative_imputer\n",
    "from sklearn.impute import IterativeImputer\n",
    "from sklearn.impute import SimpleImputer\n",
    "import warnings \n",
    "warnings.filterwarnings(\"ignore\")\n",
    "\n",
    "# Input data files are available in the read-only \"../input/\" directory\n",
    "# For example, running this (by clicking run or pressing Shift+Enter) will list all files under the input directory\n",
    "\n",
    "import os\n",
    "for dirname, _, filenames in os.walk('/kaggle/input'):\n",
    "    for filename in filenames:\n",
    "        print(os.path.join(dirname, filename))\n",
    "\n",
    "# You can write up to 20GB to the current directory (/kaggle/working/) that gets preserved as output when you create a version using \"Save & Run All\" \n",
    "# You can also write temporary files to /kaggle/temp/, but they won't be saved outside of the current session"
   ]
  },
  {
   "cell_type": "markdown",
   "id": "a0e8b6ec",
   "metadata": {
    "papermill": {
     "duration": 0.00872,
     "end_time": "2023-05-27T16:20:02.796993",
     "exception": false,
     "start_time": "2023-05-27T16:20:02.788273",
     "status": "completed"
    },
    "tags": []
   },
   "source": [
    "### Import the data"
   ]
  },
  {
   "cell_type": "code",
   "execution_count": 2,
   "id": "5deac706",
   "metadata": {
    "execution": {
     "iopub.execute_input": "2023-05-27T16:20:02.817200Z",
     "iopub.status.busy": "2023-05-27T16:20:02.816788Z",
     "iopub.status.idle": "2023-05-27T16:20:02.910542Z",
     "shell.execute_reply": "2023-05-27T16:20:02.909332Z"
    },
    "papermill": {
     "duration": 0.106757,
     "end_time": "2023-05-27T16:20:02.912970",
     "exception": false,
     "start_time": "2023-05-27T16:20:02.806213",
     "status": "completed"
    },
    "tags": []
   },
   "outputs": [
    {
     "data": {
      "text/html": [
       "<div>\n",
       "<style scoped>\n",
       "    .dataframe tbody tr th:only-of-type {\n",
       "        vertical-align: middle;\n",
       "    }\n",
       "\n",
       "    .dataframe tbody tr th {\n",
       "        vertical-align: top;\n",
       "    }\n",
       "\n",
       "    .dataframe thead th {\n",
       "        text-align: right;\n",
       "    }\n",
       "</style>\n",
       "<table border=\"1\" class=\"dataframe\">\n",
       "  <thead>\n",
       "    <tr style=\"text-align: right;\">\n",
       "      <th></th>\n",
       "      <th>id</th>\n",
       "      <th>author</th>\n",
       "      <th>geometry</th>\n",
       "      <th>pressure [MPa]</th>\n",
       "      <th>mass_flux [kg/m2-s]</th>\n",
       "      <th>x_e_out [-]</th>\n",
       "      <th>D_e [mm]</th>\n",
       "      <th>D_h [mm]</th>\n",
       "      <th>length [mm]</th>\n",
       "      <th>chf_exp [MW/m2]</th>\n",
       "    </tr>\n",
       "  </thead>\n",
       "  <tbody>\n",
       "    <tr>\n",
       "      <th>0</th>\n",
       "      <td>0</td>\n",
       "      <td>Thompson</td>\n",
       "      <td>tube</td>\n",
       "      <td>7.00</td>\n",
       "      <td>3770.0</td>\n",
       "      <td>0.1754</td>\n",
       "      <td>NaN</td>\n",
       "      <td>10.8</td>\n",
       "      <td>432.0</td>\n",
       "      <td>3.6</td>\n",
       "    </tr>\n",
       "    <tr>\n",
       "      <th>1</th>\n",
       "      <td>1</td>\n",
       "      <td>Thompson</td>\n",
       "      <td>tube</td>\n",
       "      <td>NaN</td>\n",
       "      <td>6049.0</td>\n",
       "      <td>-0.0416</td>\n",
       "      <td>10.3</td>\n",
       "      <td>10.3</td>\n",
       "      <td>762.0</td>\n",
       "      <td>6.2</td>\n",
       "    </tr>\n",
       "    <tr>\n",
       "      <th>2</th>\n",
       "      <td>2</td>\n",
       "      <td>Thompson</td>\n",
       "      <td>NaN</td>\n",
       "      <td>13.79</td>\n",
       "      <td>2034.0</td>\n",
       "      <td>0.0335</td>\n",
       "      <td>7.7</td>\n",
       "      <td>7.7</td>\n",
       "      <td>457.0</td>\n",
       "      <td>2.5</td>\n",
       "    </tr>\n",
       "    <tr>\n",
       "      <th>3</th>\n",
       "      <td>3</td>\n",
       "      <td>Beus</td>\n",
       "      <td>annulus</td>\n",
       "      <td>13.79</td>\n",
       "      <td>3679.0</td>\n",
       "      <td>-0.0279</td>\n",
       "      <td>5.6</td>\n",
       "      <td>15.2</td>\n",
       "      <td>2134.0</td>\n",
       "      <td>3.0</td>\n",
       "    </tr>\n",
       "    <tr>\n",
       "      <th>4</th>\n",
       "      <td>4</td>\n",
       "      <td>NaN</td>\n",
       "      <td>tube</td>\n",
       "      <td>13.79</td>\n",
       "      <td>686.0</td>\n",
       "      <td>NaN</td>\n",
       "      <td>11.1</td>\n",
       "      <td>11.1</td>\n",
       "      <td>457.0</td>\n",
       "      <td>2.8</td>\n",
       "    </tr>\n",
       "  </tbody>\n",
       "</table>\n",
       "</div>"
      ],
      "text/plain": [
       "   id    author geometry  pressure [MPa]  mass_flux [kg/m2-s]  x_e_out [-]  \\\n",
       "0   0  Thompson     tube            7.00               3770.0       0.1754   \n",
       "1   1  Thompson     tube             NaN               6049.0      -0.0416   \n",
       "2   2  Thompson      NaN           13.79               2034.0       0.0335   \n",
       "3   3      Beus  annulus           13.79               3679.0      -0.0279   \n",
       "4   4       NaN     tube           13.79                686.0          NaN   \n",
       "\n",
       "   D_e [mm]  D_h [mm]  length [mm]  chf_exp [MW/m2]  \n",
       "0       NaN      10.8        432.0              3.6  \n",
       "1      10.3      10.3        762.0              6.2  \n",
       "2       7.7       7.7        457.0              2.5  \n",
       "3       5.6      15.2       2134.0              3.0  \n",
       "4      11.1      11.1        457.0              2.8  "
      ]
     },
     "execution_count": 2,
     "metadata": {},
     "output_type": "execute_result"
    }
   ],
   "source": [
    "df = pd.read_csv('/kaggle/input/playground-series-s3e15/data.csv')          \n",
    "df.head()"
   ]
  },
  {
   "cell_type": "code",
   "execution_count": 3,
   "id": "0237ac11",
   "metadata": {
    "execution": {
     "iopub.execute_input": "2023-05-27T16:20:02.933354Z",
     "iopub.status.busy": "2023-05-27T16:20:02.932107Z",
     "iopub.status.idle": "2023-05-27T16:20:02.939257Z",
     "shell.execute_reply": "2023-05-27T16:20:02.938235Z"
    },
    "papermill": {
     "duration": 0.019394,
     "end_time": "2023-05-27T16:20:02.941399",
     "exception": false,
     "start_time": "2023-05-27T16:20:02.922005",
     "status": "completed"
    },
    "tags": []
   },
   "outputs": [
    {
     "data": {
      "text/plain": [
       "31644"
      ]
     },
     "execution_count": 3,
     "metadata": {},
     "output_type": "execute_result"
    }
   ],
   "source": [
    "len(df)"
   ]
  },
  {
   "cell_type": "markdown",
   "id": "0f313319",
   "metadata": {
    "papermill": {
     "duration": 0.00874,
     "end_time": "2023-05-27T16:20:02.959028",
     "exception": false,
     "start_time": "2023-05-27T16:20:02.950288",
     "status": "completed"
    },
    "tags": []
   },
   "source": [
    "### Check the null values"
   ]
  },
  {
   "cell_type": "code",
   "execution_count": 4,
   "id": "f56f30dd",
   "metadata": {
    "execution": {
     "iopub.execute_input": "2023-05-27T16:20:02.978791Z",
     "iopub.status.busy": "2023-05-27T16:20:02.978445Z",
     "iopub.status.idle": "2023-05-27T16:20:03.002946Z",
     "shell.execute_reply": "2023-05-27T16:20:03.001435Z"
    },
    "papermill": {
     "duration": 0.037682,
     "end_time": "2023-05-27T16:20:03.005668",
     "exception": false,
     "start_time": "2023-05-27T16:20:02.967986",
     "status": "completed"
    },
    "tags": []
   },
   "outputs": [
    {
     "data": {
      "text/plain": [
       "id                         0\n",
       "author                  5024\n",
       "geometry                5500\n",
       "pressure [MPa]          4452\n",
       "mass_flux [kg/m2-s]     4791\n",
       "x_e_out [-]            10415\n",
       "D_e [mm]                5488\n",
       "D_h [mm]                4589\n",
       "length [mm]             4759\n",
       "chf_exp [MW/m2]            0\n",
       "dtype: int64"
      ]
     },
     "execution_count": 4,
     "metadata": {},
     "output_type": "execute_result"
    }
   ],
   "source": [
    "df.isnull().sum()"
   ]
  },
  {
   "cell_type": "code",
   "execution_count": 5,
   "id": "e8d731de",
   "metadata": {
    "execution": {
     "iopub.execute_input": "2023-05-27T16:20:03.026499Z",
     "iopub.status.busy": "2023-05-27T16:20:03.026100Z",
     "iopub.status.idle": "2023-05-27T16:20:03.042841Z",
     "shell.execute_reply": "2023-05-27T16:20:03.041680Z"
    },
    "papermill": {
     "duration": 0.030042,
     "end_time": "2023-05-27T16:20:03.045214",
     "exception": false,
     "start_time": "2023-05-27T16:20:03.015172",
     "status": "completed"
    },
    "tags": []
   },
   "outputs": [
    {
     "data": {
      "text/html": [
       "<div>\n",
       "<style scoped>\n",
       "    .dataframe tbody tr th:only-of-type {\n",
       "        vertical-align: middle;\n",
       "    }\n",
       "\n",
       "    .dataframe tbody tr th {\n",
       "        vertical-align: top;\n",
       "    }\n",
       "\n",
       "    .dataframe thead th {\n",
       "        text-align: right;\n",
       "    }\n",
       "</style>\n",
       "<table border=\"1\" class=\"dataframe\">\n",
       "  <thead>\n",
       "    <tr style=\"text-align: right;\">\n",
       "      <th></th>\n",
       "      <th>id</th>\n",
       "      <th>author</th>\n",
       "      <th>geometry</th>\n",
       "      <th>pressure [MPa]</th>\n",
       "      <th>mass_flux [kg/m2-s]</th>\n",
       "      <th>x_e_out [-]</th>\n",
       "      <th>D_e [mm]</th>\n",
       "      <th>D_h [mm]</th>\n",
       "      <th>length [mm]</th>\n",
       "      <th>chf_exp [MW/m2]</th>\n",
       "    </tr>\n",
       "  </thead>\n",
       "  <tbody>\n",
       "    <tr>\n",
       "      <th>0</th>\n",
       "      <td>0</td>\n",
       "      <td>Thompson</td>\n",
       "      <td>tube</td>\n",
       "      <td>7.00</td>\n",
       "      <td>3770.0</td>\n",
       "      <td>0.1754</td>\n",
       "      <td>NaN</td>\n",
       "      <td>10.8</td>\n",
       "      <td>432.0</td>\n",
       "      <td>3.6</td>\n",
       "    </tr>\n",
       "    <tr>\n",
       "      <th>1</th>\n",
       "      <td>1</td>\n",
       "      <td>Thompson</td>\n",
       "      <td>tube</td>\n",
       "      <td>NaN</td>\n",
       "      <td>6049.0</td>\n",
       "      <td>-0.0416</td>\n",
       "      <td>10.3</td>\n",
       "      <td>10.3</td>\n",
       "      <td>762.0</td>\n",
       "      <td>6.2</td>\n",
       "    </tr>\n",
       "    <tr>\n",
       "      <th>2</th>\n",
       "      <td>2</td>\n",
       "      <td>Thompson</td>\n",
       "      <td>NaN</td>\n",
       "      <td>13.79</td>\n",
       "      <td>2034.0</td>\n",
       "      <td>0.0335</td>\n",
       "      <td>7.7</td>\n",
       "      <td>7.7</td>\n",
       "      <td>457.0</td>\n",
       "      <td>2.5</td>\n",
       "    </tr>\n",
       "    <tr>\n",
       "      <th>3</th>\n",
       "      <td>3</td>\n",
       "      <td>Beus</td>\n",
       "      <td>annulus</td>\n",
       "      <td>13.79</td>\n",
       "      <td>3679.0</td>\n",
       "      <td>-0.0279</td>\n",
       "      <td>5.6</td>\n",
       "      <td>15.2</td>\n",
       "      <td>2134.0</td>\n",
       "      <td>3.0</td>\n",
       "    </tr>\n",
       "    <tr>\n",
       "      <th>4</th>\n",
       "      <td>4</td>\n",
       "      <td>NaN</td>\n",
       "      <td>tube</td>\n",
       "      <td>13.79</td>\n",
       "      <td>686.0</td>\n",
       "      <td>NaN</td>\n",
       "      <td>11.1</td>\n",
       "      <td>11.1</td>\n",
       "      <td>457.0</td>\n",
       "      <td>2.8</td>\n",
       "    </tr>\n",
       "  </tbody>\n",
       "</table>\n",
       "</div>"
      ],
      "text/plain": [
       "   id    author geometry  pressure [MPa]  mass_flux [kg/m2-s]  x_e_out [-]  \\\n",
       "0   0  Thompson     tube            7.00               3770.0       0.1754   \n",
       "1   1  Thompson     tube             NaN               6049.0      -0.0416   \n",
       "2   2  Thompson      NaN           13.79               2034.0       0.0335   \n",
       "3   3      Beus  annulus           13.79               3679.0      -0.0279   \n",
       "4   4       NaN     tube           13.79                686.0          NaN   \n",
       "\n",
       "   D_e [mm]  D_h [mm]  length [mm]  chf_exp [MW/m2]  \n",
       "0       NaN      10.8        432.0              3.6  \n",
       "1      10.3      10.3        762.0              6.2  \n",
       "2       7.7       7.7        457.0              2.5  \n",
       "3       5.6      15.2       2134.0              3.0  \n",
       "4      11.1      11.1        457.0              2.8  "
      ]
     },
     "execution_count": 5,
     "metadata": {},
     "output_type": "execute_result"
    }
   ],
   "source": [
    "df.head()"
   ]
  },
  {
   "cell_type": "code",
   "execution_count": 6,
   "id": "2b0c7d3d",
   "metadata": {
    "execution": {
     "iopub.execute_input": "2023-05-27T16:20:03.065231Z",
     "iopub.status.busy": "2023-05-27T16:20:03.064849Z",
     "iopub.status.idle": "2023-05-27T16:20:03.100648Z",
     "shell.execute_reply": "2023-05-27T16:20:03.099790Z"
    },
    "papermill": {
     "duration": 0.048543,
     "end_time": "2023-05-27T16:20:03.102824",
     "exception": false,
     "start_time": "2023-05-27T16:20:03.054281",
     "status": "completed"
    },
    "tags": []
   },
   "outputs": [
    {
     "name": "stdout",
     "output_type": "stream",
     "text": [
      "<class 'pandas.core.frame.DataFrame'>\n",
      "RangeIndex: 31644 entries, 0 to 31643\n",
      "Data columns (total 10 columns):\n",
      " #   Column               Non-Null Count  Dtype  \n",
      "---  ------               --------------  -----  \n",
      " 0   id                   31644 non-null  int64  \n",
      " 1   author               26620 non-null  object \n",
      " 2   geometry             26144 non-null  object \n",
      " 3   pressure [MPa]       27192 non-null  float64\n",
      " 4   mass_flux [kg/m2-s]  26853 non-null  float64\n",
      " 5   x_e_out [-]          21229 non-null  float64\n",
      " 6   D_e [mm]             26156 non-null  float64\n",
      " 7   D_h [mm]             27055 non-null  float64\n",
      " 8   length [mm]          26885 non-null  float64\n",
      " 9   chf_exp [MW/m2]      31644 non-null  float64\n",
      "dtypes: float64(7), int64(1), object(2)\n",
      "memory usage: 2.4+ MB\n"
     ]
    }
   ],
   "source": [
    "df.info()"
   ]
  },
  {
   "cell_type": "code",
   "execution_count": 7,
   "id": "59cb3a37",
   "metadata": {
    "execution": {
     "iopub.execute_input": "2023-05-27T16:20:03.123598Z",
     "iopub.status.busy": "2023-05-27T16:20:03.123150Z",
     "iopub.status.idle": "2023-05-27T16:20:03.165535Z",
     "shell.execute_reply": "2023-05-27T16:20:03.164043Z"
    },
    "papermill": {
     "duration": 0.055434,
     "end_time": "2023-05-27T16:20:03.167837",
     "exception": false,
     "start_time": "2023-05-27T16:20:03.112403",
     "status": "completed"
    },
    "tags": []
   },
   "outputs": [
    {
     "data": {
      "text/html": [
       "<div>\n",
       "<style scoped>\n",
       "    .dataframe tbody tr th:only-of-type {\n",
       "        vertical-align: middle;\n",
       "    }\n",
       "\n",
       "    .dataframe tbody tr th {\n",
       "        vertical-align: top;\n",
       "    }\n",
       "\n",
       "    .dataframe thead th {\n",
       "        text-align: right;\n",
       "    }\n",
       "</style>\n",
       "<table border=\"1\" class=\"dataframe\">\n",
       "  <thead>\n",
       "    <tr style=\"text-align: right;\">\n",
       "      <th></th>\n",
       "      <th>id</th>\n",
       "      <th>pressure [MPa]</th>\n",
       "      <th>mass_flux [kg/m2-s]</th>\n",
       "      <th>x_e_out [-]</th>\n",
       "      <th>D_e [mm]</th>\n",
       "      <th>D_h [mm]</th>\n",
       "      <th>length [mm]</th>\n",
       "      <th>chf_exp [MW/m2]</th>\n",
       "    </tr>\n",
       "  </thead>\n",
       "  <tbody>\n",
       "    <tr>\n",
       "      <th>count</th>\n",
       "      <td>31644.000000</td>\n",
       "      <td>27192.000000</td>\n",
       "      <td>26853.000000</td>\n",
       "      <td>21229.000000</td>\n",
       "      <td>26156.000000</td>\n",
       "      <td>27055.000000</td>\n",
       "      <td>26885.000000</td>\n",
       "      <td>31644.000000</td>\n",
       "    </tr>\n",
       "    <tr>\n",
       "      <th>mean</th>\n",
       "      <td>15821.500000</td>\n",
       "      <td>10.640747</td>\n",
       "      <td>3068.011023</td>\n",
       "      <td>-0.000453</td>\n",
       "      <td>8.629255</td>\n",
       "      <td>14.174330</td>\n",
       "      <td>832.987391</td>\n",
       "      <td>3.796985</td>\n",
       "    </tr>\n",
       "    <tr>\n",
       "      <th>std</th>\n",
       "      <td>9134.980296</td>\n",
       "      <td>4.333683</td>\n",
       "      <td>1777.032080</td>\n",
       "      <td>0.100911</td>\n",
       "      <td>5.185692</td>\n",
       "      <td>19.838489</td>\n",
       "      <td>672.299239</td>\n",
       "      <td>1.983991</td>\n",
       "    </tr>\n",
       "    <tr>\n",
       "      <th>min</th>\n",
       "      <td>0.000000</td>\n",
       "      <td>0.100000</td>\n",
       "      <td>0.000000</td>\n",
       "      <td>-0.866700</td>\n",
       "      <td>1.000000</td>\n",
       "      <td>1.000000</td>\n",
       "      <td>10.000000</td>\n",
       "      <td>0.800000</td>\n",
       "    </tr>\n",
       "    <tr>\n",
       "      <th>25%</th>\n",
       "      <td>7910.750000</td>\n",
       "      <td>6.890000</td>\n",
       "      <td>1519.000000</td>\n",
       "      <td>-0.046600</td>\n",
       "      <td>5.000000</td>\n",
       "      <td>5.600000</td>\n",
       "      <td>318.000000</td>\n",
       "      <td>2.400000</td>\n",
       "    </tr>\n",
       "    <tr>\n",
       "      <th>50%</th>\n",
       "      <td>15821.500000</td>\n",
       "      <td>11.070000</td>\n",
       "      <td>2731.000000</td>\n",
       "      <td>0.003800</td>\n",
       "      <td>7.800000</td>\n",
       "      <td>10.000000</td>\n",
       "      <td>610.000000</td>\n",
       "      <td>3.400000</td>\n",
       "    </tr>\n",
       "    <tr>\n",
       "      <th>75%</th>\n",
       "      <td>23732.250000</td>\n",
       "      <td>13.790000</td>\n",
       "      <td>4069.000000</td>\n",
       "      <td>0.064800</td>\n",
       "      <td>10.800000</td>\n",
       "      <td>11.500000</td>\n",
       "      <td>914.000000</td>\n",
       "      <td>4.600000</td>\n",
       "    </tr>\n",
       "    <tr>\n",
       "      <th>max</th>\n",
       "      <td>31643.000000</td>\n",
       "      <td>20.680000</td>\n",
       "      <td>7975.000000</td>\n",
       "      <td>0.232000</td>\n",
       "      <td>37.500000</td>\n",
       "      <td>120.000000</td>\n",
       "      <td>3048.000000</td>\n",
       "      <td>19.300000</td>\n",
       "    </tr>\n",
       "  </tbody>\n",
       "</table>\n",
       "</div>"
      ],
      "text/plain": [
       "                 id  pressure [MPa]  mass_flux [kg/m2-s]   x_e_out [-]  \\\n",
       "count  31644.000000    27192.000000         26853.000000  21229.000000   \n",
       "mean   15821.500000       10.640747          3068.011023     -0.000453   \n",
       "std     9134.980296        4.333683          1777.032080      0.100911   \n",
       "min        0.000000        0.100000             0.000000     -0.866700   \n",
       "25%     7910.750000        6.890000          1519.000000     -0.046600   \n",
       "50%    15821.500000       11.070000          2731.000000      0.003800   \n",
       "75%    23732.250000       13.790000          4069.000000      0.064800   \n",
       "max    31643.000000       20.680000          7975.000000      0.232000   \n",
       "\n",
       "           D_e [mm]      D_h [mm]   length [mm]  chf_exp [MW/m2]  \n",
       "count  26156.000000  27055.000000  26885.000000     31644.000000  \n",
       "mean       8.629255     14.174330    832.987391         3.796985  \n",
       "std        5.185692     19.838489    672.299239         1.983991  \n",
       "min        1.000000      1.000000     10.000000         0.800000  \n",
       "25%        5.000000      5.600000    318.000000         2.400000  \n",
       "50%        7.800000     10.000000    610.000000         3.400000  \n",
       "75%       10.800000     11.500000    914.000000         4.600000  \n",
       "max       37.500000    120.000000   3048.000000        19.300000  "
      ]
     },
     "execution_count": 7,
     "metadata": {},
     "output_type": "execute_result"
    }
   ],
   "source": [
    "df.describe()"
   ]
  },
  {
   "cell_type": "code",
   "execution_count": 8,
   "id": "d85f3ce6",
   "metadata": {
    "execution": {
     "iopub.execute_input": "2023-05-27T16:20:03.189466Z",
     "iopub.status.busy": "2023-05-27T16:20:03.189031Z",
     "iopub.status.idle": "2023-05-27T16:20:03.212597Z",
     "shell.execute_reply": "2023-05-27T16:20:03.211443Z"
    },
    "papermill": {
     "duration": 0.037839,
     "end_time": "2023-05-27T16:20:03.215423",
     "exception": false,
     "start_time": "2023-05-27T16:20:03.177584",
     "status": "completed"
    },
    "tags": []
   },
   "outputs": [
    {
     "data": {
      "text/plain": [
       "0"
      ]
     },
     "execution_count": 8,
     "metadata": {},
     "output_type": "execute_result"
    }
   ],
   "source": [
    "df.duplicated().sum()"
   ]
  },
  {
   "cell_type": "code",
   "execution_count": 9,
   "id": "a05c2718",
   "metadata": {
    "execution": {
     "iopub.execute_input": "2023-05-27T16:20:03.235972Z",
     "iopub.status.busy": "2023-05-27T16:20:03.235566Z",
     "iopub.status.idle": "2023-05-27T16:20:03.252440Z",
     "shell.execute_reply": "2023-05-27T16:20:03.251203Z"
    },
    "papermill": {
     "duration": 0.030293,
     "end_time": "2023-05-27T16:20:03.255133",
     "exception": false,
     "start_time": "2023-05-27T16:20:03.224840",
     "status": "completed"
    },
    "tags": []
   },
   "outputs": [
    {
     "data": {
      "text/plain": [
       "id                     31644\n",
       "author                    10\n",
       "geometry                   3\n",
       "pressure [MPa]           144\n",
       "mass_flux [kg/m2-s]      733\n",
       "x_e_out [-]             1682\n",
       "D_e [mm]                  43\n",
       "D_h [mm]                  49\n",
       "length [mm]               70\n",
       "chf_exp [MW/m2]          109\n",
       "dtype: int64"
      ]
     },
     "execution_count": 9,
     "metadata": {},
     "output_type": "execute_result"
    }
   ],
   "source": [
    "df.nunique()"
   ]
  },
  {
   "cell_type": "code",
   "execution_count": 10,
   "id": "b8b3c7ed",
   "metadata": {
    "execution": {
     "iopub.execute_input": "2023-05-27T16:20:03.276477Z",
     "iopub.status.busy": "2023-05-27T16:20:03.276065Z",
     "iopub.status.idle": "2023-05-27T16:20:03.283442Z",
     "shell.execute_reply": "2023-05-27T16:20:03.282160Z"
    },
    "papermill": {
     "duration": 0.02106,
     "end_time": "2023-05-27T16:20:03.285842",
     "exception": false,
     "start_time": "2023-05-27T16:20:03.264782",
     "status": "completed"
    },
    "tags": []
   },
   "outputs": [],
   "source": [
    "### Rename the columns\n",
    "\n",
    "df = df.rename(columns={'pressure [MPa]': 'pressure', \n",
    "                 'mass_flux [kg/m2-s]': 'mass_flux',\n",
    "                 'x_e_out [-]': 'x_e_out',\n",
    "                 'D_e [mm]': 'D_e',\n",
    "                 'D_h [mm]': 'D_h',\n",
    "                 'length [mm]': 'length',\n",
    "                 'chf_exp [MW/m2]': 'chf_exp'})"
   ]
  },
  {
   "cell_type": "code",
   "execution_count": 11,
   "id": "de3c72a4",
   "metadata": {
    "execution": {
     "iopub.execute_input": "2023-05-27T16:20:03.307541Z",
     "iopub.status.busy": "2023-05-27T16:20:03.307122Z",
     "iopub.status.idle": "2023-05-27T16:20:03.313918Z",
     "shell.execute_reply": "2023-05-27T16:20:03.312429Z"
    },
    "papermill": {
     "duration": 0.021264,
     "end_time": "2023-05-27T16:20:03.316763",
     "exception": false,
     "start_time": "2023-05-27T16:20:03.295499",
     "status": "completed"
    },
    "tags": []
   },
   "outputs": [
    {
     "data": {
      "text/plain": [
       "Index(['id', 'author', 'geometry', 'pressure', 'mass_flux', 'x_e_out', 'D_e',\n",
       "       'D_h', 'length', 'chf_exp'],\n",
       "      dtype='object')"
      ]
     },
     "execution_count": 11,
     "metadata": {},
     "output_type": "execute_result"
    }
   ],
   "source": [
    "df.columns"
   ]
  },
  {
   "cell_type": "markdown",
   "id": "90d8c7b2",
   "metadata": {
    "papermill": {
     "duration": 0.010314,
     "end_time": "2023-05-27T16:20:03.337791",
     "exception": false,
     "start_time": "2023-05-27T16:20:03.327477",
     "status": "completed"
    },
    "tags": []
   },
   "source": [
    "### Feature Imputation"
   ]
  },
  {
   "cell_type": "markdown",
   "id": "8acfdba8",
   "metadata": {
    "papermill": {
     "duration": 0.01042,
     "end_time": "2023-05-27T16:20:03.360511",
     "exception": false,
     "start_time": "2023-05-27T16:20:03.350091",
     "status": "completed"
    },
    "tags": []
   },
   "source": [
    "## Simple Imputation"
   ]
  },
  {
   "cell_type": "code",
   "execution_count": 12,
   "id": "720515ea",
   "metadata": {
    "execution": {
     "iopub.execute_input": "2023-05-27T16:20:03.382492Z",
     "iopub.status.busy": "2023-05-27T16:20:03.382088Z",
     "iopub.status.idle": "2023-05-27T16:20:03.387633Z",
     "shell.execute_reply": "2023-05-27T16:20:03.385750Z"
    },
    "papermill": {
     "duration": 0.019575,
     "end_time": "2023-05-27T16:20:03.390164",
     "exception": false,
     "start_time": "2023-05-27T16:20:03.370589",
     "status": "completed"
    },
    "tags": []
   },
   "outputs": [],
   "source": [
    "simple_imputer_cat = SimpleImputer(strategy='most_frequent')\n",
    "simple_imputer_num = SimpleImputer(strategy='mean')"
   ]
  },
  {
   "cell_type": "code",
   "execution_count": 13,
   "id": "6478cced",
   "metadata": {
    "execution": {
     "iopub.execute_input": "2023-05-27T16:20:03.412366Z",
     "iopub.status.busy": "2023-05-27T16:20:03.411929Z",
     "iopub.status.idle": "2023-05-27T16:20:03.417937Z",
     "shell.execute_reply": "2023-05-27T16:20:03.416908Z"
    },
    "papermill": {
     "duration": 0.019834,
     "end_time": "2023-05-27T16:20:03.420072",
     "exception": false,
     "start_time": "2023-05-27T16:20:03.400238",
     "status": "completed"
    },
    "tags": []
   },
   "outputs": [],
   "source": [
    "def imputation(data):\n",
    "    df_imp = data.copy()\n",
    "    for i in data.columns:\n",
    "        if data[i].dtypes == 'object':\n",
    "            df_imp[i] = simple_imputer_cat.fit_transform(df_imp[[i]])\n",
    "        else:\n",
    "            df_imp[i] = simple_imputer_num.fit_transform(df_imp[[i]])\n",
    "            \n",
    "    return df_imp"
   ]
  },
  {
   "cell_type": "code",
   "execution_count": 14,
   "id": "450c097f",
   "metadata": {
    "execution": {
     "iopub.execute_input": "2023-05-27T16:20:03.442411Z",
     "iopub.status.busy": "2023-05-27T16:20:03.441423Z",
     "iopub.status.idle": "2023-05-27T16:20:03.504285Z",
     "shell.execute_reply": "2023-05-27T16:20:03.502394Z"
    },
    "papermill": {
     "duration": 0.077209,
     "end_time": "2023-05-27T16:20:03.507241",
     "exception": false,
     "start_time": "2023-05-27T16:20:03.430032",
     "status": "completed"
    },
    "tags": []
   },
   "outputs": [],
   "source": [
    "### lets drop the target feature\n",
    "df_train = df.drop(columns='x_e_out', axis=1)\n",
    "df_imp = imputation(df_train)"
   ]
  },
  {
   "cell_type": "code",
   "execution_count": 15,
   "id": "4d47a868",
   "metadata": {
    "execution": {
     "iopub.execute_input": "2023-05-27T16:20:03.529546Z",
     "iopub.status.busy": "2023-05-27T16:20:03.529123Z",
     "iopub.status.idle": "2023-05-27T16:20:03.549448Z",
     "shell.execute_reply": "2023-05-27T16:20:03.547555Z"
    },
    "papermill": {
     "duration": 0.034716,
     "end_time": "2023-05-27T16:20:03.552022",
     "exception": false,
     "start_time": "2023-05-27T16:20:03.517306",
     "status": "completed"
    },
    "tags": []
   },
   "outputs": [
    {
     "data": {
      "text/plain": [
       "id           0\n",
       "author       0\n",
       "geometry     0\n",
       "pressure     0\n",
       "mass_flux    0\n",
       "D_e          0\n",
       "D_h          0\n",
       "length       0\n",
       "chf_exp      0\n",
       "dtype: int64"
      ]
     },
     "execution_count": 15,
     "metadata": {},
     "output_type": "execute_result"
    }
   ],
   "source": [
    "df_imp.isnull().sum()"
   ]
  },
  {
   "cell_type": "code",
   "execution_count": 16,
   "id": "6cb9343c",
   "metadata": {
    "execution": {
     "iopub.execute_input": "2023-05-27T16:20:03.575332Z",
     "iopub.status.busy": "2023-05-27T16:20:03.574954Z",
     "iopub.status.idle": "2023-05-27T16:20:03.583611Z",
     "shell.execute_reply": "2023-05-27T16:20:03.582774Z"
    },
    "papermill": {
     "duration": 0.023964,
     "end_time": "2023-05-27T16:20:03.586113",
     "exception": false,
     "start_time": "2023-05-27T16:20:03.562149",
     "status": "completed"
    },
    "tags": []
   },
   "outputs": [
    {
     "name": "stdout",
     "output_type": "stream",
     "text": [
      "[array(['Thompson', 'Beus', nan, 'Peskov', 'Janssen', 'Weatherhead',\n",
      "       'Inasaka', 'Williams', 'Mortimore', 'Richenderfer', 'Kossolapov'],\n",
      "      dtype=object), array(['tube', nan, 'annulus', 'plate'], dtype=object)]\n"
     ]
    }
   ],
   "source": [
    "### get the unique values features. it seems that only 2 features has less categorical values\n",
    "\n",
    "unqiue_features = [df[i].unique() for i in df.columns if df[i].dtypes == 'object']\n",
    "print(unqiue_features)"
   ]
  },
  {
   "cell_type": "code",
   "execution_count": 17,
   "id": "58556725",
   "metadata": {
    "collapsed": true,
    "execution": {
     "iopub.execute_input": "2023-05-27T16:20:03.608227Z",
     "iopub.status.busy": "2023-05-27T16:20:03.607782Z",
     "iopub.status.idle": "2023-05-27T16:20:03.613315Z",
     "shell.execute_reply": "2023-05-27T16:20:03.611568Z"
    },
    "jupyter": {
     "outputs_hidden": true
    },
    "papermill": {
     "duration": 0.019966,
     "end_time": "2023-05-27T16:20:03.616323",
     "exception": false,
     "start_time": "2023-05-27T16:20:03.596357",
     "status": "completed"
    },
    "tags": []
   },
   "outputs": [],
   "source": [
    "# imputer = IterativeImputer(random_state=100, max_iter=10)\n",
    "# imputer.fit(df.iloc[:, :-1])"
   ]
  },
  {
   "cell_type": "code",
   "execution_count": 18,
   "id": "6112b159",
   "metadata": {
    "execution": {
     "iopub.execute_input": "2023-05-27T16:20:03.638465Z",
     "iopub.status.busy": "2023-05-27T16:20:03.638071Z",
     "iopub.status.idle": "2023-05-27T16:20:03.654584Z",
     "shell.execute_reply": "2023-05-27T16:20:03.652951Z"
    },
    "papermill": {
     "duration": 0.030852,
     "end_time": "2023-05-27T16:20:03.657386",
     "exception": false,
     "start_time": "2023-05-27T16:20:03.626534",
     "status": "completed"
    },
    "tags": []
   },
   "outputs": [
    {
     "data": {
      "text/html": [
       "<div>\n",
       "<style scoped>\n",
       "    .dataframe tbody tr th:only-of-type {\n",
       "        vertical-align: middle;\n",
       "    }\n",
       "\n",
       "    .dataframe tbody tr th {\n",
       "        vertical-align: top;\n",
       "    }\n",
       "\n",
       "    .dataframe thead th {\n",
       "        text-align: right;\n",
       "    }\n",
       "</style>\n",
       "<table border=\"1\" class=\"dataframe\">\n",
       "  <thead>\n",
       "    <tr style=\"text-align: right;\">\n",
       "      <th></th>\n",
       "      <th>id</th>\n",
       "      <th>author</th>\n",
       "      <th>geometry</th>\n",
       "      <th>pressure</th>\n",
       "      <th>mass_flux</th>\n",
       "      <th>D_e</th>\n",
       "      <th>D_h</th>\n",
       "      <th>length</th>\n",
       "      <th>chf_exp</th>\n",
       "    </tr>\n",
       "  </thead>\n",
       "  <tbody>\n",
       "    <tr>\n",
       "      <th>0</th>\n",
       "      <td>0.0</td>\n",
       "      <td>Thompson</td>\n",
       "      <td>tube</td>\n",
       "      <td>7.000000</td>\n",
       "      <td>3770.0</td>\n",
       "      <td>8.629255</td>\n",
       "      <td>10.8</td>\n",
       "      <td>432.0</td>\n",
       "      <td>3.6</td>\n",
       "    </tr>\n",
       "    <tr>\n",
       "      <th>1</th>\n",
       "      <td>1.0</td>\n",
       "      <td>Thompson</td>\n",
       "      <td>tube</td>\n",
       "      <td>10.640747</td>\n",
       "      <td>6049.0</td>\n",
       "      <td>10.300000</td>\n",
       "      <td>10.3</td>\n",
       "      <td>762.0</td>\n",
       "      <td>6.2</td>\n",
       "    </tr>\n",
       "    <tr>\n",
       "      <th>2</th>\n",
       "      <td>2.0</td>\n",
       "      <td>Thompson</td>\n",
       "      <td>tube</td>\n",
       "      <td>13.790000</td>\n",
       "      <td>2034.0</td>\n",
       "      <td>7.700000</td>\n",
       "      <td>7.7</td>\n",
       "      <td>457.0</td>\n",
       "      <td>2.5</td>\n",
       "    </tr>\n",
       "    <tr>\n",
       "      <th>3</th>\n",
       "      <td>3.0</td>\n",
       "      <td>Beus</td>\n",
       "      <td>annulus</td>\n",
       "      <td>13.790000</td>\n",
       "      <td>3679.0</td>\n",
       "      <td>5.600000</td>\n",
       "      <td>15.2</td>\n",
       "      <td>2134.0</td>\n",
       "      <td>3.0</td>\n",
       "    </tr>\n",
       "    <tr>\n",
       "      <th>4</th>\n",
       "      <td>4.0</td>\n",
       "      <td>Thompson</td>\n",
       "      <td>tube</td>\n",
       "      <td>13.790000</td>\n",
       "      <td>686.0</td>\n",
       "      <td>11.100000</td>\n",
       "      <td>11.1</td>\n",
       "      <td>457.0</td>\n",
       "      <td>2.8</td>\n",
       "    </tr>\n",
       "  </tbody>\n",
       "</table>\n",
       "</div>"
      ],
      "text/plain": [
       "    id    author geometry   pressure  mass_flux        D_e   D_h  length  \\\n",
       "0  0.0  Thompson     tube   7.000000     3770.0   8.629255  10.8   432.0   \n",
       "1  1.0  Thompson     tube  10.640747     6049.0  10.300000  10.3   762.0   \n",
       "2  2.0  Thompson     tube  13.790000     2034.0   7.700000   7.7   457.0   \n",
       "3  3.0      Beus  annulus  13.790000     3679.0   5.600000  15.2  2134.0   \n",
       "4  4.0  Thompson     tube  13.790000      686.0  11.100000  11.1   457.0   \n",
       "\n",
       "   chf_exp  \n",
       "0      3.6  \n",
       "1      6.2  \n",
       "2      2.5  \n",
       "3      3.0  \n",
       "4      2.8  "
      ]
     },
     "execution_count": 18,
     "metadata": {},
     "output_type": "execute_result"
    }
   ],
   "source": [
    "df_imp.head()"
   ]
  },
  {
   "cell_type": "code",
   "execution_count": 19,
   "id": "28603bff",
   "metadata": {
    "execution": {
     "iopub.execute_input": "2023-05-27T16:20:03.679671Z",
     "iopub.status.busy": "2023-05-27T16:20:03.679311Z",
     "iopub.status.idle": "2023-05-27T16:20:03.686506Z",
     "shell.execute_reply": "2023-05-27T16:20:03.684931Z"
    },
    "papermill": {
     "duration": 0.020782,
     "end_time": "2023-05-27T16:20:03.688518",
     "exception": false,
     "start_time": "2023-05-27T16:20:03.667736",
     "status": "completed"
    },
    "tags": []
   },
   "outputs": [],
   "source": [
    "### drop the id\n",
    "\n",
    "df_imp = df_imp.drop('id',axis=1)"
   ]
  },
  {
   "cell_type": "code",
   "execution_count": 20,
   "id": "44582446",
   "metadata": {
    "execution": {
     "iopub.execute_input": "2023-05-27T16:20:03.711428Z",
     "iopub.status.busy": "2023-05-27T16:20:03.711032Z",
     "iopub.status.idle": "2023-05-27T16:20:03.718895Z",
     "shell.execute_reply": "2023-05-27T16:20:03.717484Z"
    },
    "papermill": {
     "duration": 0.022221,
     "end_time": "2023-05-27T16:20:03.721558",
     "exception": false,
     "start_time": "2023-05-27T16:20:03.699337",
     "status": "completed"
    },
    "tags": []
   },
   "outputs": [],
   "source": [
    "df_final  = df_imp.copy()\n",
    "df_final['x_e_out'] = df['x_e_out']"
   ]
  },
  {
   "cell_type": "code",
   "execution_count": 21,
   "id": "8ff28a9f",
   "metadata": {
    "execution": {
     "iopub.execute_input": "2023-05-27T16:20:03.743980Z",
     "iopub.status.busy": "2023-05-27T16:20:03.743541Z",
     "iopub.status.idle": "2023-05-27T16:20:03.753091Z",
     "shell.execute_reply": "2023-05-27T16:20:03.751424Z"
    },
    "papermill": {
     "duration": 0.02392,
     "end_time": "2023-05-27T16:20:03.755542",
     "exception": false,
     "start_time": "2023-05-27T16:20:03.731622",
     "status": "completed"
    },
    "tags": []
   },
   "outputs": [
    {
     "data": {
      "text/plain": [
       "0        False\n",
       "1        False\n",
       "2        False\n",
       "3        False\n",
       "4         True\n",
       "         ...  \n",
       "31639    False\n",
       "31640     True\n",
       "31641    False\n",
       "31642     True\n",
       "31643    False\n",
       "Name: x_e_out, Length: 31644, dtype: bool"
      ]
     },
     "execution_count": 21,
     "metadata": {},
     "output_type": "execute_result"
    }
   ],
   "source": [
    "df_final['x_e_out'].isnull()"
   ]
  },
  {
   "cell_type": "code",
   "execution_count": 22,
   "id": "25c473bc",
   "metadata": {
    "execution": {
     "iopub.execute_input": "2023-05-27T16:20:03.778797Z",
     "iopub.status.busy": "2023-05-27T16:20:03.778401Z",
     "iopub.status.idle": "2023-05-27T16:20:03.800654Z",
     "shell.execute_reply": "2023-05-27T16:20:03.799119Z"
    },
    "papermill": {
     "duration": 0.037042,
     "end_time": "2023-05-27T16:20:03.803685",
     "exception": false,
     "start_time": "2023-05-27T16:20:03.766643",
     "status": "completed"
    },
    "tags": []
   },
   "outputs": [],
   "source": [
    "df_final = pd.get_dummies(df_final, columns=['author', 'geometry'])"
   ]
  },
  {
   "cell_type": "code",
   "execution_count": 23,
   "id": "40c97daf",
   "metadata": {
    "execution": {
     "iopub.execute_input": "2023-05-27T16:20:03.827773Z",
     "iopub.status.busy": "2023-05-27T16:20:03.827357Z",
     "iopub.status.idle": "2023-05-27T16:20:03.839617Z",
     "shell.execute_reply": "2023-05-27T16:20:03.838087Z"
    },
    "papermill": {
     "duration": 0.027119,
     "end_time": "2023-05-27T16:20:03.842355",
     "exception": false,
     "start_time": "2023-05-27T16:20:03.815236",
     "status": "completed"
    },
    "tags": []
   },
   "outputs": [],
   "source": [
    "### Split the dataset to train and test\n",
    "\n",
    "df_train_data = df_final[~df_final['x_e_out'].isna()]\n",
    "df_test_data = df_final[df_final['x_e_out'].isna()]"
   ]
  },
  {
   "cell_type": "code",
   "execution_count": 24,
   "id": "0b06ced6",
   "metadata": {
    "execution": {
     "iopub.execute_input": "2023-05-27T16:20:03.865655Z",
     "iopub.status.busy": "2023-05-27T16:20:03.865239Z",
     "iopub.status.idle": "2023-05-27T16:20:03.872571Z",
     "shell.execute_reply": "2023-05-27T16:20:03.871341Z"
    },
    "papermill": {
     "duration": 0.022238,
     "end_time": "2023-05-27T16:20:03.875206",
     "exception": false,
     "start_time": "2023-05-27T16:20:03.852968",
     "status": "completed"
    },
    "tags": []
   },
   "outputs": [
    {
     "data": {
      "text/plain": [
       "Index(['pressure', 'mass_flux', 'D_e', 'D_h', 'length', 'chf_exp', 'x_e_out',\n",
       "       'author_Beus', 'author_Inasaka', 'author_Janssen', 'author_Kossolapov',\n",
       "       'author_Mortimore', 'author_Peskov', 'author_Richenderfer',\n",
       "       'author_Thompson', 'author_Weatherhead', 'author_Williams',\n",
       "       'geometry_annulus', 'geometry_plate', 'geometry_tube'],\n",
       "      dtype='object')"
      ]
     },
     "execution_count": 24,
     "metadata": {},
     "output_type": "execute_result"
    }
   ],
   "source": [
    "df_train_data.columns"
   ]
  },
  {
   "cell_type": "code",
   "execution_count": 25,
   "id": "2b8916a0",
   "metadata": {
    "execution": {
     "iopub.execute_input": "2023-05-27T16:20:03.900007Z",
     "iopub.status.busy": "2023-05-27T16:20:03.899581Z",
     "iopub.status.idle": "2023-05-27T16:20:03.907293Z",
     "shell.execute_reply": "2023-05-27T16:20:03.905851Z"
    },
    "papermill": {
     "duration": 0.022553,
     "end_time": "2023-05-27T16:20:03.909664",
     "exception": false,
     "start_time": "2023-05-27T16:20:03.887111",
     "status": "completed"
    },
    "tags": []
   },
   "outputs": [],
   "source": [
    "df_train_data = df_train_data.reset_index()\n",
    "df_train_data = df_train_data.drop('index', axis=1)"
   ]
  },
  {
   "cell_type": "code",
   "execution_count": 26,
   "id": "08520a21",
   "metadata": {
    "execution": {
     "iopub.execute_input": "2023-05-27T16:20:03.933575Z",
     "iopub.status.busy": "2023-05-27T16:20:03.933205Z",
     "iopub.status.idle": "2023-05-27T16:20:03.948896Z",
     "shell.execute_reply": "2023-05-27T16:20:03.947406Z"
    },
    "papermill": {
     "duration": 0.030389,
     "end_time": "2023-05-27T16:20:03.951620",
     "exception": false,
     "start_time": "2023-05-27T16:20:03.921231",
     "status": "completed"
    },
    "tags": []
   },
   "outputs": [
    {
     "data": {
      "text/html": [
       "<div>\n",
       "<style scoped>\n",
       "    .dataframe tbody tr th:only-of-type {\n",
       "        vertical-align: middle;\n",
       "    }\n",
       "\n",
       "    .dataframe tbody tr th {\n",
       "        vertical-align: top;\n",
       "    }\n",
       "\n",
       "    .dataframe thead th {\n",
       "        text-align: right;\n",
       "    }\n",
       "</style>\n",
       "<table border=\"1\" class=\"dataframe\">\n",
       "  <thead>\n",
       "    <tr style=\"text-align: right;\">\n",
       "      <th></th>\n",
       "      <th>id</th>\n",
       "      <th>author</th>\n",
       "      <th>geometry</th>\n",
       "      <th>pressure</th>\n",
       "      <th>mass_flux</th>\n",
       "      <th>D_e</th>\n",
       "      <th>D_h</th>\n",
       "      <th>length</th>\n",
       "      <th>chf_exp</th>\n",
       "    </tr>\n",
       "  </thead>\n",
       "  <tbody>\n",
       "    <tr>\n",
       "      <th>0</th>\n",
       "      <td>0</td>\n",
       "      <td>Thompson</td>\n",
       "      <td>tube</td>\n",
       "      <td>7.00</td>\n",
       "      <td>3770.0</td>\n",
       "      <td>NaN</td>\n",
       "      <td>10.8</td>\n",
       "      <td>432.0</td>\n",
       "      <td>3.6</td>\n",
       "    </tr>\n",
       "    <tr>\n",
       "      <th>1</th>\n",
       "      <td>1</td>\n",
       "      <td>Thompson</td>\n",
       "      <td>tube</td>\n",
       "      <td>NaN</td>\n",
       "      <td>6049.0</td>\n",
       "      <td>10.3</td>\n",
       "      <td>10.3</td>\n",
       "      <td>762.0</td>\n",
       "      <td>6.2</td>\n",
       "    </tr>\n",
       "    <tr>\n",
       "      <th>2</th>\n",
       "      <td>2</td>\n",
       "      <td>Thompson</td>\n",
       "      <td>NaN</td>\n",
       "      <td>13.79</td>\n",
       "      <td>2034.0</td>\n",
       "      <td>7.7</td>\n",
       "      <td>7.7</td>\n",
       "      <td>457.0</td>\n",
       "      <td>2.5</td>\n",
       "    </tr>\n",
       "    <tr>\n",
       "      <th>3</th>\n",
       "      <td>3</td>\n",
       "      <td>Beus</td>\n",
       "      <td>annulus</td>\n",
       "      <td>13.79</td>\n",
       "      <td>3679.0</td>\n",
       "      <td>5.6</td>\n",
       "      <td>15.2</td>\n",
       "      <td>2134.0</td>\n",
       "      <td>3.0</td>\n",
       "    </tr>\n",
       "    <tr>\n",
       "      <th>4</th>\n",
       "      <td>4</td>\n",
       "      <td>NaN</td>\n",
       "      <td>tube</td>\n",
       "      <td>13.79</td>\n",
       "      <td>686.0</td>\n",
       "      <td>11.1</td>\n",
       "      <td>11.1</td>\n",
       "      <td>457.0</td>\n",
       "      <td>2.8</td>\n",
       "    </tr>\n",
       "  </tbody>\n",
       "</table>\n",
       "</div>"
      ],
      "text/plain": [
       "   id    author geometry  pressure  mass_flux   D_e   D_h  length  chf_exp\n",
       "0   0  Thompson     tube      7.00     3770.0   NaN  10.8   432.0      3.6\n",
       "1   1  Thompson     tube       NaN     6049.0  10.3  10.3   762.0      6.2\n",
       "2   2  Thompson      NaN     13.79     2034.0   7.7   7.7   457.0      2.5\n",
       "3   3      Beus  annulus     13.79     3679.0   5.6  15.2  2134.0      3.0\n",
       "4   4       NaN     tube     13.79      686.0  11.1  11.1   457.0      2.8"
      ]
     },
     "execution_count": 26,
     "metadata": {},
     "output_type": "execute_result"
    }
   ],
   "source": [
    "df_train.head()"
   ]
  },
  {
   "cell_type": "code",
   "execution_count": 27,
   "id": "c53b7be4",
   "metadata": {
    "execution": {
     "iopub.execute_input": "2023-05-27T16:20:03.974713Z",
     "iopub.status.busy": "2023-05-27T16:20:03.974326Z",
     "iopub.status.idle": "2023-05-27T16:20:03.981138Z",
     "shell.execute_reply": "2023-05-27T16:20:03.979635Z"
    },
    "papermill": {
     "duration": 0.021357,
     "end_time": "2023-05-27T16:20:03.983936",
     "exception": false,
     "start_time": "2023-05-27T16:20:03.962579",
     "status": "completed"
    },
    "tags": []
   },
   "outputs": [],
   "source": [
    "df_test_data = df_test_data.drop(columns='x_e_out', axis=1)"
   ]
  },
  {
   "cell_type": "code",
   "execution_count": 28,
   "id": "c8e0fc85",
   "metadata": {
    "execution": {
     "iopub.execute_input": "2023-05-27T16:20:04.007954Z",
     "iopub.status.busy": "2023-05-27T16:20:04.007544Z",
     "iopub.status.idle": "2023-05-27T16:20:04.024744Z",
     "shell.execute_reply": "2023-05-27T16:20:04.023968Z"
    },
    "papermill": {
     "duration": 0.031149,
     "end_time": "2023-05-27T16:20:04.026687",
     "exception": false,
     "start_time": "2023-05-27T16:20:03.995538",
     "status": "completed"
    },
    "tags": []
   },
   "outputs": [
    {
     "data": {
      "text/html": [
       "<div>\n",
       "<style scoped>\n",
       "    .dataframe tbody tr th:only-of-type {\n",
       "        vertical-align: middle;\n",
       "    }\n",
       "\n",
       "    .dataframe tbody tr th {\n",
       "        vertical-align: top;\n",
       "    }\n",
       "\n",
       "    .dataframe thead th {\n",
       "        text-align: right;\n",
       "    }\n",
       "</style>\n",
       "<table border=\"1\" class=\"dataframe\">\n",
       "  <thead>\n",
       "    <tr style=\"text-align: right;\">\n",
       "      <th></th>\n",
       "      <th>pressure</th>\n",
       "      <th>mass_flux</th>\n",
       "      <th>D_e</th>\n",
       "      <th>D_h</th>\n",
       "      <th>length</th>\n",
       "      <th>chf_exp</th>\n",
       "      <th>author_Beus</th>\n",
       "      <th>author_Inasaka</th>\n",
       "      <th>author_Janssen</th>\n",
       "      <th>author_Kossolapov</th>\n",
       "      <th>author_Mortimore</th>\n",
       "      <th>author_Peskov</th>\n",
       "      <th>author_Richenderfer</th>\n",
       "      <th>author_Thompson</th>\n",
       "      <th>author_Weatherhead</th>\n",
       "      <th>author_Williams</th>\n",
       "      <th>geometry_annulus</th>\n",
       "      <th>geometry_plate</th>\n",
       "      <th>geometry_tube</th>\n",
       "    </tr>\n",
       "  </thead>\n",
       "  <tbody>\n",
       "    <tr>\n",
       "      <th>4</th>\n",
       "      <td>13.790000</td>\n",
       "      <td>686.000000</td>\n",
       "      <td>11.100000</td>\n",
       "      <td>11.1</td>\n",
       "      <td>457.0</td>\n",
       "      <td>2.8</td>\n",
       "      <td>0</td>\n",
       "      <td>0</td>\n",
       "      <td>0</td>\n",
       "      <td>0</td>\n",
       "      <td>0</td>\n",
       "      <td>0</td>\n",
       "      <td>0</td>\n",
       "      <td>1</td>\n",
       "      <td>0</td>\n",
       "      <td>0</td>\n",
       "      <td>0</td>\n",
       "      <td>0</td>\n",
       "      <td>1</td>\n",
       "    </tr>\n",
       "    <tr>\n",
       "      <th>7</th>\n",
       "      <td>18.000000</td>\n",
       "      <td>750.000000</td>\n",
       "      <td>10.000000</td>\n",
       "      <td>10.0</td>\n",
       "      <td>1650.0</td>\n",
       "      <td>2.2</td>\n",
       "      <td>0</td>\n",
       "      <td>0</td>\n",
       "      <td>0</td>\n",
       "      <td>0</td>\n",
       "      <td>0</td>\n",
       "      <td>1</td>\n",
       "      <td>0</td>\n",
       "      <td>0</td>\n",
       "      <td>0</td>\n",
       "      <td>0</td>\n",
       "      <td>0</td>\n",
       "      <td>0</td>\n",
       "      <td>1</td>\n",
       "    </tr>\n",
       "    <tr>\n",
       "      <th>10</th>\n",
       "      <td>10.640747</td>\n",
       "      <td>3068.011023</td>\n",
       "      <td>1.900000</td>\n",
       "      <td>1.9</td>\n",
       "      <td>152.0</td>\n",
       "      <td>3.2</td>\n",
       "      <td>0</td>\n",
       "      <td>0</td>\n",
       "      <td>0</td>\n",
       "      <td>0</td>\n",
       "      <td>0</td>\n",
       "      <td>0</td>\n",
       "      <td>0</td>\n",
       "      <td>1</td>\n",
       "      <td>0</td>\n",
       "      <td>0</td>\n",
       "      <td>0</td>\n",
       "      <td>0</td>\n",
       "      <td>1</td>\n",
       "    </tr>\n",
       "    <tr>\n",
       "      <th>12</th>\n",
       "      <td>6.890000</td>\n",
       "      <td>7500.000000</td>\n",
       "      <td>8.629255</td>\n",
       "      <td>12.8</td>\n",
       "      <td>1930.0</td>\n",
       "      <td>4.8</td>\n",
       "      <td>0</td>\n",
       "      <td>0</td>\n",
       "      <td>0</td>\n",
       "      <td>0</td>\n",
       "      <td>0</td>\n",
       "      <td>0</td>\n",
       "      <td>0</td>\n",
       "      <td>1</td>\n",
       "      <td>0</td>\n",
       "      <td>0</td>\n",
       "      <td>0</td>\n",
       "      <td>0</td>\n",
       "      <td>1</td>\n",
       "    </tr>\n",
       "    <tr>\n",
       "      <th>23</th>\n",
       "      <td>15.510000</td>\n",
       "      <td>1355.000000</td>\n",
       "      <td>5.600000</td>\n",
       "      <td>15.2</td>\n",
       "      <td>2134.0</td>\n",
       "      <td>2.1</td>\n",
       "      <td>1</td>\n",
       "      <td>0</td>\n",
       "      <td>0</td>\n",
       "      <td>0</td>\n",
       "      <td>0</td>\n",
       "      <td>0</td>\n",
       "      <td>0</td>\n",
       "      <td>0</td>\n",
       "      <td>0</td>\n",
       "      <td>0</td>\n",
       "      <td>1</td>\n",
       "      <td>0</td>\n",
       "      <td>0</td>\n",
       "    </tr>\n",
       "  </tbody>\n",
       "</table>\n",
       "</div>"
      ],
      "text/plain": [
       "     pressure    mass_flux        D_e   D_h  length  chf_exp  author_Beus  \\\n",
       "4   13.790000   686.000000  11.100000  11.1   457.0      2.8            0   \n",
       "7   18.000000   750.000000  10.000000  10.0  1650.0      2.2            0   \n",
       "10  10.640747  3068.011023   1.900000   1.9   152.0      3.2            0   \n",
       "12   6.890000  7500.000000   8.629255  12.8  1930.0      4.8            0   \n",
       "23  15.510000  1355.000000   5.600000  15.2  2134.0      2.1            1   \n",
       "\n",
       "    author_Inasaka  author_Janssen  author_Kossolapov  author_Mortimore  \\\n",
       "4                0               0                  0                 0   \n",
       "7                0               0                  0                 0   \n",
       "10               0               0                  0                 0   \n",
       "12               0               0                  0                 0   \n",
       "23               0               0                  0                 0   \n",
       "\n",
       "    author_Peskov  author_Richenderfer  author_Thompson  author_Weatherhead  \\\n",
       "4               0                    0                1                   0   \n",
       "7               1                    0                0                   0   \n",
       "10              0                    0                1                   0   \n",
       "12              0                    0                1                   0   \n",
       "23              0                    0                0                   0   \n",
       "\n",
       "    author_Williams  geometry_annulus  geometry_plate  geometry_tube  \n",
       "4                 0                 0               0              1  \n",
       "7                 0                 0               0              1  \n",
       "10                0                 0               0              1  \n",
       "12                0                 0               0              1  \n",
       "23                0                 1               0              0  "
      ]
     },
     "execution_count": 28,
     "metadata": {},
     "output_type": "execute_result"
    }
   ],
   "source": [
    "df_test_data.head()"
   ]
  },
  {
   "cell_type": "code",
   "execution_count": 29,
   "id": "bedbb453",
   "metadata": {
    "execution": {
     "iopub.execute_input": "2023-05-27T16:20:04.050456Z",
     "iopub.status.busy": "2023-05-27T16:20:04.049988Z",
     "iopub.status.idle": "2023-05-27T16:20:04.070313Z",
     "shell.execute_reply": "2023-05-27T16:20:04.069361Z"
    },
    "papermill": {
     "duration": 0.034754,
     "end_time": "2023-05-27T16:20:04.072282",
     "exception": false,
     "start_time": "2023-05-27T16:20:04.037528",
     "status": "completed"
    },
    "tags": []
   },
   "outputs": [
    {
     "data": {
      "text/html": [
       "<div>\n",
       "<style scoped>\n",
       "    .dataframe tbody tr th:only-of-type {\n",
       "        vertical-align: middle;\n",
       "    }\n",
       "\n",
       "    .dataframe tbody tr th {\n",
       "        vertical-align: top;\n",
       "    }\n",
       "\n",
       "    .dataframe thead th {\n",
       "        text-align: right;\n",
       "    }\n",
       "</style>\n",
       "<table border=\"1\" class=\"dataframe\">\n",
       "  <thead>\n",
       "    <tr style=\"text-align: right;\">\n",
       "      <th></th>\n",
       "      <th>pressure</th>\n",
       "      <th>mass_flux</th>\n",
       "      <th>D_e</th>\n",
       "      <th>D_h</th>\n",
       "      <th>length</th>\n",
       "      <th>chf_exp</th>\n",
       "      <th>author_Beus</th>\n",
       "      <th>author_Inasaka</th>\n",
       "      <th>author_Janssen</th>\n",
       "      <th>author_Kossolapov</th>\n",
       "      <th>author_Mortimore</th>\n",
       "      <th>author_Peskov</th>\n",
       "      <th>author_Richenderfer</th>\n",
       "      <th>author_Thompson</th>\n",
       "      <th>author_Weatherhead</th>\n",
       "      <th>author_Williams</th>\n",
       "      <th>geometry_annulus</th>\n",
       "      <th>geometry_plate</th>\n",
       "      <th>geometry_tube</th>\n",
       "    </tr>\n",
       "  </thead>\n",
       "  <tbody>\n",
       "    <tr>\n",
       "      <th>0</th>\n",
       "      <td>13.790000</td>\n",
       "      <td>686.000000</td>\n",
       "      <td>11.100000</td>\n",
       "      <td>11.1</td>\n",
       "      <td>457.0</td>\n",
       "      <td>2.8</td>\n",
       "      <td>0</td>\n",
       "      <td>0</td>\n",
       "      <td>0</td>\n",
       "      <td>0</td>\n",
       "      <td>0</td>\n",
       "      <td>0</td>\n",
       "      <td>0</td>\n",
       "      <td>1</td>\n",
       "      <td>0</td>\n",
       "      <td>0</td>\n",
       "      <td>0</td>\n",
       "      <td>0</td>\n",
       "      <td>1</td>\n",
       "    </tr>\n",
       "    <tr>\n",
       "      <th>1</th>\n",
       "      <td>18.000000</td>\n",
       "      <td>750.000000</td>\n",
       "      <td>10.000000</td>\n",
       "      <td>10.0</td>\n",
       "      <td>1650.0</td>\n",
       "      <td>2.2</td>\n",
       "      <td>0</td>\n",
       "      <td>0</td>\n",
       "      <td>0</td>\n",
       "      <td>0</td>\n",
       "      <td>0</td>\n",
       "      <td>1</td>\n",
       "      <td>0</td>\n",
       "      <td>0</td>\n",
       "      <td>0</td>\n",
       "      <td>0</td>\n",
       "      <td>0</td>\n",
       "      <td>0</td>\n",
       "      <td>1</td>\n",
       "    </tr>\n",
       "    <tr>\n",
       "      <th>2</th>\n",
       "      <td>10.640747</td>\n",
       "      <td>3068.011023</td>\n",
       "      <td>1.900000</td>\n",
       "      <td>1.9</td>\n",
       "      <td>152.0</td>\n",
       "      <td>3.2</td>\n",
       "      <td>0</td>\n",
       "      <td>0</td>\n",
       "      <td>0</td>\n",
       "      <td>0</td>\n",
       "      <td>0</td>\n",
       "      <td>0</td>\n",
       "      <td>0</td>\n",
       "      <td>1</td>\n",
       "      <td>0</td>\n",
       "      <td>0</td>\n",
       "      <td>0</td>\n",
       "      <td>0</td>\n",
       "      <td>1</td>\n",
       "    </tr>\n",
       "    <tr>\n",
       "      <th>3</th>\n",
       "      <td>6.890000</td>\n",
       "      <td>7500.000000</td>\n",
       "      <td>8.629255</td>\n",
       "      <td>12.8</td>\n",
       "      <td>1930.0</td>\n",
       "      <td>4.8</td>\n",
       "      <td>0</td>\n",
       "      <td>0</td>\n",
       "      <td>0</td>\n",
       "      <td>0</td>\n",
       "      <td>0</td>\n",
       "      <td>0</td>\n",
       "      <td>0</td>\n",
       "      <td>1</td>\n",
       "      <td>0</td>\n",
       "      <td>0</td>\n",
       "      <td>0</td>\n",
       "      <td>0</td>\n",
       "      <td>1</td>\n",
       "    </tr>\n",
       "    <tr>\n",
       "      <th>4</th>\n",
       "      <td>15.510000</td>\n",
       "      <td>1355.000000</td>\n",
       "      <td>5.600000</td>\n",
       "      <td>15.2</td>\n",
       "      <td>2134.0</td>\n",
       "      <td>2.1</td>\n",
       "      <td>1</td>\n",
       "      <td>0</td>\n",
       "      <td>0</td>\n",
       "      <td>0</td>\n",
       "      <td>0</td>\n",
       "      <td>0</td>\n",
       "      <td>0</td>\n",
       "      <td>0</td>\n",
       "      <td>0</td>\n",
       "      <td>0</td>\n",
       "      <td>1</td>\n",
       "      <td>0</td>\n",
       "      <td>0</td>\n",
       "    </tr>\n",
       "  </tbody>\n",
       "</table>\n",
       "</div>"
      ],
      "text/plain": [
       "    pressure    mass_flux        D_e   D_h  length  chf_exp  author_Beus  \\\n",
       "0  13.790000   686.000000  11.100000  11.1   457.0      2.8            0   \n",
       "1  18.000000   750.000000  10.000000  10.0  1650.0      2.2            0   \n",
       "2  10.640747  3068.011023   1.900000   1.9   152.0      3.2            0   \n",
       "3   6.890000  7500.000000   8.629255  12.8  1930.0      4.8            0   \n",
       "4  15.510000  1355.000000   5.600000  15.2  2134.0      2.1            1   \n",
       "\n",
       "   author_Inasaka  author_Janssen  author_Kossolapov  author_Mortimore  \\\n",
       "0               0               0                  0                 0   \n",
       "1               0               0                  0                 0   \n",
       "2               0               0                  0                 0   \n",
       "3               0               0                  0                 0   \n",
       "4               0               0                  0                 0   \n",
       "\n",
       "   author_Peskov  author_Richenderfer  author_Thompson  author_Weatherhead  \\\n",
       "0              0                    0                1                   0   \n",
       "1              1                    0                0                   0   \n",
       "2              0                    0                1                   0   \n",
       "3              0                    0                1                   0   \n",
       "4              0                    0                0                   0   \n",
       "\n",
       "   author_Williams  geometry_annulus  geometry_plate  geometry_tube  \n",
       "0                0                 0               0              1  \n",
       "1                0                 0               0              1  \n",
       "2                0                 0               0              1  \n",
       "3                0                 0               0              1  \n",
       "4                0                 1               0              0  "
      ]
     },
     "execution_count": 29,
     "metadata": {},
     "output_type": "execute_result"
    }
   ],
   "source": [
    "df_test_data = df_test_data.reset_index()\n",
    "df_test_data = df_test_data.drop('index', axis=1)\n",
    "df_test_data.head()"
   ]
  },
  {
   "cell_type": "code",
   "execution_count": 30,
   "id": "bc983a41",
   "metadata": {
    "execution": {
     "iopub.execute_input": "2023-05-27T16:20:04.096697Z",
     "iopub.status.busy": "2023-05-27T16:20:04.096323Z",
     "iopub.status.idle": "2023-05-27T16:20:04.123936Z",
     "shell.execute_reply": "2023-05-27T16:20:04.121466Z"
    },
    "papermill": {
     "duration": 0.043813,
     "end_time": "2023-05-27T16:20:04.127486",
     "exception": false,
     "start_time": "2023-05-27T16:20:04.083673",
     "status": "completed"
    },
    "tags": []
   },
   "outputs": [
    {
     "data": {
      "text/html": [
       "<div>\n",
       "<style scoped>\n",
       "    .dataframe tbody tr th:only-of-type {\n",
       "        vertical-align: middle;\n",
       "    }\n",
       "\n",
       "    .dataframe tbody tr th {\n",
       "        vertical-align: top;\n",
       "    }\n",
       "\n",
       "    .dataframe thead th {\n",
       "        text-align: right;\n",
       "    }\n",
       "</style>\n",
       "<table border=\"1\" class=\"dataframe\">\n",
       "  <thead>\n",
       "    <tr style=\"text-align: right;\">\n",
       "      <th></th>\n",
       "      <th>pressure</th>\n",
       "      <th>mass_flux</th>\n",
       "      <th>D_e</th>\n",
       "      <th>D_h</th>\n",
       "      <th>length</th>\n",
       "      <th>chf_exp</th>\n",
       "      <th>author_Beus</th>\n",
       "      <th>author_Inasaka</th>\n",
       "      <th>author_Janssen</th>\n",
       "      <th>author_Kossolapov</th>\n",
       "      <th>author_Mortimore</th>\n",
       "      <th>author_Peskov</th>\n",
       "      <th>author_Richenderfer</th>\n",
       "      <th>author_Thompson</th>\n",
       "      <th>author_Weatherhead</th>\n",
       "      <th>author_Williams</th>\n",
       "      <th>geometry_annulus</th>\n",
       "      <th>geometry_plate</th>\n",
       "      <th>geometry_tube</th>\n",
       "    </tr>\n",
       "  </thead>\n",
       "  <tbody>\n",
       "    <tr>\n",
       "      <th>0</th>\n",
       "      <td>13.790000</td>\n",
       "      <td>686.000000</td>\n",
       "      <td>11.100000</td>\n",
       "      <td>11.1</td>\n",
       "      <td>457.000000</td>\n",
       "      <td>2.8</td>\n",
       "      <td>0</td>\n",
       "      <td>0</td>\n",
       "      <td>0</td>\n",
       "      <td>0</td>\n",
       "      <td>0</td>\n",
       "      <td>0</td>\n",
       "      <td>0</td>\n",
       "      <td>1</td>\n",
       "      <td>0</td>\n",
       "      <td>0</td>\n",
       "      <td>0</td>\n",
       "      <td>0</td>\n",
       "      <td>1</td>\n",
       "    </tr>\n",
       "    <tr>\n",
       "      <th>1</th>\n",
       "      <td>18.000000</td>\n",
       "      <td>750.000000</td>\n",
       "      <td>10.000000</td>\n",
       "      <td>10.0</td>\n",
       "      <td>1650.000000</td>\n",
       "      <td>2.2</td>\n",
       "      <td>0</td>\n",
       "      <td>0</td>\n",
       "      <td>0</td>\n",
       "      <td>0</td>\n",
       "      <td>0</td>\n",
       "      <td>1</td>\n",
       "      <td>0</td>\n",
       "      <td>0</td>\n",
       "      <td>0</td>\n",
       "      <td>0</td>\n",
       "      <td>0</td>\n",
       "      <td>0</td>\n",
       "      <td>1</td>\n",
       "    </tr>\n",
       "    <tr>\n",
       "      <th>2</th>\n",
       "      <td>10.640747</td>\n",
       "      <td>3068.011023</td>\n",
       "      <td>1.900000</td>\n",
       "      <td>1.9</td>\n",
       "      <td>152.000000</td>\n",
       "      <td>3.2</td>\n",
       "      <td>0</td>\n",
       "      <td>0</td>\n",
       "      <td>0</td>\n",
       "      <td>0</td>\n",
       "      <td>0</td>\n",
       "      <td>0</td>\n",
       "      <td>0</td>\n",
       "      <td>1</td>\n",
       "      <td>0</td>\n",
       "      <td>0</td>\n",
       "      <td>0</td>\n",
       "      <td>0</td>\n",
       "      <td>1</td>\n",
       "    </tr>\n",
       "    <tr>\n",
       "      <th>3</th>\n",
       "      <td>6.890000</td>\n",
       "      <td>7500.000000</td>\n",
       "      <td>8.629255</td>\n",
       "      <td>12.8</td>\n",
       "      <td>1930.000000</td>\n",
       "      <td>4.8</td>\n",
       "      <td>0</td>\n",
       "      <td>0</td>\n",
       "      <td>0</td>\n",
       "      <td>0</td>\n",
       "      <td>0</td>\n",
       "      <td>0</td>\n",
       "      <td>0</td>\n",
       "      <td>1</td>\n",
       "      <td>0</td>\n",
       "      <td>0</td>\n",
       "      <td>0</td>\n",
       "      <td>0</td>\n",
       "      <td>1</td>\n",
       "    </tr>\n",
       "    <tr>\n",
       "      <th>4</th>\n",
       "      <td>15.510000</td>\n",
       "      <td>1355.000000</td>\n",
       "      <td>5.600000</td>\n",
       "      <td>15.2</td>\n",
       "      <td>2134.000000</td>\n",
       "      <td>2.1</td>\n",
       "      <td>1</td>\n",
       "      <td>0</td>\n",
       "      <td>0</td>\n",
       "      <td>0</td>\n",
       "      <td>0</td>\n",
       "      <td>0</td>\n",
       "      <td>0</td>\n",
       "      <td>0</td>\n",
       "      <td>0</td>\n",
       "      <td>0</td>\n",
       "      <td>1</td>\n",
       "      <td>0</td>\n",
       "      <td>0</td>\n",
       "    </tr>\n",
       "    <tr>\n",
       "      <th>...</th>\n",
       "      <td>...</td>\n",
       "      <td>...</td>\n",
       "      <td>...</td>\n",
       "      <td>...</td>\n",
       "      <td>...</td>\n",
       "      <td>...</td>\n",
       "      <td>...</td>\n",
       "      <td>...</td>\n",
       "      <td>...</td>\n",
       "      <td>...</td>\n",
       "      <td>...</td>\n",
       "      <td>...</td>\n",
       "      <td>...</td>\n",
       "      <td>...</td>\n",
       "      <td>...</td>\n",
       "      <td>...</td>\n",
       "      <td>...</td>\n",
       "      <td>...</td>\n",
       "      <td>...</td>\n",
       "    </tr>\n",
       "    <tr>\n",
       "      <th>10410</th>\n",
       "      <td>11.030000</td>\n",
       "      <td>3068.011023</td>\n",
       "      <td>11.500000</td>\n",
       "      <td>11.5</td>\n",
       "      <td>832.987391</td>\n",
       "      <td>2.0</td>\n",
       "      <td>0</td>\n",
       "      <td>0</td>\n",
       "      <td>0</td>\n",
       "      <td>0</td>\n",
       "      <td>0</td>\n",
       "      <td>0</td>\n",
       "      <td>0</td>\n",
       "      <td>1</td>\n",
       "      <td>0</td>\n",
       "      <td>0</td>\n",
       "      <td>0</td>\n",
       "      <td>0</td>\n",
       "      <td>1</td>\n",
       "    </tr>\n",
       "    <tr>\n",
       "      <th>10411</th>\n",
       "      <td>1.010000</td>\n",
       "      <td>2000.000000</td>\n",
       "      <td>15.000000</td>\n",
       "      <td>120.0</td>\n",
       "      <td>10.000000</td>\n",
       "      <td>6.2</td>\n",
       "      <td>0</td>\n",
       "      <td>0</td>\n",
       "      <td>0</td>\n",
       "      <td>0</td>\n",
       "      <td>0</td>\n",
       "      <td>0</td>\n",
       "      <td>1</td>\n",
       "      <td>0</td>\n",
       "      <td>0</td>\n",
       "      <td>0</td>\n",
       "      <td>0</td>\n",
       "      <td>1</td>\n",
       "      <td>0</td>\n",
       "    </tr>\n",
       "    <tr>\n",
       "      <th>10412</th>\n",
       "      <td>13.790000</td>\n",
       "      <td>688.000000</td>\n",
       "      <td>8.629255</td>\n",
       "      <td>11.1</td>\n",
       "      <td>457.000000</td>\n",
       "      <td>2.3</td>\n",
       "      <td>0</td>\n",
       "      <td>0</td>\n",
       "      <td>0</td>\n",
       "      <td>0</td>\n",
       "      <td>0</td>\n",
       "      <td>0</td>\n",
       "      <td>0</td>\n",
       "      <td>0</td>\n",
       "      <td>1</td>\n",
       "      <td>0</td>\n",
       "      <td>0</td>\n",
       "      <td>0</td>\n",
       "      <td>1</td>\n",
       "    </tr>\n",
       "    <tr>\n",
       "      <th>10413</th>\n",
       "      <td>13.790000</td>\n",
       "      <td>3068.011023</td>\n",
       "      <td>4.700000</td>\n",
       "      <td>4.7</td>\n",
       "      <td>832.987391</td>\n",
       "      <td>3.9</td>\n",
       "      <td>0</td>\n",
       "      <td>0</td>\n",
       "      <td>0</td>\n",
       "      <td>0</td>\n",
       "      <td>0</td>\n",
       "      <td>0</td>\n",
       "      <td>0</td>\n",
       "      <td>1</td>\n",
       "      <td>0</td>\n",
       "      <td>0</td>\n",
       "      <td>0</td>\n",
       "      <td>0</td>\n",
       "      <td>1</td>\n",
       "    </tr>\n",
       "    <tr>\n",
       "      <th>10414</th>\n",
       "      <td>6.890000</td>\n",
       "      <td>3825.000000</td>\n",
       "      <td>23.600000</td>\n",
       "      <td>23.6</td>\n",
       "      <td>1972.000000</td>\n",
       "      <td>3.7</td>\n",
       "      <td>0</td>\n",
       "      <td>0</td>\n",
       "      <td>0</td>\n",
       "      <td>0</td>\n",
       "      <td>0</td>\n",
       "      <td>0</td>\n",
       "      <td>0</td>\n",
       "      <td>1</td>\n",
       "      <td>0</td>\n",
       "      <td>0</td>\n",
       "      <td>0</td>\n",
       "      <td>0</td>\n",
       "      <td>1</td>\n",
       "    </tr>\n",
       "  </tbody>\n",
       "</table>\n",
       "<p>10415 rows × 19 columns</p>\n",
       "</div>"
      ],
      "text/plain": [
       "        pressure    mass_flux        D_e    D_h       length  chf_exp  \\\n",
       "0      13.790000   686.000000  11.100000   11.1   457.000000      2.8   \n",
       "1      18.000000   750.000000  10.000000   10.0  1650.000000      2.2   \n",
       "2      10.640747  3068.011023   1.900000    1.9   152.000000      3.2   \n",
       "3       6.890000  7500.000000   8.629255   12.8  1930.000000      4.8   \n",
       "4      15.510000  1355.000000   5.600000   15.2  2134.000000      2.1   \n",
       "...          ...          ...        ...    ...          ...      ...   \n",
       "10410  11.030000  3068.011023  11.500000   11.5   832.987391      2.0   \n",
       "10411   1.010000  2000.000000  15.000000  120.0    10.000000      6.2   \n",
       "10412  13.790000   688.000000   8.629255   11.1   457.000000      2.3   \n",
       "10413  13.790000  3068.011023   4.700000    4.7   832.987391      3.9   \n",
       "10414   6.890000  3825.000000  23.600000   23.6  1972.000000      3.7   \n",
       "\n",
       "       author_Beus  author_Inasaka  author_Janssen  author_Kossolapov  \\\n",
       "0                0               0               0                  0   \n",
       "1                0               0               0                  0   \n",
       "2                0               0               0                  0   \n",
       "3                0               0               0                  0   \n",
       "4                1               0               0                  0   \n",
       "...            ...             ...             ...                ...   \n",
       "10410            0               0               0                  0   \n",
       "10411            0               0               0                  0   \n",
       "10412            0               0               0                  0   \n",
       "10413            0               0               0                  0   \n",
       "10414            0               0               0                  0   \n",
       "\n",
       "       author_Mortimore  author_Peskov  author_Richenderfer  author_Thompson  \\\n",
       "0                     0              0                    0                1   \n",
       "1                     0              1                    0                0   \n",
       "2                     0              0                    0                1   \n",
       "3                     0              0                    0                1   \n",
       "4                     0              0                    0                0   \n",
       "...                 ...            ...                  ...              ...   \n",
       "10410                 0              0                    0                1   \n",
       "10411                 0              0                    1                0   \n",
       "10412                 0              0                    0                0   \n",
       "10413                 0              0                    0                1   \n",
       "10414                 0              0                    0                1   \n",
       "\n",
       "       author_Weatherhead  author_Williams  geometry_annulus  geometry_plate  \\\n",
       "0                       0                0                 0               0   \n",
       "1                       0                0                 0               0   \n",
       "2                       0                0                 0               0   \n",
       "3                       0                0                 0               0   \n",
       "4                       0                0                 1               0   \n",
       "...                   ...              ...               ...             ...   \n",
       "10410                   0                0                 0               0   \n",
       "10411                   0                0                 0               1   \n",
       "10412                   1                0                 0               0   \n",
       "10413                   0                0                 0               0   \n",
       "10414                   0                0                 0               0   \n",
       "\n",
       "       geometry_tube  \n",
       "0                  1  \n",
       "1                  1  \n",
       "2                  1  \n",
       "3                  1  \n",
       "4                  0  \n",
       "...              ...  \n",
       "10410              1  \n",
       "10411              0  \n",
       "10412              1  \n",
       "10413              1  \n",
       "10414              1  \n",
       "\n",
       "[10415 rows x 19 columns]"
      ]
     },
     "execution_count": 30,
     "metadata": {},
     "output_type": "execute_result"
    }
   ],
   "source": [
    "df_test_data"
   ]
  },
  {
   "cell_type": "code",
   "execution_count": 31,
   "id": "117f5330",
   "metadata": {
    "execution": {
     "iopub.execute_input": "2023-05-27T16:20:04.154601Z",
     "iopub.status.busy": "2023-05-27T16:20:04.154187Z",
     "iopub.status.idle": "2023-05-27T16:20:04.160996Z",
     "shell.execute_reply": "2023-05-27T16:20:04.159515Z"
    },
    "papermill": {
     "duration": 0.023562,
     "end_time": "2023-05-27T16:20:04.163612",
     "exception": false,
     "start_time": "2023-05-27T16:20:04.140050",
     "status": "completed"
    },
    "tags": []
   },
   "outputs": [],
   "source": [
    "X = df_train_data.drop(columns = 'x_e_out',axis=1)\n",
    "y = df_train_data['x_e_out']"
   ]
  },
  {
   "cell_type": "code",
   "execution_count": 32,
   "id": "f397b49a",
   "metadata": {
    "execution": {
     "iopub.execute_input": "2023-05-27T16:20:04.188974Z",
     "iopub.status.busy": "2023-05-27T16:20:04.188523Z",
     "iopub.status.idle": "2023-05-27T16:20:04.194818Z",
     "shell.execute_reply": "2023-05-27T16:20:04.193455Z"
    },
    "papermill": {
     "duration": 0.02174,
     "end_time": "2023-05-27T16:20:04.197111",
     "exception": false,
     "start_time": "2023-05-27T16:20:04.175371",
     "status": "completed"
    },
    "tags": []
   },
   "outputs": [],
   "source": [
    "params = {'colsample_bytree' : 0.8,  \n",
    "          'gamma' : 0.01, \n",
    "          'learning_rate' : 0.01, \n",
    "          'max_depth' : 5,  \n",
    "          'min_child_weight' : 50, \n",
    "          'n_estimators' : 1000, \n",
    "          'subsample' : 0.7}"
   ]
  },
  {
   "cell_type": "code",
   "execution_count": 33,
   "id": "61a3b35a",
   "metadata": {
    "execution": {
     "iopub.execute_input": "2023-05-27T16:20:04.222458Z",
     "iopub.status.busy": "2023-05-27T16:20:04.222133Z",
     "iopub.status.idle": "2023-05-27T16:21:34.901318Z",
     "shell.execute_reply": "2023-05-27T16:21:34.900541Z"
    },
    "papermill": {
     "duration": 90.694459,
     "end_time": "2023-05-27T16:21:34.903352",
     "exception": false,
     "start_time": "2023-05-27T16:20:04.208893",
     "status": "completed"
    },
    "tags": []
   },
   "outputs": [
    {
     "name": "stdout",
     "output_type": "stream",
     "text": [
      "fold: 1 rmse xgb: 0.07674336173719133\n",
      "fold: 2 rmse xgb: 0.07571137618673736\n",
      "fold: 3 rmse xgb: 0.07318831303056739\n",
      "fold: 4 rmse xgb: 0.07574160808590204\n",
      "fold: 5 rmse xgb: 0.0749294518485237\n",
      "fold: 6 rmse xgb: 0.0731792787930007\n",
      "fold: 7 rmse xgb: 0.0731992093565595\n",
      "fold: 8 rmse xgb: 0.07306174171127816\n",
      "fold: 9 rmse xgb: 0.07279341415689007\n",
      "fold: 10 rmse xgb: 0.07378969007873658\n",
      "0.07423374449853869\n"
     ]
    }
   ],
   "source": [
    "kfold = KFold(n_splits=10, shuffle=True, random_state=0)\n",
    "pred_xgb = np.zeros(df_test_data.shape[0])\n",
    "# pred_cat = np.zeros(test_df.shape[0])\n",
    "# pred_lgb = np.zeros(test_df.shape[0])\n",
    "rmse_xgb=[]  \n",
    "\n",
    "rmse = []# list contains rmse for each fold\n",
    "n=0\n",
    "\n",
    "for i, (train_index, valid_index) in enumerate(kfold.split(X, y)):\n",
    "    x_train, y_train = X.iloc[train_index], y.iloc[train_index]\n",
    "    x_valid, y_valid = X.loc[valid_index], y.iloc[valid_index]\n",
    "    \n",
    "    # XGBoost regressor\n",
    "    model_xgb = XGBRegressor(**params)\n",
    "    model_xgb.fit(x_train,y_train,eval_set=[(x_valid,y_valid)],early_stopping_rounds=100,verbose=False) \n",
    "    pred_xgb+=model_xgb.predict(df_test_data)/kfold.n_splits\n",
    "    rmse_xgb.append(mean_squared_error(y_valid, model_xgb.predict(x_valid), squared=False))\n",
    "    \n",
    "#     # CatBoost regressor\n",
    "#     model_cat = cat.CatBoostRegressor(**cat_params)\n",
    "#     model_cat.fit(x_train,y_train,eval_set=[(x_valid,y_valid)],early_stopping_rounds=100,verbose=False) \n",
    "#     pred_cat+=model_cat.predict(test_df)/kfold.n_splits\n",
    "#     rmse_cat.append(mean_squared_error(y_valid, model_cat.predict(x_valid), squared=False))\n",
    "    \n",
    "    \n",
    "#     # LightGBM regressor\n",
    "#     model_lgb = LGBMRegressor(**study_lgbm.best_params)\n",
    "#     model_lgb.fit(x_train,y_train,eval_set=[(x_valid,y_valid)],early_stopping_rounds=100,verbose=False) \n",
    "#     pred_lgb+=model_lgb.predict(test_df)/kfold.n_splits\n",
    "#     rmse_lgb.append(mean_squared_error(y_valid, model_lgb.predict(x_valid), squared=False))\n",
    "    \n",
    "#     rmse_val = (rmse_xgb[n]+ rmse_cat[n]+ rmse_lgb[n]) / 3    \n",
    "#     rmse.append(rmse_val)\n",
    "    print(f\"fold: {n+1} rmse xgb: {rmse_xgb[n]}\")\n",
    "    n+=1\n",
    "\n",
    "print(np.mean(rmse_xgb))"
   ]
  },
  {
   "cell_type": "code",
   "execution_count": 34,
   "id": "2b97f95a",
   "metadata": {
    "execution": {
     "iopub.execute_input": "2023-05-27T16:21:34.929194Z",
     "iopub.status.busy": "2023-05-27T16:21:34.928796Z",
     "iopub.status.idle": "2023-05-27T16:21:34.936040Z",
     "shell.execute_reply": "2023-05-27T16:21:34.934695Z"
    },
    "papermill": {
     "duration": 0.023365,
     "end_time": "2023-05-27T16:21:34.938768",
     "exception": false,
     "start_time": "2023-05-27T16:21:34.915403",
     "status": "completed"
    },
    "tags": []
   },
   "outputs": [
    {
     "data": {
      "text/plain": [
       "10415"
      ]
     },
     "execution_count": 34,
     "metadata": {},
     "output_type": "execute_result"
    }
   ],
   "source": [
    "len(pred_xgb)"
   ]
  },
  {
   "cell_type": "markdown",
   "id": "fc7be3b1",
   "metadata": {
    "papermill": {
     "duration": 0.012758,
     "end_time": "2023-05-27T16:21:34.965409",
     "exception": false,
     "start_time": "2023-05-27T16:21:34.952651",
     "status": "completed"
    },
    "tags": []
   },
   "source": [
    "### Add the submission"
   ]
  },
  {
   "cell_type": "code",
   "execution_count": 35,
   "id": "c3f6a59d",
   "metadata": {
    "execution": {
     "iopub.execute_input": "2023-05-27T16:21:34.995262Z",
     "iopub.status.busy": "2023-05-27T16:21:34.993814Z",
     "iopub.status.idle": "2023-05-27T16:21:35.019056Z",
     "shell.execute_reply": "2023-05-27T16:21:35.018104Z"
    },
    "papermill": {
     "duration": 0.042859,
     "end_time": "2023-05-27T16:21:35.021084",
     "exception": false,
     "start_time": "2023-05-27T16:21:34.978225",
     "status": "completed"
    },
    "tags": []
   },
   "outputs": [
    {
     "data": {
      "text/html": [
       "<div>\n",
       "<style scoped>\n",
       "    .dataframe tbody tr th:only-of-type {\n",
       "        vertical-align: middle;\n",
       "    }\n",
       "\n",
       "    .dataframe tbody tr th {\n",
       "        vertical-align: top;\n",
       "    }\n",
       "\n",
       "    .dataframe thead th {\n",
       "        text-align: right;\n",
       "    }\n",
       "</style>\n",
       "<table border=\"1\" class=\"dataframe\">\n",
       "  <thead>\n",
       "    <tr style=\"text-align: right;\">\n",
       "      <th></th>\n",
       "      <th>id</th>\n",
       "      <th>x_e_out [-]</th>\n",
       "    </tr>\n",
       "  </thead>\n",
       "  <tbody>\n",
       "    <tr>\n",
       "      <th>0</th>\n",
       "      <td>4</td>\n",
       "      <td>0.0</td>\n",
       "    </tr>\n",
       "    <tr>\n",
       "      <th>1</th>\n",
       "      <td>7</td>\n",
       "      <td>0.0</td>\n",
       "    </tr>\n",
       "    <tr>\n",
       "      <th>2</th>\n",
       "      <td>10</td>\n",
       "      <td>0.0</td>\n",
       "    </tr>\n",
       "    <tr>\n",
       "      <th>3</th>\n",
       "      <td>12</td>\n",
       "      <td>0.0</td>\n",
       "    </tr>\n",
       "    <tr>\n",
       "      <th>4</th>\n",
       "      <td>23</td>\n",
       "      <td>0.0</td>\n",
       "    </tr>\n",
       "  </tbody>\n",
       "</table>\n",
       "</div>"
      ],
      "text/plain": [
       "   id  x_e_out [-]\n",
       "0   4          0.0\n",
       "1   7          0.0\n",
       "2  10          0.0\n",
       "3  12          0.0\n",
       "4  23          0.0"
      ]
     },
     "execution_count": 35,
     "metadata": {},
     "output_type": "execute_result"
    }
   ],
   "source": [
    "submission = pd.read_csv('/kaggle/input/playground-series-s3e15/sample_submission.csv')\n",
    "submission.head()"
   ]
  },
  {
   "cell_type": "code",
   "execution_count": 36,
   "id": "d3e796ce",
   "metadata": {
    "execution": {
     "iopub.execute_input": "2023-05-27T16:21:35.049016Z",
     "iopub.status.busy": "2023-05-27T16:21:35.047781Z",
     "iopub.status.idle": "2023-05-27T16:21:35.053186Z",
     "shell.execute_reply": "2023-05-27T16:21:35.052363Z"
    },
    "papermill": {
     "duration": 0.021516,
     "end_time": "2023-05-27T16:21:35.055226",
     "exception": false,
     "start_time": "2023-05-27T16:21:35.033710",
     "status": "completed"
    },
    "tags": []
   },
   "outputs": [],
   "source": [
    "submission['x_e_out [-]'] = pred_xgb"
   ]
  },
  {
   "cell_type": "code",
   "execution_count": 37,
   "id": "0ce70ddf",
   "metadata": {
    "execution": {
     "iopub.execute_input": "2023-05-27T16:21:35.083744Z",
     "iopub.status.busy": "2023-05-27T16:21:35.083022Z",
     "iopub.status.idle": "2023-05-27T16:21:35.118140Z",
     "shell.execute_reply": "2023-05-27T16:21:35.115988Z"
    },
    "papermill": {
     "duration": 0.05328,
     "end_time": "2023-05-27T16:21:35.121044",
     "exception": false,
     "start_time": "2023-05-27T16:21:35.067764",
     "status": "completed"
    },
    "tags": []
   },
   "outputs": [],
   "source": [
    "submission.to_csv('submission.csv', index=False)"
   ]
  }
 ],
 "metadata": {
  "kernelspec": {
   "display_name": "Python 3",
   "language": "python",
   "name": "python3"
  },
  "language_info": {
   "codemirror_mode": {
    "name": "ipython",
    "version": 3
   },
   "file_extension": ".py",
   "mimetype": "text/x-python",
   "name": "python",
   "nbconvert_exporter": "python",
   "pygments_lexer": "ipython3",
   "version": "3.10.10"
  },
  "papermill": {
   "default_parameters": {},
   "duration": 110.165252,
   "end_time": "2023-05-27T16:21:36.360293",
   "environment_variables": {},
   "exception": null,
   "input_path": "__notebook__.ipynb",
   "output_path": "__notebook__.ipynb",
   "parameters": {},
   "start_time": "2023-05-27T16:19:46.195041",
   "version": "2.4.0"
  }
 },
 "nbformat": 4,
 "nbformat_minor": 5
}
