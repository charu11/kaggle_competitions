{
 "cells": [
  {
   "cell_type": "code",
   "execution_count": 1,
   "id": "9301e926",
   "metadata": {
    "_cell_guid": "b1076dfc-b9ad-4769-8c92-a6c4dae69d19",
    "_uuid": "8f2839f25d086af736a60e9eeb907d3b93b6e0e5",
    "execution": {
     "iopub.execute_input": "2023-05-22T17:16:37.215221Z",
     "iopub.status.busy": "2023-05-22T17:16:37.214333Z",
     "iopub.status.idle": "2023-05-22T17:16:38.861677Z",
     "shell.execute_reply": "2023-05-22T17:16:38.860448Z"
    },
    "papermill": {
     "duration": 1.658083,
     "end_time": "2023-05-22T17:16:38.864300",
     "exception": false,
     "start_time": "2023-05-22T17:16:37.206217",
     "status": "completed"
    },
    "tags": []
   },
   "outputs": [
    {
     "name": "stderr",
     "output_type": "stream",
     "text": [
      "/opt/conda/lib/python3.10/site-packages/scipy/__init__.py:146: UserWarning: A NumPy version >=1.16.5 and <1.23.0 is required for this version of SciPy (detected version 1.23.5\n",
      "  warnings.warn(f\"A NumPy version >={np_minversion} and <{np_maxversion}\"\n"
     ]
    },
    {
     "name": "stdout",
     "output_type": "stream",
     "text": [
      "/kaggle/input/playground-series-s3e15/sample_submission.csv\n",
      "/kaggle/input/playground-series-s3e15/data.csv\n"
     ]
    }
   ],
   "source": [
    "# This Python 3 environment comes with many helpful analytics libraries installed\n",
    "# It is defined by the kaggle/python Docker image: https://github.com/kaggle/docker-python\n",
    "# For example, here's several helpful packages to load\n",
    "\n",
    "import numpy as np # linear algebra\n",
    "import pandas as pd # data processing, CSV file I/O (e.g. pd.read_csv)\n",
    "\n",
    "\n",
    "from sklearn.experimental import enable_iterative_imputer\n",
    "from sklearn.impute import IterativeImputer\n",
    "\n",
    "# Input data files are available in the read-only \"../input/\" directory\n",
    "# For example, running this (by clicking run or pressing Shift+Enter) will list all files under the input directory\n",
    "\n",
    "import os\n",
    "for dirname, _, filenames in os.walk('/kaggle/input'):\n",
    "    for filename in filenames:\n",
    "        print(os.path.join(dirname, filename))\n",
    "\n",
    "# You can write up to 20GB to the current directory (/kaggle/working/) that gets preserved as output when you create a version using \"Save & Run All\" \n",
    "# You can also write temporary files to /kaggle/temp/, but they won't be saved outside of the current session"
   ]
  },
  {
   "cell_type": "markdown",
   "id": "4c35b990",
   "metadata": {
    "papermill": {
     "duration": 0.005527,
     "end_time": "2023-05-22T17:16:38.875908",
     "exception": false,
     "start_time": "2023-05-22T17:16:38.870381",
     "status": "completed"
    },
    "tags": []
   },
   "source": [
    "### Import the data"
   ]
  },
  {
   "cell_type": "code",
   "execution_count": 2,
   "id": "4d442434",
   "metadata": {
    "execution": {
     "iopub.execute_input": "2023-05-22T17:16:38.890158Z",
     "iopub.status.busy": "2023-05-22T17:16:38.888992Z",
     "iopub.status.idle": "2023-05-22T17:16:39.018909Z",
     "shell.execute_reply": "2023-05-22T17:16:39.017618Z"
    },
    "papermill": {
     "duration": 0.139877,
     "end_time": "2023-05-22T17:16:39.021615",
     "exception": false,
     "start_time": "2023-05-22T17:16:38.881738",
     "status": "completed"
    },
    "tags": []
   },
   "outputs": [
    {
     "data": {
      "text/html": [
       "<div>\n",
       "<style scoped>\n",
       "    .dataframe tbody tr th:only-of-type {\n",
       "        vertical-align: middle;\n",
       "    }\n",
       "\n",
       "    .dataframe tbody tr th {\n",
       "        vertical-align: top;\n",
       "    }\n",
       "\n",
       "    .dataframe thead th {\n",
       "        text-align: right;\n",
       "    }\n",
       "</style>\n",
       "<table border=\"1\" class=\"dataframe\">\n",
       "  <thead>\n",
       "    <tr style=\"text-align: right;\">\n",
       "      <th></th>\n",
       "      <th>id</th>\n",
       "      <th>author</th>\n",
       "      <th>geometry</th>\n",
       "      <th>pressure [MPa]</th>\n",
       "      <th>mass_flux [kg/m2-s]</th>\n",
       "      <th>x_e_out [-]</th>\n",
       "      <th>D_e [mm]</th>\n",
       "      <th>D_h [mm]</th>\n",
       "      <th>length [mm]</th>\n",
       "      <th>chf_exp [MW/m2]</th>\n",
       "    </tr>\n",
       "  </thead>\n",
       "  <tbody>\n",
       "    <tr>\n",
       "      <th>0</th>\n",
       "      <td>0</td>\n",
       "      <td>Thompson</td>\n",
       "      <td>tube</td>\n",
       "      <td>7.00</td>\n",
       "      <td>3770.0</td>\n",
       "      <td>0.1754</td>\n",
       "      <td>NaN</td>\n",
       "      <td>10.8</td>\n",
       "      <td>432.0</td>\n",
       "      <td>3.6</td>\n",
       "    </tr>\n",
       "    <tr>\n",
       "      <th>1</th>\n",
       "      <td>1</td>\n",
       "      <td>Thompson</td>\n",
       "      <td>tube</td>\n",
       "      <td>NaN</td>\n",
       "      <td>6049.0</td>\n",
       "      <td>-0.0416</td>\n",
       "      <td>10.3</td>\n",
       "      <td>10.3</td>\n",
       "      <td>762.0</td>\n",
       "      <td>6.2</td>\n",
       "    </tr>\n",
       "    <tr>\n",
       "      <th>2</th>\n",
       "      <td>2</td>\n",
       "      <td>Thompson</td>\n",
       "      <td>NaN</td>\n",
       "      <td>13.79</td>\n",
       "      <td>2034.0</td>\n",
       "      <td>0.0335</td>\n",
       "      <td>7.7</td>\n",
       "      <td>7.7</td>\n",
       "      <td>457.0</td>\n",
       "      <td>2.5</td>\n",
       "    </tr>\n",
       "    <tr>\n",
       "      <th>3</th>\n",
       "      <td>3</td>\n",
       "      <td>Beus</td>\n",
       "      <td>annulus</td>\n",
       "      <td>13.79</td>\n",
       "      <td>3679.0</td>\n",
       "      <td>-0.0279</td>\n",
       "      <td>5.6</td>\n",
       "      <td>15.2</td>\n",
       "      <td>2134.0</td>\n",
       "      <td>3.0</td>\n",
       "    </tr>\n",
       "    <tr>\n",
       "      <th>4</th>\n",
       "      <td>4</td>\n",
       "      <td>NaN</td>\n",
       "      <td>tube</td>\n",
       "      <td>13.79</td>\n",
       "      <td>686.0</td>\n",
       "      <td>NaN</td>\n",
       "      <td>11.1</td>\n",
       "      <td>11.1</td>\n",
       "      <td>457.0</td>\n",
       "      <td>2.8</td>\n",
       "    </tr>\n",
       "  </tbody>\n",
       "</table>\n",
       "</div>"
      ],
      "text/plain": [
       "   id    author geometry  pressure [MPa]  mass_flux [kg/m2-s]  x_e_out [-]  \\\n",
       "0   0  Thompson     tube            7.00               3770.0       0.1754   \n",
       "1   1  Thompson     tube             NaN               6049.0      -0.0416   \n",
       "2   2  Thompson      NaN           13.79               2034.0       0.0335   \n",
       "3   3      Beus  annulus           13.79               3679.0      -0.0279   \n",
       "4   4       NaN     tube           13.79                686.0          NaN   \n",
       "\n",
       "   D_e [mm]  D_h [mm]  length [mm]  chf_exp [MW/m2]  \n",
       "0       NaN      10.8        432.0              3.6  \n",
       "1      10.3      10.3        762.0              6.2  \n",
       "2       7.7       7.7        457.0              2.5  \n",
       "3       5.6      15.2       2134.0              3.0  \n",
       "4      11.1      11.1        457.0              2.8  "
      ]
     },
     "execution_count": 2,
     "metadata": {},
     "output_type": "execute_result"
    }
   ],
   "source": [
    "df = pd.read_csv('/kaggle/input/playground-series-s3e15/data.csv')\n",
    "df.head()"
   ]
  },
  {
   "cell_type": "code",
   "execution_count": 3,
   "id": "9c579e8c",
   "metadata": {
    "execution": {
     "iopub.execute_input": "2023-05-22T17:16:39.035545Z",
     "iopub.status.busy": "2023-05-22T17:16:39.035141Z",
     "iopub.status.idle": "2023-05-22T17:16:39.041772Z",
     "shell.execute_reply": "2023-05-22T17:16:39.040671Z"
    },
    "papermill": {
     "duration": 0.016452,
     "end_time": "2023-05-22T17:16:39.044172",
     "exception": false,
     "start_time": "2023-05-22T17:16:39.027720",
     "status": "completed"
    },
    "tags": []
   },
   "outputs": [
    {
     "data": {
      "text/plain": [
       "31644"
      ]
     },
     "execution_count": 3,
     "metadata": {},
     "output_type": "execute_result"
    }
   ],
   "source": [
    "len(df)"
   ]
  },
  {
   "cell_type": "markdown",
   "id": "642123d0",
   "metadata": {
    "papermill": {
     "duration": 0.006024,
     "end_time": "2023-05-22T17:16:39.056384",
     "exception": false,
     "start_time": "2023-05-22T17:16:39.050360",
     "status": "completed"
    },
    "tags": []
   },
   "source": [
    "### Check the null values"
   ]
  },
  {
   "cell_type": "code",
   "execution_count": 4,
   "id": "f8a84c17",
   "metadata": {
    "execution": {
     "iopub.execute_input": "2023-05-22T17:16:39.070452Z",
     "iopub.status.busy": "2023-05-22T17:16:39.070085Z",
     "iopub.status.idle": "2023-05-22T17:16:39.102296Z",
     "shell.execute_reply": "2023-05-22T17:16:39.101040Z"
    },
    "papermill": {
     "duration": 0.042237,
     "end_time": "2023-05-22T17:16:39.104872",
     "exception": false,
     "start_time": "2023-05-22T17:16:39.062635",
     "status": "completed"
    },
    "tags": []
   },
   "outputs": [
    {
     "data": {
      "text/plain": [
       "id                         0\n",
       "author                  5024\n",
       "geometry                5500\n",
       "pressure [MPa]          4452\n",
       "mass_flux [kg/m2-s]     4791\n",
       "x_e_out [-]            10415\n",
       "D_e [mm]                5488\n",
       "D_h [mm]                4589\n",
       "length [mm]             4759\n",
       "chf_exp [MW/m2]            0\n",
       "dtype: int64"
      ]
     },
     "execution_count": 4,
     "metadata": {},
     "output_type": "execute_result"
    }
   ],
   "source": [
    "df.isnull().sum()"
   ]
  },
  {
   "cell_type": "code",
   "execution_count": 5,
   "id": "8e70ba74",
   "metadata": {
    "execution": {
     "iopub.execute_input": "2023-05-22T17:16:39.120022Z",
     "iopub.status.busy": "2023-05-22T17:16:39.119257Z",
     "iopub.status.idle": "2023-05-22T17:16:39.137611Z",
     "shell.execute_reply": "2023-05-22T17:16:39.136608Z"
    },
    "papermill": {
     "duration": 0.028745,
     "end_time": "2023-05-22T17:16:39.140148",
     "exception": false,
     "start_time": "2023-05-22T17:16:39.111403",
     "status": "completed"
    },
    "tags": []
   },
   "outputs": [
    {
     "data": {
      "text/html": [
       "<div>\n",
       "<style scoped>\n",
       "    .dataframe tbody tr th:only-of-type {\n",
       "        vertical-align: middle;\n",
       "    }\n",
       "\n",
       "    .dataframe tbody tr th {\n",
       "        vertical-align: top;\n",
       "    }\n",
       "\n",
       "    .dataframe thead th {\n",
       "        text-align: right;\n",
       "    }\n",
       "</style>\n",
       "<table border=\"1\" class=\"dataframe\">\n",
       "  <thead>\n",
       "    <tr style=\"text-align: right;\">\n",
       "      <th></th>\n",
       "      <th>id</th>\n",
       "      <th>author</th>\n",
       "      <th>geometry</th>\n",
       "      <th>pressure [MPa]</th>\n",
       "      <th>mass_flux [kg/m2-s]</th>\n",
       "      <th>x_e_out [-]</th>\n",
       "      <th>D_e [mm]</th>\n",
       "      <th>D_h [mm]</th>\n",
       "      <th>length [mm]</th>\n",
       "      <th>chf_exp [MW/m2]</th>\n",
       "    </tr>\n",
       "  </thead>\n",
       "  <tbody>\n",
       "    <tr>\n",
       "      <th>0</th>\n",
       "      <td>0</td>\n",
       "      <td>Thompson</td>\n",
       "      <td>tube</td>\n",
       "      <td>7.00</td>\n",
       "      <td>3770.0</td>\n",
       "      <td>0.1754</td>\n",
       "      <td>NaN</td>\n",
       "      <td>10.8</td>\n",
       "      <td>432.0</td>\n",
       "      <td>3.6</td>\n",
       "    </tr>\n",
       "    <tr>\n",
       "      <th>1</th>\n",
       "      <td>1</td>\n",
       "      <td>Thompson</td>\n",
       "      <td>tube</td>\n",
       "      <td>NaN</td>\n",
       "      <td>6049.0</td>\n",
       "      <td>-0.0416</td>\n",
       "      <td>10.3</td>\n",
       "      <td>10.3</td>\n",
       "      <td>762.0</td>\n",
       "      <td>6.2</td>\n",
       "    </tr>\n",
       "    <tr>\n",
       "      <th>2</th>\n",
       "      <td>2</td>\n",
       "      <td>Thompson</td>\n",
       "      <td>NaN</td>\n",
       "      <td>13.79</td>\n",
       "      <td>2034.0</td>\n",
       "      <td>0.0335</td>\n",
       "      <td>7.7</td>\n",
       "      <td>7.7</td>\n",
       "      <td>457.0</td>\n",
       "      <td>2.5</td>\n",
       "    </tr>\n",
       "    <tr>\n",
       "      <th>3</th>\n",
       "      <td>3</td>\n",
       "      <td>Beus</td>\n",
       "      <td>annulus</td>\n",
       "      <td>13.79</td>\n",
       "      <td>3679.0</td>\n",
       "      <td>-0.0279</td>\n",
       "      <td>5.6</td>\n",
       "      <td>15.2</td>\n",
       "      <td>2134.0</td>\n",
       "      <td>3.0</td>\n",
       "    </tr>\n",
       "    <tr>\n",
       "      <th>4</th>\n",
       "      <td>4</td>\n",
       "      <td>NaN</td>\n",
       "      <td>tube</td>\n",
       "      <td>13.79</td>\n",
       "      <td>686.0</td>\n",
       "      <td>NaN</td>\n",
       "      <td>11.1</td>\n",
       "      <td>11.1</td>\n",
       "      <td>457.0</td>\n",
       "      <td>2.8</td>\n",
       "    </tr>\n",
       "  </tbody>\n",
       "</table>\n",
       "</div>"
      ],
      "text/plain": [
       "   id    author geometry  pressure [MPa]  mass_flux [kg/m2-s]  x_e_out [-]  \\\n",
       "0   0  Thompson     tube            7.00               3770.0       0.1754   \n",
       "1   1  Thompson     tube             NaN               6049.0      -0.0416   \n",
       "2   2  Thompson      NaN           13.79               2034.0       0.0335   \n",
       "3   3      Beus  annulus           13.79               3679.0      -0.0279   \n",
       "4   4       NaN     tube           13.79                686.0          NaN   \n",
       "\n",
       "   D_e [mm]  D_h [mm]  length [mm]  chf_exp [MW/m2]  \n",
       "0       NaN      10.8        432.0              3.6  \n",
       "1      10.3      10.3        762.0              6.2  \n",
       "2       7.7       7.7        457.0              2.5  \n",
       "3       5.6      15.2       2134.0              3.0  \n",
       "4      11.1      11.1        457.0              2.8  "
      ]
     },
     "execution_count": 5,
     "metadata": {},
     "output_type": "execute_result"
    }
   ],
   "source": [
    "df.head()"
   ]
  },
  {
   "cell_type": "code",
   "execution_count": 6,
   "id": "02878db7",
   "metadata": {
    "execution": {
     "iopub.execute_input": "2023-05-22T17:16:39.155631Z",
     "iopub.status.busy": "2023-05-22T17:16:39.154911Z",
     "iopub.status.idle": "2023-05-22T17:16:39.199447Z",
     "shell.execute_reply": "2023-05-22T17:16:39.198236Z"
    },
    "papermill": {
     "duration": 0.05541,
     "end_time": "2023-05-22T17:16:39.202184",
     "exception": false,
     "start_time": "2023-05-22T17:16:39.146774",
     "status": "completed"
    },
    "tags": []
   },
   "outputs": [
    {
     "name": "stdout",
     "output_type": "stream",
     "text": [
      "<class 'pandas.core.frame.DataFrame'>\n",
      "RangeIndex: 31644 entries, 0 to 31643\n",
      "Data columns (total 10 columns):\n",
      " #   Column               Non-Null Count  Dtype  \n",
      "---  ------               --------------  -----  \n",
      " 0   id                   31644 non-null  int64  \n",
      " 1   author               26620 non-null  object \n",
      " 2   geometry             26144 non-null  object \n",
      " 3   pressure [MPa]       27192 non-null  float64\n",
      " 4   mass_flux [kg/m2-s]  26853 non-null  float64\n",
      " 5   x_e_out [-]          21229 non-null  float64\n",
      " 6   D_e [mm]             26156 non-null  float64\n",
      " 7   D_h [mm]             27055 non-null  float64\n",
      " 8   length [mm]          26885 non-null  float64\n",
      " 9   chf_exp [MW/m2]      31644 non-null  float64\n",
      "dtypes: float64(7), int64(1), object(2)\n",
      "memory usage: 2.4+ MB\n"
     ]
    }
   ],
   "source": [
    "df.info()"
   ]
  },
  {
   "cell_type": "code",
   "execution_count": 7,
   "id": "f9abb820",
   "metadata": {
    "execution": {
     "iopub.execute_input": "2023-05-22T17:16:39.217588Z",
     "iopub.status.busy": "2023-05-22T17:16:39.217167Z",
     "iopub.status.idle": "2023-05-22T17:16:39.274767Z",
     "shell.execute_reply": "2023-05-22T17:16:39.273579Z"
    },
    "papermill": {
     "duration": 0.067948,
     "end_time": "2023-05-22T17:16:39.277036",
     "exception": false,
     "start_time": "2023-05-22T17:16:39.209088",
     "status": "completed"
    },
    "tags": []
   },
   "outputs": [
    {
     "data": {
      "text/html": [
       "<div>\n",
       "<style scoped>\n",
       "    .dataframe tbody tr th:only-of-type {\n",
       "        vertical-align: middle;\n",
       "    }\n",
       "\n",
       "    .dataframe tbody tr th {\n",
       "        vertical-align: top;\n",
       "    }\n",
       "\n",
       "    .dataframe thead th {\n",
       "        text-align: right;\n",
       "    }\n",
       "</style>\n",
       "<table border=\"1\" class=\"dataframe\">\n",
       "  <thead>\n",
       "    <tr style=\"text-align: right;\">\n",
       "      <th></th>\n",
       "      <th>id</th>\n",
       "      <th>pressure [MPa]</th>\n",
       "      <th>mass_flux [kg/m2-s]</th>\n",
       "      <th>x_e_out [-]</th>\n",
       "      <th>D_e [mm]</th>\n",
       "      <th>D_h [mm]</th>\n",
       "      <th>length [mm]</th>\n",
       "      <th>chf_exp [MW/m2]</th>\n",
       "    </tr>\n",
       "  </thead>\n",
       "  <tbody>\n",
       "    <tr>\n",
       "      <th>count</th>\n",
       "      <td>31644.000000</td>\n",
       "      <td>27192.000000</td>\n",
       "      <td>26853.000000</td>\n",
       "      <td>21229.000000</td>\n",
       "      <td>26156.000000</td>\n",
       "      <td>27055.000000</td>\n",
       "      <td>26885.000000</td>\n",
       "      <td>31644.000000</td>\n",
       "    </tr>\n",
       "    <tr>\n",
       "      <th>mean</th>\n",
       "      <td>15821.500000</td>\n",
       "      <td>10.640747</td>\n",
       "      <td>3068.011023</td>\n",
       "      <td>-0.000453</td>\n",
       "      <td>8.629255</td>\n",
       "      <td>14.174330</td>\n",
       "      <td>832.987391</td>\n",
       "      <td>3.796985</td>\n",
       "    </tr>\n",
       "    <tr>\n",
       "      <th>std</th>\n",
       "      <td>9134.980296</td>\n",
       "      <td>4.333683</td>\n",
       "      <td>1777.032080</td>\n",
       "      <td>0.100911</td>\n",
       "      <td>5.185692</td>\n",
       "      <td>19.838489</td>\n",
       "      <td>672.299239</td>\n",
       "      <td>1.983991</td>\n",
       "    </tr>\n",
       "    <tr>\n",
       "      <th>min</th>\n",
       "      <td>0.000000</td>\n",
       "      <td>0.100000</td>\n",
       "      <td>0.000000</td>\n",
       "      <td>-0.866700</td>\n",
       "      <td>1.000000</td>\n",
       "      <td>1.000000</td>\n",
       "      <td>10.000000</td>\n",
       "      <td>0.800000</td>\n",
       "    </tr>\n",
       "    <tr>\n",
       "      <th>25%</th>\n",
       "      <td>7910.750000</td>\n",
       "      <td>6.890000</td>\n",
       "      <td>1519.000000</td>\n",
       "      <td>-0.046600</td>\n",
       "      <td>5.000000</td>\n",
       "      <td>5.600000</td>\n",
       "      <td>318.000000</td>\n",
       "      <td>2.400000</td>\n",
       "    </tr>\n",
       "    <tr>\n",
       "      <th>50%</th>\n",
       "      <td>15821.500000</td>\n",
       "      <td>11.070000</td>\n",
       "      <td>2731.000000</td>\n",
       "      <td>0.003800</td>\n",
       "      <td>7.800000</td>\n",
       "      <td>10.000000</td>\n",
       "      <td>610.000000</td>\n",
       "      <td>3.400000</td>\n",
       "    </tr>\n",
       "    <tr>\n",
       "      <th>75%</th>\n",
       "      <td>23732.250000</td>\n",
       "      <td>13.790000</td>\n",
       "      <td>4069.000000</td>\n",
       "      <td>0.064800</td>\n",
       "      <td>10.800000</td>\n",
       "      <td>11.500000</td>\n",
       "      <td>914.000000</td>\n",
       "      <td>4.600000</td>\n",
       "    </tr>\n",
       "    <tr>\n",
       "      <th>max</th>\n",
       "      <td>31643.000000</td>\n",
       "      <td>20.680000</td>\n",
       "      <td>7975.000000</td>\n",
       "      <td>0.232000</td>\n",
       "      <td>37.500000</td>\n",
       "      <td>120.000000</td>\n",
       "      <td>3048.000000</td>\n",
       "      <td>19.300000</td>\n",
       "    </tr>\n",
       "  </tbody>\n",
       "</table>\n",
       "</div>"
      ],
      "text/plain": [
       "                 id  pressure [MPa]  mass_flux [kg/m2-s]   x_e_out [-]  \\\n",
       "count  31644.000000    27192.000000         26853.000000  21229.000000   \n",
       "mean   15821.500000       10.640747          3068.011023     -0.000453   \n",
       "std     9134.980296        4.333683          1777.032080      0.100911   \n",
       "min        0.000000        0.100000             0.000000     -0.866700   \n",
       "25%     7910.750000        6.890000          1519.000000     -0.046600   \n",
       "50%    15821.500000       11.070000          2731.000000      0.003800   \n",
       "75%    23732.250000       13.790000          4069.000000      0.064800   \n",
       "max    31643.000000       20.680000          7975.000000      0.232000   \n",
       "\n",
       "           D_e [mm]      D_h [mm]   length [mm]  chf_exp [MW/m2]  \n",
       "count  26156.000000  27055.000000  26885.000000     31644.000000  \n",
       "mean       8.629255     14.174330    832.987391         3.796985  \n",
       "std        5.185692     19.838489    672.299239         1.983991  \n",
       "min        1.000000      1.000000     10.000000         0.800000  \n",
       "25%        5.000000      5.600000    318.000000         2.400000  \n",
       "50%        7.800000     10.000000    610.000000         3.400000  \n",
       "75%       10.800000     11.500000    914.000000         4.600000  \n",
       "max       37.500000    120.000000   3048.000000        19.300000  "
      ]
     },
     "execution_count": 7,
     "metadata": {},
     "output_type": "execute_result"
    }
   ],
   "source": [
    "df.describe()"
   ]
  },
  {
   "cell_type": "code",
   "execution_count": 8,
   "id": "5c4414a8",
   "metadata": {
    "execution": {
     "iopub.execute_input": "2023-05-22T17:16:39.294017Z",
     "iopub.status.busy": "2023-05-22T17:16:39.293275Z",
     "iopub.status.idle": "2023-05-22T17:16:39.325648Z",
     "shell.execute_reply": "2023-05-22T17:16:39.323716Z"
    },
    "papermill": {
     "duration": 0.043894,
     "end_time": "2023-05-22T17:16:39.328171",
     "exception": false,
     "start_time": "2023-05-22T17:16:39.284277",
     "status": "completed"
    },
    "tags": []
   },
   "outputs": [
    {
     "data": {
      "text/plain": [
       "0"
      ]
     },
     "execution_count": 8,
     "metadata": {},
     "output_type": "execute_result"
    }
   ],
   "source": [
    "df.duplicated().sum()"
   ]
  },
  {
   "cell_type": "code",
   "execution_count": 9,
   "id": "95997c74",
   "metadata": {
    "execution": {
     "iopub.execute_input": "2023-05-22T17:16:39.345186Z",
     "iopub.status.busy": "2023-05-22T17:16:39.344174Z",
     "iopub.status.idle": "2023-05-22T17:16:39.361646Z",
     "shell.execute_reply": "2023-05-22T17:16:39.360665Z"
    },
    "papermill": {
     "duration": 0.028347,
     "end_time": "2023-05-22T17:16:39.363913",
     "exception": false,
     "start_time": "2023-05-22T17:16:39.335566",
     "status": "completed"
    },
    "tags": []
   },
   "outputs": [
    {
     "data": {
      "text/plain": [
       "id                     31644\n",
       "author                    10\n",
       "geometry                   3\n",
       "pressure [MPa]           144\n",
       "mass_flux [kg/m2-s]      733\n",
       "x_e_out [-]             1682\n",
       "D_e [mm]                  43\n",
       "D_h [mm]                  49\n",
       "length [mm]               70\n",
       "chf_exp [MW/m2]          109\n",
       "dtype: int64"
      ]
     },
     "execution_count": 9,
     "metadata": {},
     "output_type": "execute_result"
    }
   ],
   "source": [
    "df.nunique()"
   ]
  },
  {
   "cell_type": "code",
   "execution_count": 10,
   "id": "c770dd76",
   "metadata": {
    "execution": {
     "iopub.execute_input": "2023-05-22T17:16:39.381746Z",
     "iopub.status.busy": "2023-05-22T17:16:39.381087Z",
     "iopub.status.idle": "2023-05-22T17:16:39.388095Z",
     "shell.execute_reply": "2023-05-22T17:16:39.386872Z"
    },
    "papermill": {
     "duration": 0.019083,
     "end_time": "2023-05-22T17:16:39.390706",
     "exception": false,
     "start_time": "2023-05-22T17:16:39.371623",
     "status": "completed"
    },
    "tags": []
   },
   "outputs": [],
   "source": [
    "### Rename the columns\n",
    "\n",
    "df = df.rename(columns={'pressure [MPa]': 'pressure', \n",
    "                 'mass_flux [kg/m2-s]': 'mass_flux',\n",
    "                 'x_e_out [-]': 'x_e_out',\n",
    "                 'D_e [mm]': 'D_e',\n",
    "                 'D_h [mm]': 'D_h',\n",
    "                 'length [mm]': 'length',\n",
    "                 'chf_exp [MW/m2]': 'chf_exp'})"
   ]
  },
  {
   "cell_type": "code",
   "execution_count": 11,
   "id": "20d263d8",
   "metadata": {
    "execution": {
     "iopub.execute_input": "2023-05-22T17:16:39.408175Z",
     "iopub.status.busy": "2023-05-22T17:16:39.407495Z",
     "iopub.status.idle": "2023-05-22T17:16:39.414467Z",
     "shell.execute_reply": "2023-05-22T17:16:39.413452Z"
    },
    "papermill": {
     "duration": 0.018199,
     "end_time": "2023-05-22T17:16:39.416712",
     "exception": false,
     "start_time": "2023-05-22T17:16:39.398513",
     "status": "completed"
    },
    "tags": []
   },
   "outputs": [
    {
     "data": {
      "text/plain": [
       "Index(['id', 'author', 'geometry', 'pressure', 'mass_flux', 'x_e_out', 'D_e',\n",
       "       'D_h', 'length', 'chf_exp'],\n",
       "      dtype='object')"
      ]
     },
     "execution_count": 11,
     "metadata": {},
     "output_type": "execute_result"
    }
   ],
   "source": [
    "df.columns"
   ]
  },
  {
   "cell_type": "markdown",
   "id": "82e45806",
   "metadata": {
    "papermill": {
     "duration": 0.007363,
     "end_time": "2023-05-22T17:16:39.431691",
     "exception": false,
     "start_time": "2023-05-22T17:16:39.424328",
     "status": "completed"
    },
    "tags": []
   },
   "source": [
    "### Feature Imputation"
   ]
  },
  {
   "cell_type": "code",
   "execution_count": 12,
   "id": "11e6be4e",
   "metadata": {
    "execution": {
     "iopub.execute_input": "2023-05-22T17:16:39.449163Z",
     "iopub.status.busy": "2023-05-22T17:16:39.448499Z",
     "iopub.status.idle": "2023-05-22T17:16:39.460817Z",
     "shell.execute_reply": "2023-05-22T17:16:39.459589Z"
    },
    "papermill": {
     "duration": 0.024359,
     "end_time": "2023-05-22T17:16:39.463653",
     "exception": false,
     "start_time": "2023-05-22T17:16:39.439294",
     "status": "completed"
    },
    "tags": []
   },
   "outputs": [
    {
     "name": "stdout",
     "output_type": "stream",
     "text": [
      "[array(['Thompson', 'Beus', nan, 'Peskov', 'Janssen', 'Weatherhead',\n",
      "       'Inasaka', 'Williams', 'Mortimore', 'Richenderfer', 'Kossolapov'],\n",
      "      dtype=object), array(['tube', nan, 'annulus', 'plate'], dtype=object)]\n"
     ]
    }
   ],
   "source": [
    "### get the unique values features. it seems that only 2 features has less categorical values\n",
    "\n",
    "unqiue_features = [df[i].unique() for i in df.columns if df[i].dtypes == 'object']\n",
    "print(unqiue_features)"
   ]
  },
  {
   "cell_type": "code",
   "execution_count": 13,
   "id": "c785a95c",
   "metadata": {
    "collapsed": true,
    "execution": {
     "iopub.execute_input": "2023-05-22T17:16:39.481627Z",
     "iopub.status.busy": "2023-05-22T17:16:39.480946Z",
     "iopub.status.idle": "2023-05-22T17:16:39.485127Z",
     "shell.execute_reply": "2023-05-22T17:16:39.483981Z"
    },
    "jupyter": {
     "outputs_hidden": true
    },
    "papermill": {
     "duration": 0.015681,
     "end_time": "2023-05-22T17:16:39.487391",
     "exception": false,
     "start_time": "2023-05-22T17:16:39.471710",
     "status": "completed"
    },
    "tags": []
   },
   "outputs": [],
   "source": [
    "# imputer = IterativeImputer(random_state=100, max_iter=10)\n",
    "# imputer.fit(df.iloc[:, :-1])"
   ]
  }
 ],
 "metadata": {
  "kernelspec": {
   "display_name": "Python 3",
   "language": "python",
   "name": "python3"
  },
  "language_info": {
   "codemirror_mode": {
    "name": "ipython",
    "version": 3
   },
   "file_extension": ".py",
   "mimetype": "text/x-python",
   "name": "python",
   "nbconvert_exporter": "python",
   "pygments_lexer": "ipython3",
   "version": "3.10.10"
  },
  "papermill": {
   "default_parameters": {},
   "duration": 15.536792,
   "end_time": "2023-05-22T17:16:40.516257",
   "environment_variables": {},
   "exception": null,
   "input_path": "__notebook__.ipynb",
   "output_path": "__notebook__.ipynb",
   "parameters": {},
   "start_time": "2023-05-22T17:16:24.979465",
   "version": "2.4.0"
  }
 },
 "nbformat": 4,
 "nbformat_minor": 5
}
