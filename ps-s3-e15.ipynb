{
 "cells": [
  {
   "cell_type": "code",
   "execution_count": 1,
   "id": "a5fbd5ed",
   "metadata": {
    "_cell_guid": "b1076dfc-b9ad-4769-8c92-a6c4dae69d19",
    "_uuid": "8f2839f25d086af736a60e9eeb907d3b93b6e0e5",
    "execution": {
     "iopub.execute_input": "2023-05-29T16:55:46.840252Z",
     "iopub.status.busy": "2023-05-29T16:55:46.839863Z",
     "iopub.status.idle": "2023-05-29T16:55:50.947424Z",
     "shell.execute_reply": "2023-05-29T16:55:50.945416Z"
    },
    "papermill": {
     "duration": 4.122458,
     "end_time": "2023-05-29T16:55:50.950538",
     "exception": false,
     "start_time": "2023-05-29T16:55:46.828080",
     "status": "completed"
    },
    "tags": []
   },
   "outputs": [
    {
     "name": "stderr",
     "output_type": "stream",
     "text": [
      "/opt/conda/lib/python3.10/site-packages/scipy/__init__.py:146: UserWarning: A NumPy version >=1.16.5 and <1.23.0 is required for this version of SciPy (detected version 1.23.5\n",
      "  warnings.warn(f\"A NumPy version >={np_minversion} and <{np_maxversion}\"\n"
     ]
    },
    {
     "name": "stdout",
     "output_type": "stream",
     "text": [
      "/kaggle/input/playground-series-s3e15/sample_submission.csv\n",
      "/kaggle/input/playground-series-s3e15/data.csv\n"
     ]
    }
   ],
   "source": [
    "# This Python 3 environment comes with many helpful analytics libraries installed\n",
    "# It is defined by the kaggle/python Docker image: https://github.com/kaggle/docker-python\n",
    "# For example, here's several helpful packages to load\n",
    "\n",
    "import numpy as np # linear algebra\n",
    "import pandas as pd # data processing, CSV file I/O (e.g. pd.read_csv)\n",
    "\n",
    "import matplotlib.pyplot as plt\n",
    "import seaborn as sns\n",
    "from sklearn import preprocessing\n",
    "from sklearn.model_selection import train_test_split,  StratifiedKFold, KFold,GridSearchCV, cross_val_score\n",
    "from sklearn.inspection import permutation_importance\n",
    "from sklearn.preprocessing import  PolynomialFeatures\n",
    "from sklearn.tree import DecisionTreeRegressor\n",
    "from sklearn.ensemble import RandomForestRegressor\n",
    "from sklearn.ensemble import GradientBoostingRegressor\n",
    "from sklearn import datasets, ensemble\n",
    "from catboost import CatBoostRegressor\n",
    "from sklearn.metrics import mean_squared_error\n",
    "# import xgboost import XGBRegressor\n",
    "from xgboost import XGBRegressor\n",
    "from lightgbm import LGBMRegressor\n",
    "from sklearn.ensemble import VotingRegressor\n",
    "from sklearn.ensemble import HistGradientBoostingRegressor\n",
    "from sklearn.experimental import enable_iterative_imputer\n",
    "from sklearn.impute import IterativeImputer\n",
    "from sklearn.impute import SimpleImputer\n",
    "import warnings \n",
    "warnings.filterwarnings(\"ignore\")\n",
    "\n",
    "# Input data files are available in the read-only \"../input/\" directory\n",
    "# For example, running this (by clicking run or pressing Shift+Enter) will list all files under the input directory\n",
    "\n",
    "import os\n",
    "for dirname, _, filenames in os.walk('/kaggle/input'):\n",
    "    for filename in filenames:\n",
    "        print(os.path.join(dirname, filename))\n",
    "\n",
    "# You can write up to 20GB to the current directory (/kaggle/working/) that gets preserved as output when you create a version using \"Save & Run All\" \n",
    "# You can also write temporary files to /kaggle/temp/, but they won't be saved outside of the current session"
   ]
  },
  {
   "cell_type": "markdown",
   "id": "b28d15c9",
   "metadata": {
    "papermill": {
     "duration": 0.009551,
     "end_time": "2023-05-29T16:55:50.970370",
     "exception": false,
     "start_time": "2023-05-29T16:55:50.960819",
     "status": "completed"
    },
    "tags": []
   },
   "source": [
    "### Import the data"
   ]
  },
  {
   "cell_type": "code",
   "execution_count": 2,
   "id": "0b8c3133",
   "metadata": {
    "execution": {
     "iopub.execute_input": "2023-05-29T16:55:50.992645Z",
     "iopub.status.busy": "2023-05-29T16:55:50.992202Z",
     "iopub.status.idle": "2023-05-29T16:55:51.086627Z",
     "shell.execute_reply": "2023-05-29T16:55:51.085630Z"
    },
    "papermill": {
     "duration": 0.108224,
     "end_time": "2023-05-29T16:55:51.089180",
     "exception": false,
     "start_time": "2023-05-29T16:55:50.980956",
     "status": "completed"
    },
    "tags": []
   },
   "outputs": [
    {
     "data": {
      "text/html": [
       "<div>\n",
       "<style scoped>\n",
       "    .dataframe tbody tr th:only-of-type {\n",
       "        vertical-align: middle;\n",
       "    }\n",
       "\n",
       "    .dataframe tbody tr th {\n",
       "        vertical-align: top;\n",
       "    }\n",
       "\n",
       "    .dataframe thead th {\n",
       "        text-align: right;\n",
       "    }\n",
       "</style>\n",
       "<table border=\"1\" class=\"dataframe\">\n",
       "  <thead>\n",
       "    <tr style=\"text-align: right;\">\n",
       "      <th></th>\n",
       "      <th>id</th>\n",
       "      <th>author</th>\n",
       "      <th>geometry</th>\n",
       "      <th>pressure [MPa]</th>\n",
       "      <th>mass_flux [kg/m2-s]</th>\n",
       "      <th>x_e_out [-]</th>\n",
       "      <th>D_e [mm]</th>\n",
       "      <th>D_h [mm]</th>\n",
       "      <th>length [mm]</th>\n",
       "      <th>chf_exp [MW/m2]</th>\n",
       "    </tr>\n",
       "  </thead>\n",
       "  <tbody>\n",
       "    <tr>\n",
       "      <th>0</th>\n",
       "      <td>0</td>\n",
       "      <td>Thompson</td>\n",
       "      <td>tube</td>\n",
       "      <td>7.00</td>\n",
       "      <td>3770.0</td>\n",
       "      <td>0.1754</td>\n",
       "      <td>NaN</td>\n",
       "      <td>10.8</td>\n",
       "      <td>432.0</td>\n",
       "      <td>3.6</td>\n",
       "    </tr>\n",
       "    <tr>\n",
       "      <th>1</th>\n",
       "      <td>1</td>\n",
       "      <td>Thompson</td>\n",
       "      <td>tube</td>\n",
       "      <td>NaN</td>\n",
       "      <td>6049.0</td>\n",
       "      <td>-0.0416</td>\n",
       "      <td>10.3</td>\n",
       "      <td>10.3</td>\n",
       "      <td>762.0</td>\n",
       "      <td>6.2</td>\n",
       "    </tr>\n",
       "    <tr>\n",
       "      <th>2</th>\n",
       "      <td>2</td>\n",
       "      <td>Thompson</td>\n",
       "      <td>NaN</td>\n",
       "      <td>13.79</td>\n",
       "      <td>2034.0</td>\n",
       "      <td>0.0335</td>\n",
       "      <td>7.7</td>\n",
       "      <td>7.7</td>\n",
       "      <td>457.0</td>\n",
       "      <td>2.5</td>\n",
       "    </tr>\n",
       "    <tr>\n",
       "      <th>3</th>\n",
       "      <td>3</td>\n",
       "      <td>Beus</td>\n",
       "      <td>annulus</td>\n",
       "      <td>13.79</td>\n",
       "      <td>3679.0</td>\n",
       "      <td>-0.0279</td>\n",
       "      <td>5.6</td>\n",
       "      <td>15.2</td>\n",
       "      <td>2134.0</td>\n",
       "      <td>3.0</td>\n",
       "    </tr>\n",
       "    <tr>\n",
       "      <th>4</th>\n",
       "      <td>4</td>\n",
       "      <td>NaN</td>\n",
       "      <td>tube</td>\n",
       "      <td>13.79</td>\n",
       "      <td>686.0</td>\n",
       "      <td>NaN</td>\n",
       "      <td>11.1</td>\n",
       "      <td>11.1</td>\n",
       "      <td>457.0</td>\n",
       "      <td>2.8</td>\n",
       "    </tr>\n",
       "  </tbody>\n",
       "</table>\n",
       "</div>"
      ],
      "text/plain": [
       "   id    author geometry  pressure [MPa]  mass_flux [kg/m2-s]  x_e_out [-]  \\\n",
       "0   0  Thompson     tube            7.00               3770.0       0.1754   \n",
       "1   1  Thompson     tube             NaN               6049.0      -0.0416   \n",
       "2   2  Thompson      NaN           13.79               2034.0       0.0335   \n",
       "3   3      Beus  annulus           13.79               3679.0      -0.0279   \n",
       "4   4       NaN     tube           13.79                686.0          NaN   \n",
       "\n",
       "   D_e [mm]  D_h [mm]  length [mm]  chf_exp [MW/m2]  \n",
       "0       NaN      10.8        432.0              3.6  \n",
       "1      10.3      10.3        762.0              6.2  \n",
       "2       7.7       7.7        457.0              2.5  \n",
       "3       5.6      15.2       2134.0              3.0  \n",
       "4      11.1      11.1        457.0              2.8  "
      ]
     },
     "execution_count": 2,
     "metadata": {},
     "output_type": "execute_result"
    }
   ],
   "source": [
    "df = pd.read_csv('/kaggle/input/playground-series-s3e15/data.csv')          \n",
    "df.head()"
   ]
  },
  {
   "cell_type": "code",
   "execution_count": 3,
   "id": "39b25d8d",
   "metadata": {
    "execution": {
     "iopub.execute_input": "2023-05-29T16:55:51.113083Z",
     "iopub.status.busy": "2023-05-29T16:55:51.112274Z",
     "iopub.status.idle": "2023-05-29T16:55:51.119069Z",
     "shell.execute_reply": "2023-05-29T16:55:51.118028Z"
    },
    "papermill": {
     "duration": 0.021524,
     "end_time": "2023-05-29T16:55:51.121084",
     "exception": false,
     "start_time": "2023-05-29T16:55:51.099560",
     "status": "completed"
    },
    "tags": []
   },
   "outputs": [
    {
     "data": {
      "text/plain": [
       "31644"
      ]
     },
     "execution_count": 3,
     "metadata": {},
     "output_type": "execute_result"
    }
   ],
   "source": [
    "len(df)"
   ]
  },
  {
   "cell_type": "markdown",
   "id": "29ba061a",
   "metadata": {
    "papermill": {
     "duration": 0.009773,
     "end_time": "2023-05-29T16:55:51.141977",
     "exception": false,
     "start_time": "2023-05-29T16:55:51.132204",
     "status": "completed"
    },
    "tags": []
   },
   "source": [
    "### Check the null values"
   ]
  },
  {
   "cell_type": "code",
   "execution_count": 4,
   "id": "ce22cba7",
   "metadata": {
    "execution": {
     "iopub.execute_input": "2023-05-29T16:55:51.166306Z",
     "iopub.status.busy": "2023-05-29T16:55:51.165554Z",
     "iopub.status.idle": "2023-05-29T16:55:51.190768Z",
     "shell.execute_reply": "2023-05-29T16:55:51.189754Z"
    },
    "papermill": {
     "duration": 0.040536,
     "end_time": "2023-05-29T16:55:51.193020",
     "exception": false,
     "start_time": "2023-05-29T16:55:51.152484",
     "status": "completed"
    },
    "tags": []
   },
   "outputs": [
    {
     "data": {
      "text/plain": [
       "id                         0\n",
       "author                  5024\n",
       "geometry                5500\n",
       "pressure [MPa]          4452\n",
       "mass_flux [kg/m2-s]     4791\n",
       "x_e_out [-]            10415\n",
       "D_e [mm]                5488\n",
       "D_h [mm]                4589\n",
       "length [mm]             4759\n",
       "chf_exp [MW/m2]            0\n",
       "dtype: int64"
      ]
     },
     "execution_count": 4,
     "metadata": {},
     "output_type": "execute_result"
    }
   ],
   "source": [
    "df.isnull().sum()"
   ]
  },
  {
   "cell_type": "code",
   "execution_count": 5,
   "id": "e84eee97",
   "metadata": {
    "execution": {
     "iopub.execute_input": "2023-05-29T16:55:51.214712Z",
     "iopub.status.busy": "2023-05-29T16:55:51.214289Z",
     "iopub.status.idle": "2023-05-29T16:55:51.232533Z",
     "shell.execute_reply": "2023-05-29T16:55:51.231488Z"
    },
    "papermill": {
     "duration": 0.032845,
     "end_time": "2023-05-29T16:55:51.235839",
     "exception": false,
     "start_time": "2023-05-29T16:55:51.202994",
     "status": "completed"
    },
    "tags": []
   },
   "outputs": [
    {
     "data": {
      "text/html": [
       "<div>\n",
       "<style scoped>\n",
       "    .dataframe tbody tr th:only-of-type {\n",
       "        vertical-align: middle;\n",
       "    }\n",
       "\n",
       "    .dataframe tbody tr th {\n",
       "        vertical-align: top;\n",
       "    }\n",
       "\n",
       "    .dataframe thead th {\n",
       "        text-align: right;\n",
       "    }\n",
       "</style>\n",
       "<table border=\"1\" class=\"dataframe\">\n",
       "  <thead>\n",
       "    <tr style=\"text-align: right;\">\n",
       "      <th></th>\n",
       "      <th>id</th>\n",
       "      <th>author</th>\n",
       "      <th>geometry</th>\n",
       "      <th>pressure [MPa]</th>\n",
       "      <th>mass_flux [kg/m2-s]</th>\n",
       "      <th>x_e_out [-]</th>\n",
       "      <th>D_e [mm]</th>\n",
       "      <th>D_h [mm]</th>\n",
       "      <th>length [mm]</th>\n",
       "      <th>chf_exp [MW/m2]</th>\n",
       "    </tr>\n",
       "  </thead>\n",
       "  <tbody>\n",
       "    <tr>\n",
       "      <th>0</th>\n",
       "      <td>0</td>\n",
       "      <td>Thompson</td>\n",
       "      <td>tube</td>\n",
       "      <td>7.00</td>\n",
       "      <td>3770.0</td>\n",
       "      <td>0.1754</td>\n",
       "      <td>NaN</td>\n",
       "      <td>10.8</td>\n",
       "      <td>432.0</td>\n",
       "      <td>3.6</td>\n",
       "    </tr>\n",
       "    <tr>\n",
       "      <th>1</th>\n",
       "      <td>1</td>\n",
       "      <td>Thompson</td>\n",
       "      <td>tube</td>\n",
       "      <td>NaN</td>\n",
       "      <td>6049.0</td>\n",
       "      <td>-0.0416</td>\n",
       "      <td>10.3</td>\n",
       "      <td>10.3</td>\n",
       "      <td>762.0</td>\n",
       "      <td>6.2</td>\n",
       "    </tr>\n",
       "    <tr>\n",
       "      <th>2</th>\n",
       "      <td>2</td>\n",
       "      <td>Thompson</td>\n",
       "      <td>NaN</td>\n",
       "      <td>13.79</td>\n",
       "      <td>2034.0</td>\n",
       "      <td>0.0335</td>\n",
       "      <td>7.7</td>\n",
       "      <td>7.7</td>\n",
       "      <td>457.0</td>\n",
       "      <td>2.5</td>\n",
       "    </tr>\n",
       "    <tr>\n",
       "      <th>3</th>\n",
       "      <td>3</td>\n",
       "      <td>Beus</td>\n",
       "      <td>annulus</td>\n",
       "      <td>13.79</td>\n",
       "      <td>3679.0</td>\n",
       "      <td>-0.0279</td>\n",
       "      <td>5.6</td>\n",
       "      <td>15.2</td>\n",
       "      <td>2134.0</td>\n",
       "      <td>3.0</td>\n",
       "    </tr>\n",
       "    <tr>\n",
       "      <th>4</th>\n",
       "      <td>4</td>\n",
       "      <td>NaN</td>\n",
       "      <td>tube</td>\n",
       "      <td>13.79</td>\n",
       "      <td>686.0</td>\n",
       "      <td>NaN</td>\n",
       "      <td>11.1</td>\n",
       "      <td>11.1</td>\n",
       "      <td>457.0</td>\n",
       "      <td>2.8</td>\n",
       "    </tr>\n",
       "  </tbody>\n",
       "</table>\n",
       "</div>"
      ],
      "text/plain": [
       "   id    author geometry  pressure [MPa]  mass_flux [kg/m2-s]  x_e_out [-]  \\\n",
       "0   0  Thompson     tube            7.00               3770.0       0.1754   \n",
       "1   1  Thompson     tube             NaN               6049.0      -0.0416   \n",
       "2   2  Thompson      NaN           13.79               2034.0       0.0335   \n",
       "3   3      Beus  annulus           13.79               3679.0      -0.0279   \n",
       "4   4       NaN     tube           13.79                686.0          NaN   \n",
       "\n",
       "   D_e [mm]  D_h [mm]  length [mm]  chf_exp [MW/m2]  \n",
       "0       NaN      10.8        432.0              3.6  \n",
       "1      10.3      10.3        762.0              6.2  \n",
       "2       7.7       7.7        457.0              2.5  \n",
       "3       5.6      15.2       2134.0              3.0  \n",
       "4      11.1      11.1        457.0              2.8  "
      ]
     },
     "execution_count": 5,
     "metadata": {},
     "output_type": "execute_result"
    }
   ],
   "source": [
    "df.head()"
   ]
  },
  {
   "cell_type": "code",
   "execution_count": 6,
   "id": "1e773192",
   "metadata": {
    "execution": {
     "iopub.execute_input": "2023-05-29T16:55:51.258067Z",
     "iopub.status.busy": "2023-05-29T16:55:51.257592Z",
     "iopub.status.idle": "2023-05-29T16:55:51.300529Z",
     "shell.execute_reply": "2023-05-29T16:55:51.298625Z"
    },
    "papermill": {
     "duration": 0.057671,
     "end_time": "2023-05-29T16:55:51.303523",
     "exception": false,
     "start_time": "2023-05-29T16:55:51.245852",
     "status": "completed"
    },
    "tags": []
   },
   "outputs": [
    {
     "name": "stdout",
     "output_type": "stream",
     "text": [
      "<class 'pandas.core.frame.DataFrame'>\n",
      "RangeIndex: 31644 entries, 0 to 31643\n",
      "Data columns (total 10 columns):\n",
      " #   Column               Non-Null Count  Dtype  \n",
      "---  ------               --------------  -----  \n",
      " 0   id                   31644 non-null  int64  \n",
      " 1   author               26620 non-null  object \n",
      " 2   geometry             26144 non-null  object \n",
      " 3   pressure [MPa]       27192 non-null  float64\n",
      " 4   mass_flux [kg/m2-s]  26853 non-null  float64\n",
      " 5   x_e_out [-]          21229 non-null  float64\n",
      " 6   D_e [mm]             26156 non-null  float64\n",
      " 7   D_h [mm]             27055 non-null  float64\n",
      " 8   length [mm]          26885 non-null  float64\n",
      " 9   chf_exp [MW/m2]      31644 non-null  float64\n",
      "dtypes: float64(7), int64(1), object(2)\n",
      "memory usage: 2.4+ MB\n"
     ]
    }
   ],
   "source": [
    "df.info()"
   ]
  },
  {
   "cell_type": "code",
   "execution_count": 7,
   "id": "624ac707",
   "metadata": {
    "execution": {
     "iopub.execute_input": "2023-05-29T16:55:51.325624Z",
     "iopub.status.busy": "2023-05-29T16:55:51.325008Z",
     "iopub.status.idle": "2023-05-29T16:55:51.375490Z",
     "shell.execute_reply": "2023-05-29T16:55:51.374385Z"
    },
    "papermill": {
     "duration": 0.064676,
     "end_time": "2023-05-29T16:55:51.378210",
     "exception": false,
     "start_time": "2023-05-29T16:55:51.313534",
     "status": "completed"
    },
    "tags": []
   },
   "outputs": [
    {
     "data": {
      "text/html": [
       "<div>\n",
       "<style scoped>\n",
       "    .dataframe tbody tr th:only-of-type {\n",
       "        vertical-align: middle;\n",
       "    }\n",
       "\n",
       "    .dataframe tbody tr th {\n",
       "        vertical-align: top;\n",
       "    }\n",
       "\n",
       "    .dataframe thead th {\n",
       "        text-align: right;\n",
       "    }\n",
       "</style>\n",
       "<table border=\"1\" class=\"dataframe\">\n",
       "  <thead>\n",
       "    <tr style=\"text-align: right;\">\n",
       "      <th></th>\n",
       "      <th>id</th>\n",
       "      <th>pressure [MPa]</th>\n",
       "      <th>mass_flux [kg/m2-s]</th>\n",
       "      <th>x_e_out [-]</th>\n",
       "      <th>D_e [mm]</th>\n",
       "      <th>D_h [mm]</th>\n",
       "      <th>length [mm]</th>\n",
       "      <th>chf_exp [MW/m2]</th>\n",
       "    </tr>\n",
       "  </thead>\n",
       "  <tbody>\n",
       "    <tr>\n",
       "      <th>count</th>\n",
       "      <td>31644.000000</td>\n",
       "      <td>27192.000000</td>\n",
       "      <td>26853.000000</td>\n",
       "      <td>21229.000000</td>\n",
       "      <td>26156.000000</td>\n",
       "      <td>27055.000000</td>\n",
       "      <td>26885.000000</td>\n",
       "      <td>31644.000000</td>\n",
       "    </tr>\n",
       "    <tr>\n",
       "      <th>mean</th>\n",
       "      <td>15821.500000</td>\n",
       "      <td>10.640747</td>\n",
       "      <td>3068.011023</td>\n",
       "      <td>-0.000453</td>\n",
       "      <td>8.629255</td>\n",
       "      <td>14.174330</td>\n",
       "      <td>832.987391</td>\n",
       "      <td>3.796985</td>\n",
       "    </tr>\n",
       "    <tr>\n",
       "      <th>std</th>\n",
       "      <td>9134.980296</td>\n",
       "      <td>4.333683</td>\n",
       "      <td>1777.032080</td>\n",
       "      <td>0.100911</td>\n",
       "      <td>5.185692</td>\n",
       "      <td>19.838489</td>\n",
       "      <td>672.299239</td>\n",
       "      <td>1.983991</td>\n",
       "    </tr>\n",
       "    <tr>\n",
       "      <th>min</th>\n",
       "      <td>0.000000</td>\n",
       "      <td>0.100000</td>\n",
       "      <td>0.000000</td>\n",
       "      <td>-0.866700</td>\n",
       "      <td>1.000000</td>\n",
       "      <td>1.000000</td>\n",
       "      <td>10.000000</td>\n",
       "      <td>0.800000</td>\n",
       "    </tr>\n",
       "    <tr>\n",
       "      <th>25%</th>\n",
       "      <td>7910.750000</td>\n",
       "      <td>6.890000</td>\n",
       "      <td>1519.000000</td>\n",
       "      <td>-0.046600</td>\n",
       "      <td>5.000000</td>\n",
       "      <td>5.600000</td>\n",
       "      <td>318.000000</td>\n",
       "      <td>2.400000</td>\n",
       "    </tr>\n",
       "    <tr>\n",
       "      <th>50%</th>\n",
       "      <td>15821.500000</td>\n",
       "      <td>11.070000</td>\n",
       "      <td>2731.000000</td>\n",
       "      <td>0.003800</td>\n",
       "      <td>7.800000</td>\n",
       "      <td>10.000000</td>\n",
       "      <td>610.000000</td>\n",
       "      <td>3.400000</td>\n",
       "    </tr>\n",
       "    <tr>\n",
       "      <th>75%</th>\n",
       "      <td>23732.250000</td>\n",
       "      <td>13.790000</td>\n",
       "      <td>4069.000000</td>\n",
       "      <td>0.064800</td>\n",
       "      <td>10.800000</td>\n",
       "      <td>11.500000</td>\n",
       "      <td>914.000000</td>\n",
       "      <td>4.600000</td>\n",
       "    </tr>\n",
       "    <tr>\n",
       "      <th>max</th>\n",
       "      <td>31643.000000</td>\n",
       "      <td>20.680000</td>\n",
       "      <td>7975.000000</td>\n",
       "      <td>0.232000</td>\n",
       "      <td>37.500000</td>\n",
       "      <td>120.000000</td>\n",
       "      <td>3048.000000</td>\n",
       "      <td>19.300000</td>\n",
       "    </tr>\n",
       "  </tbody>\n",
       "</table>\n",
       "</div>"
      ],
      "text/plain": [
       "                 id  pressure [MPa]  mass_flux [kg/m2-s]   x_e_out [-]  \\\n",
       "count  31644.000000    27192.000000         26853.000000  21229.000000   \n",
       "mean   15821.500000       10.640747          3068.011023     -0.000453   \n",
       "std     9134.980296        4.333683          1777.032080      0.100911   \n",
       "min        0.000000        0.100000             0.000000     -0.866700   \n",
       "25%     7910.750000        6.890000          1519.000000     -0.046600   \n",
       "50%    15821.500000       11.070000          2731.000000      0.003800   \n",
       "75%    23732.250000       13.790000          4069.000000      0.064800   \n",
       "max    31643.000000       20.680000          7975.000000      0.232000   \n",
       "\n",
       "           D_e [mm]      D_h [mm]   length [mm]  chf_exp [MW/m2]  \n",
       "count  26156.000000  27055.000000  26885.000000     31644.000000  \n",
       "mean       8.629255     14.174330    832.987391         3.796985  \n",
       "std        5.185692     19.838489    672.299239         1.983991  \n",
       "min        1.000000      1.000000     10.000000         0.800000  \n",
       "25%        5.000000      5.600000    318.000000         2.400000  \n",
       "50%        7.800000     10.000000    610.000000         3.400000  \n",
       "75%       10.800000     11.500000    914.000000         4.600000  \n",
       "max       37.500000    120.000000   3048.000000        19.300000  "
      ]
     },
     "execution_count": 7,
     "metadata": {},
     "output_type": "execute_result"
    }
   ],
   "source": [
    "df.describe()"
   ]
  },
  {
   "cell_type": "code",
   "execution_count": 8,
   "id": "9c4023e4",
   "metadata": {
    "execution": {
     "iopub.execute_input": "2023-05-29T16:55:51.403874Z",
     "iopub.status.busy": "2023-05-29T16:55:51.403280Z",
     "iopub.status.idle": "2023-05-29T16:55:51.427398Z",
     "shell.execute_reply": "2023-05-29T16:55:51.426452Z"
    },
    "papermill": {
     "duration": 0.039216,
     "end_time": "2023-05-29T16:55:51.429362",
     "exception": false,
     "start_time": "2023-05-29T16:55:51.390146",
     "status": "completed"
    },
    "tags": []
   },
   "outputs": [
    {
     "data": {
      "text/plain": [
       "0"
      ]
     },
     "execution_count": 8,
     "metadata": {},
     "output_type": "execute_result"
    }
   ],
   "source": [
    "df.duplicated().sum()"
   ]
  },
  {
   "cell_type": "code",
   "execution_count": 9,
   "id": "705bb522",
   "metadata": {
    "execution": {
     "iopub.execute_input": "2023-05-29T16:55:51.451709Z",
     "iopub.status.busy": "2023-05-29T16:55:51.451149Z",
     "iopub.status.idle": "2023-05-29T16:55:51.465611Z",
     "shell.execute_reply": "2023-05-29T16:55:51.464344Z"
    },
    "papermill": {
     "duration": 0.0279,
     "end_time": "2023-05-29T16:55:51.467698",
     "exception": false,
     "start_time": "2023-05-29T16:55:51.439798",
     "status": "completed"
    },
    "tags": []
   },
   "outputs": [
    {
     "data": {
      "text/plain": [
       "id                     31644\n",
       "author                    10\n",
       "geometry                   3\n",
       "pressure [MPa]           144\n",
       "mass_flux [kg/m2-s]      733\n",
       "x_e_out [-]             1682\n",
       "D_e [mm]                  43\n",
       "D_h [mm]                  49\n",
       "length [mm]               70\n",
       "chf_exp [MW/m2]          109\n",
       "dtype: int64"
      ]
     },
     "execution_count": 9,
     "metadata": {},
     "output_type": "execute_result"
    }
   ],
   "source": [
    "df.nunique()"
   ]
  },
  {
   "cell_type": "code",
   "execution_count": 10,
   "id": "776aa1a8",
   "metadata": {
    "execution": {
     "iopub.execute_input": "2023-05-29T16:55:51.491951Z",
     "iopub.status.busy": "2023-05-29T16:55:51.491257Z",
     "iopub.status.idle": "2023-05-29T16:55:51.498713Z",
     "shell.execute_reply": "2023-05-29T16:55:51.497995Z"
    },
    "papermill": {
     "duration": 0.02277,
     "end_time": "2023-05-29T16:55:51.501029",
     "exception": false,
     "start_time": "2023-05-29T16:55:51.478259",
     "status": "completed"
    },
    "tags": []
   },
   "outputs": [],
   "source": [
    "### Rename the columns\n",
    "\n",
    "df = df.rename(columns={'pressure [MPa]': 'pressure', \n",
    "                 'mass_flux [kg/m2-s]': 'mass_flux',\n",
    "                 'x_e_out [-]': 'x_e_out',\n",
    "                 'D_e [mm]': 'D_e',\n",
    "                 'D_h [mm]': 'D_h',\n",
    "                 'length [mm]': 'length',\n",
    "                 'chf_exp [MW/m2]': 'chf_exp'})"
   ]
  },
  {
   "cell_type": "code",
   "execution_count": 11,
   "id": "f402b13c",
   "metadata": {
    "execution": {
     "iopub.execute_input": "2023-05-29T16:55:51.523569Z",
     "iopub.status.busy": "2023-05-29T16:55:51.522950Z",
     "iopub.status.idle": "2023-05-29T16:55:51.530132Z",
     "shell.execute_reply": "2023-05-29T16:55:51.529137Z"
    },
    "papermill": {
     "duration": 0.020896,
     "end_time": "2023-05-29T16:55:51.531980",
     "exception": false,
     "start_time": "2023-05-29T16:55:51.511084",
     "status": "completed"
    },
    "tags": []
   },
   "outputs": [
    {
     "data": {
      "text/plain": [
       "Index(['id', 'author', 'geometry', 'pressure', 'mass_flux', 'x_e_out', 'D_e',\n",
       "       'D_h', 'length', 'chf_exp'],\n",
       "      dtype='object')"
      ]
     },
     "execution_count": 11,
     "metadata": {},
     "output_type": "execute_result"
    }
   ],
   "source": [
    "df.columns"
   ]
  },
  {
   "cell_type": "markdown",
   "id": "831867d3",
   "metadata": {
    "papermill": {
     "duration": 0.009204,
     "end_time": "2023-05-29T16:55:51.551170",
     "exception": false,
     "start_time": "2023-05-29T16:55:51.541966",
     "status": "completed"
    },
    "tags": []
   },
   "source": [
    "### Feature Imputation"
   ]
  },
  {
   "cell_type": "markdown",
   "id": "17e7be56",
   "metadata": {
    "papermill": {
     "duration": 0.009446,
     "end_time": "2023-05-29T16:55:51.570049",
     "exception": false,
     "start_time": "2023-05-29T16:55:51.560603",
     "status": "completed"
    },
    "tags": []
   },
   "source": [
    "## Simple Imputation"
   ]
  },
  {
   "cell_type": "code",
   "execution_count": 12,
   "id": "a5a3b8a9",
   "metadata": {
    "execution": {
     "iopub.execute_input": "2023-05-29T16:55:51.591036Z",
     "iopub.status.busy": "2023-05-29T16:55:51.590486Z",
     "iopub.status.idle": "2023-05-29T16:55:51.594596Z",
     "shell.execute_reply": "2023-05-29T16:55:51.593956Z"
    },
    "papermill": {
     "duration": 0.016869,
     "end_time": "2023-05-29T16:55:51.596435",
     "exception": false,
     "start_time": "2023-05-29T16:55:51.579566",
     "status": "completed"
    },
    "tags": []
   },
   "outputs": [],
   "source": [
    "simple_imputer_cat = SimpleImputer(strategy='most_frequent')\n",
    "simple_imputer_num = SimpleImputer(strategy='mean')"
   ]
  },
  {
   "cell_type": "code",
   "execution_count": 13,
   "id": "d4ff3d5c",
   "metadata": {
    "execution": {
     "iopub.execute_input": "2023-05-29T16:55:51.620697Z",
     "iopub.status.busy": "2023-05-29T16:55:51.620159Z",
     "iopub.status.idle": "2023-05-29T16:55:51.626080Z",
     "shell.execute_reply": "2023-05-29T16:55:51.625273Z"
    },
    "papermill": {
     "duration": 0.021242,
     "end_time": "2023-05-29T16:55:51.628421",
     "exception": false,
     "start_time": "2023-05-29T16:55:51.607179",
     "status": "completed"
    },
    "tags": []
   },
   "outputs": [],
   "source": [
    "def imputation(data):\n",
    "    df_imp = data.copy()\n",
    "    for i in data.columns:\n",
    "        if data[i].dtypes == 'object':\n",
    "            df_imp[i] = simple_imputer_cat.fit_transform(df_imp[[i]])\n",
    "        else:\n",
    "            df_imp[i] = simple_imputer_num.fit_transform(df_imp[[i]])\n",
    "            \n",
    "    return df_imp"
   ]
  },
  {
   "cell_type": "code",
   "execution_count": 14,
   "id": "1d0d64e0",
   "metadata": {
    "execution": {
     "iopub.execute_input": "2023-05-29T16:55:51.651155Z",
     "iopub.status.busy": "2023-05-29T16:55:51.650566Z",
     "iopub.status.idle": "2023-05-29T16:55:51.716389Z",
     "shell.execute_reply": "2023-05-29T16:55:51.714584Z"
    },
    "papermill": {
     "duration": 0.080559,
     "end_time": "2023-05-29T16:55:51.719158",
     "exception": false,
     "start_time": "2023-05-29T16:55:51.638599",
     "status": "completed"
    },
    "tags": []
   },
   "outputs": [],
   "source": [
    "### lets drop the target feature\n",
    "df_train = df.drop(columns='x_e_out', axis=1)\n",
    "df_imp = imputation(df_train)"
   ]
  },
  {
   "cell_type": "code",
   "execution_count": 15,
   "id": "859ea969",
   "metadata": {
    "execution": {
     "iopub.execute_input": "2023-05-29T16:55:51.741301Z",
     "iopub.status.busy": "2023-05-29T16:55:51.740897Z",
     "iopub.status.idle": "2023-05-29T16:55:51.762526Z",
     "shell.execute_reply": "2023-05-29T16:55:51.760985Z"
    },
    "papermill": {
     "duration": 0.035927,
     "end_time": "2023-05-29T16:55:51.765308",
     "exception": false,
     "start_time": "2023-05-29T16:55:51.729381",
     "status": "completed"
    },
    "tags": []
   },
   "outputs": [
    {
     "data": {
      "text/plain": [
       "id           0\n",
       "author       0\n",
       "geometry     0\n",
       "pressure     0\n",
       "mass_flux    0\n",
       "D_e          0\n",
       "D_h          0\n",
       "length       0\n",
       "chf_exp      0\n",
       "dtype: int64"
      ]
     },
     "execution_count": 15,
     "metadata": {},
     "output_type": "execute_result"
    }
   ],
   "source": [
    "df_imp.isnull().sum()"
   ]
  },
  {
   "cell_type": "code",
   "execution_count": 16,
   "id": "5d7dd4bb",
   "metadata": {
    "execution": {
     "iopub.execute_input": "2023-05-29T16:55:51.791291Z",
     "iopub.status.busy": "2023-05-29T16:55:51.790917Z",
     "iopub.status.idle": "2023-05-29T16:55:51.798923Z",
     "shell.execute_reply": "2023-05-29T16:55:51.798037Z"
    },
    "papermill": {
     "duration": 0.022847,
     "end_time": "2023-05-29T16:55:51.800952",
     "exception": false,
     "start_time": "2023-05-29T16:55:51.778105",
     "status": "completed"
    },
    "tags": []
   },
   "outputs": [
    {
     "name": "stdout",
     "output_type": "stream",
     "text": [
      "[array(['Thompson', 'Beus', nan, 'Peskov', 'Janssen', 'Weatherhead',\n",
      "       'Inasaka', 'Williams', 'Mortimore', 'Richenderfer', 'Kossolapov'],\n",
      "      dtype=object), array(['tube', nan, 'annulus', 'plate'], dtype=object)]\n"
     ]
    }
   ],
   "source": [
    "### get the unique values features. it seems that only 2 features has less categorical values\n",
    "\n",
    "unqiue_features = [df[i].unique() for i in df.columns if df[i].dtypes == 'object']\n",
    "print(unqiue_features)"
   ]
  },
  {
   "cell_type": "code",
   "execution_count": 17,
   "id": "9ed0975d",
   "metadata": {
    "collapsed": true,
    "execution": {
     "iopub.execute_input": "2023-05-29T16:55:51.825033Z",
     "iopub.status.busy": "2023-05-29T16:55:51.824608Z",
     "iopub.status.idle": "2023-05-29T16:55:51.829238Z",
     "shell.execute_reply": "2023-05-29T16:55:51.828025Z"
    },
    "jupyter": {
     "outputs_hidden": true
    },
    "papermill": {
     "duration": 0.019764,
     "end_time": "2023-05-29T16:55:51.831797",
     "exception": false,
     "start_time": "2023-05-29T16:55:51.812033",
     "status": "completed"
    },
    "tags": []
   },
   "outputs": [],
   "source": [
    "# imputer = IterativeImputer(random_state=100, max_iter=10)\n",
    "# imputer.fit(df.iloc[:, :-1])"
   ]
  },
  {
   "cell_type": "code",
   "execution_count": 18,
   "id": "e74cdd07",
   "metadata": {
    "execution": {
     "iopub.execute_input": "2023-05-29T16:55:51.856082Z",
     "iopub.status.busy": "2023-05-29T16:55:51.855634Z",
     "iopub.status.idle": "2023-05-29T16:55:51.871885Z",
     "shell.execute_reply": "2023-05-29T16:55:51.870754Z"
    },
    "papermill": {
     "duration": 0.031985,
     "end_time": "2023-05-29T16:55:51.874705",
     "exception": false,
     "start_time": "2023-05-29T16:55:51.842720",
     "status": "completed"
    },
    "tags": []
   },
   "outputs": [
    {
     "data": {
      "text/html": [
       "<div>\n",
       "<style scoped>\n",
       "    .dataframe tbody tr th:only-of-type {\n",
       "        vertical-align: middle;\n",
       "    }\n",
       "\n",
       "    .dataframe tbody tr th {\n",
       "        vertical-align: top;\n",
       "    }\n",
       "\n",
       "    .dataframe thead th {\n",
       "        text-align: right;\n",
       "    }\n",
       "</style>\n",
       "<table border=\"1\" class=\"dataframe\">\n",
       "  <thead>\n",
       "    <tr style=\"text-align: right;\">\n",
       "      <th></th>\n",
       "      <th>id</th>\n",
       "      <th>author</th>\n",
       "      <th>geometry</th>\n",
       "      <th>pressure</th>\n",
       "      <th>mass_flux</th>\n",
       "      <th>D_e</th>\n",
       "      <th>D_h</th>\n",
       "      <th>length</th>\n",
       "      <th>chf_exp</th>\n",
       "    </tr>\n",
       "  </thead>\n",
       "  <tbody>\n",
       "    <tr>\n",
       "      <th>0</th>\n",
       "      <td>0.0</td>\n",
       "      <td>Thompson</td>\n",
       "      <td>tube</td>\n",
       "      <td>7.000000</td>\n",
       "      <td>3770.0</td>\n",
       "      <td>8.629255</td>\n",
       "      <td>10.8</td>\n",
       "      <td>432.0</td>\n",
       "      <td>3.6</td>\n",
       "    </tr>\n",
       "    <tr>\n",
       "      <th>1</th>\n",
       "      <td>1.0</td>\n",
       "      <td>Thompson</td>\n",
       "      <td>tube</td>\n",
       "      <td>10.640747</td>\n",
       "      <td>6049.0</td>\n",
       "      <td>10.300000</td>\n",
       "      <td>10.3</td>\n",
       "      <td>762.0</td>\n",
       "      <td>6.2</td>\n",
       "    </tr>\n",
       "    <tr>\n",
       "      <th>2</th>\n",
       "      <td>2.0</td>\n",
       "      <td>Thompson</td>\n",
       "      <td>tube</td>\n",
       "      <td>13.790000</td>\n",
       "      <td>2034.0</td>\n",
       "      <td>7.700000</td>\n",
       "      <td>7.7</td>\n",
       "      <td>457.0</td>\n",
       "      <td>2.5</td>\n",
       "    </tr>\n",
       "    <tr>\n",
       "      <th>3</th>\n",
       "      <td>3.0</td>\n",
       "      <td>Beus</td>\n",
       "      <td>annulus</td>\n",
       "      <td>13.790000</td>\n",
       "      <td>3679.0</td>\n",
       "      <td>5.600000</td>\n",
       "      <td>15.2</td>\n",
       "      <td>2134.0</td>\n",
       "      <td>3.0</td>\n",
       "    </tr>\n",
       "    <tr>\n",
       "      <th>4</th>\n",
       "      <td>4.0</td>\n",
       "      <td>Thompson</td>\n",
       "      <td>tube</td>\n",
       "      <td>13.790000</td>\n",
       "      <td>686.0</td>\n",
       "      <td>11.100000</td>\n",
       "      <td>11.1</td>\n",
       "      <td>457.0</td>\n",
       "      <td>2.8</td>\n",
       "    </tr>\n",
       "  </tbody>\n",
       "</table>\n",
       "</div>"
      ],
      "text/plain": [
       "    id    author geometry   pressure  mass_flux        D_e   D_h  length  \\\n",
       "0  0.0  Thompson     tube   7.000000     3770.0   8.629255  10.8   432.0   \n",
       "1  1.0  Thompson     tube  10.640747     6049.0  10.300000  10.3   762.0   \n",
       "2  2.0  Thompson     tube  13.790000     2034.0   7.700000   7.7   457.0   \n",
       "3  3.0      Beus  annulus  13.790000     3679.0   5.600000  15.2  2134.0   \n",
       "4  4.0  Thompson     tube  13.790000      686.0  11.100000  11.1   457.0   \n",
       "\n",
       "   chf_exp  \n",
       "0      3.6  \n",
       "1      6.2  \n",
       "2      2.5  \n",
       "3      3.0  \n",
       "4      2.8  "
      ]
     },
     "execution_count": 18,
     "metadata": {},
     "output_type": "execute_result"
    }
   ],
   "source": [
    "df_imp.head()"
   ]
  },
  {
   "cell_type": "code",
   "execution_count": 19,
   "id": "8f0bf5bd",
   "metadata": {
    "execution": {
     "iopub.execute_input": "2023-05-29T16:55:51.899186Z",
     "iopub.status.busy": "2023-05-29T16:55:51.898775Z",
     "iopub.status.idle": "2023-05-29T16:55:51.933753Z",
     "shell.execute_reply": "2023-05-29T16:55:51.932765Z"
    },
    "papermill": {
     "duration": 0.050113,
     "end_time": "2023-05-29T16:55:51.936286",
     "exception": false,
     "start_time": "2023-05-29T16:55:51.886173",
     "status": "completed"
    },
    "tags": []
   },
   "outputs": [],
   "source": [
    "\n",
    "\n",
    "df_imp = df_imp.drop('id',axis=1)\n",
    "df_final  = df_imp.copy()\n",
    "df_final['x_e_out'] = df['x_e_out']\n",
    "df_final['x_e_out'].isnull()\n",
    "df_final = pd.get_dummies(df_final, columns=['author', 'geometry'])\n",
    "df_train_data = df_final[~df_final['x_e_out'].isna()]\n",
    "df_test_data = df_final[df_final['x_e_out'].isna()]\n",
    "df_train_data = df_train_data.reset_index()\n",
    "df_train_data = df_train_data.drop('index', axis=1)"
   ]
  },
  {
   "cell_type": "code",
   "execution_count": 20,
   "id": "03b89565",
   "metadata": {
    "execution": {
     "iopub.execute_input": "2023-05-29T16:55:51.966182Z",
     "iopub.status.busy": "2023-05-29T16:55:51.965750Z",
     "iopub.status.idle": "2023-05-29T16:55:51.990821Z",
     "shell.execute_reply": "2023-05-29T16:55:51.988697Z"
    },
    "papermill": {
     "duration": 0.045417,
     "end_time": "2023-05-29T16:55:51.993832",
     "exception": false,
     "start_time": "2023-05-29T16:55:51.948415",
     "status": "completed"
    },
    "tags": []
   },
   "outputs": [
    {
     "data": {
      "text/html": [
       "<div>\n",
       "<style scoped>\n",
       "    .dataframe tbody tr th:only-of-type {\n",
       "        vertical-align: middle;\n",
       "    }\n",
       "\n",
       "    .dataframe tbody tr th {\n",
       "        vertical-align: top;\n",
       "    }\n",
       "\n",
       "    .dataframe thead th {\n",
       "        text-align: right;\n",
       "    }\n",
       "</style>\n",
       "<table border=\"1\" class=\"dataframe\">\n",
       "  <thead>\n",
       "    <tr style=\"text-align: right;\">\n",
       "      <th></th>\n",
       "      <th>pressure</th>\n",
       "      <th>mass_flux</th>\n",
       "      <th>D_e</th>\n",
       "      <th>D_h</th>\n",
       "      <th>length</th>\n",
       "      <th>chf_exp</th>\n",
       "      <th>author_Beus</th>\n",
       "      <th>author_Inasaka</th>\n",
       "      <th>author_Janssen</th>\n",
       "      <th>author_Kossolapov</th>\n",
       "      <th>author_Mortimore</th>\n",
       "      <th>author_Peskov</th>\n",
       "      <th>author_Richenderfer</th>\n",
       "      <th>author_Thompson</th>\n",
       "      <th>author_Weatherhead</th>\n",
       "      <th>author_Williams</th>\n",
       "      <th>geometry_annulus</th>\n",
       "      <th>geometry_plate</th>\n",
       "      <th>geometry_tube</th>\n",
       "    </tr>\n",
       "  </thead>\n",
       "  <tbody>\n",
       "    <tr>\n",
       "      <th>0</th>\n",
       "      <td>13.790000</td>\n",
       "      <td>686.000000</td>\n",
       "      <td>11.100000</td>\n",
       "      <td>11.1</td>\n",
       "      <td>457.0</td>\n",
       "      <td>2.8</td>\n",
       "      <td>0</td>\n",
       "      <td>0</td>\n",
       "      <td>0</td>\n",
       "      <td>0</td>\n",
       "      <td>0</td>\n",
       "      <td>0</td>\n",
       "      <td>0</td>\n",
       "      <td>1</td>\n",
       "      <td>0</td>\n",
       "      <td>0</td>\n",
       "      <td>0</td>\n",
       "      <td>0</td>\n",
       "      <td>1</td>\n",
       "    </tr>\n",
       "    <tr>\n",
       "      <th>1</th>\n",
       "      <td>18.000000</td>\n",
       "      <td>750.000000</td>\n",
       "      <td>10.000000</td>\n",
       "      <td>10.0</td>\n",
       "      <td>1650.0</td>\n",
       "      <td>2.2</td>\n",
       "      <td>0</td>\n",
       "      <td>0</td>\n",
       "      <td>0</td>\n",
       "      <td>0</td>\n",
       "      <td>0</td>\n",
       "      <td>1</td>\n",
       "      <td>0</td>\n",
       "      <td>0</td>\n",
       "      <td>0</td>\n",
       "      <td>0</td>\n",
       "      <td>0</td>\n",
       "      <td>0</td>\n",
       "      <td>1</td>\n",
       "    </tr>\n",
       "    <tr>\n",
       "      <th>2</th>\n",
       "      <td>10.640747</td>\n",
       "      <td>3068.011023</td>\n",
       "      <td>1.900000</td>\n",
       "      <td>1.9</td>\n",
       "      <td>152.0</td>\n",
       "      <td>3.2</td>\n",
       "      <td>0</td>\n",
       "      <td>0</td>\n",
       "      <td>0</td>\n",
       "      <td>0</td>\n",
       "      <td>0</td>\n",
       "      <td>0</td>\n",
       "      <td>0</td>\n",
       "      <td>1</td>\n",
       "      <td>0</td>\n",
       "      <td>0</td>\n",
       "      <td>0</td>\n",
       "      <td>0</td>\n",
       "      <td>1</td>\n",
       "    </tr>\n",
       "    <tr>\n",
       "      <th>3</th>\n",
       "      <td>6.890000</td>\n",
       "      <td>7500.000000</td>\n",
       "      <td>8.629255</td>\n",
       "      <td>12.8</td>\n",
       "      <td>1930.0</td>\n",
       "      <td>4.8</td>\n",
       "      <td>0</td>\n",
       "      <td>0</td>\n",
       "      <td>0</td>\n",
       "      <td>0</td>\n",
       "      <td>0</td>\n",
       "      <td>0</td>\n",
       "      <td>0</td>\n",
       "      <td>1</td>\n",
       "      <td>0</td>\n",
       "      <td>0</td>\n",
       "      <td>0</td>\n",
       "      <td>0</td>\n",
       "      <td>1</td>\n",
       "    </tr>\n",
       "    <tr>\n",
       "      <th>4</th>\n",
       "      <td>15.510000</td>\n",
       "      <td>1355.000000</td>\n",
       "      <td>5.600000</td>\n",
       "      <td>15.2</td>\n",
       "      <td>2134.0</td>\n",
       "      <td>2.1</td>\n",
       "      <td>1</td>\n",
       "      <td>0</td>\n",
       "      <td>0</td>\n",
       "      <td>0</td>\n",
       "      <td>0</td>\n",
       "      <td>0</td>\n",
       "      <td>0</td>\n",
       "      <td>0</td>\n",
       "      <td>0</td>\n",
       "      <td>0</td>\n",
       "      <td>1</td>\n",
       "      <td>0</td>\n",
       "      <td>0</td>\n",
       "    </tr>\n",
       "  </tbody>\n",
       "</table>\n",
       "</div>"
      ],
      "text/plain": [
       "    pressure    mass_flux        D_e   D_h  length  chf_exp  author_Beus  \\\n",
       "0  13.790000   686.000000  11.100000  11.1   457.0      2.8            0   \n",
       "1  18.000000   750.000000  10.000000  10.0  1650.0      2.2            0   \n",
       "2  10.640747  3068.011023   1.900000   1.9   152.0      3.2            0   \n",
       "3   6.890000  7500.000000   8.629255  12.8  1930.0      4.8            0   \n",
       "4  15.510000  1355.000000   5.600000  15.2  2134.0      2.1            1   \n",
       "\n",
       "   author_Inasaka  author_Janssen  author_Kossolapov  author_Mortimore  \\\n",
       "0               0               0                  0                 0   \n",
       "1               0               0                  0                 0   \n",
       "2               0               0                  0                 0   \n",
       "3               0               0                  0                 0   \n",
       "4               0               0                  0                 0   \n",
       "\n",
       "   author_Peskov  author_Richenderfer  author_Thompson  author_Weatherhead  \\\n",
       "0              0                    0                1                   0   \n",
       "1              1                    0                0                   0   \n",
       "2              0                    0                1                   0   \n",
       "3              0                    0                1                   0   \n",
       "4              0                    0                0                   0   \n",
       "\n",
       "   author_Williams  geometry_annulus  geometry_plate  geometry_tube  \n",
       "0                0                 0               0              1  \n",
       "1                0                 0               0              1  \n",
       "2                0                 0               0              1  \n",
       "3                0                 0               0              1  \n",
       "4                0                 1               0              0  "
      ]
     },
     "execution_count": 20,
     "metadata": {},
     "output_type": "execute_result"
    }
   ],
   "source": [
    "df_test_data = df_test_data.drop(columns='x_e_out', axis=1)\n",
    "df_test_data = df_test_data.reset_index()\n",
    "df_test_data = df_test_data.drop('index', axis=1)\n",
    "df_test_data.head()"
   ]
  },
  {
   "cell_type": "code",
   "execution_count": 21,
   "id": "132f5d0b",
   "metadata": {
    "execution": {
     "iopub.execute_input": "2023-05-29T16:55:52.019452Z",
     "iopub.status.busy": "2023-05-29T16:55:52.019066Z",
     "iopub.status.idle": "2023-05-29T16:55:52.027239Z",
     "shell.execute_reply": "2023-05-29T16:55:52.025835Z"
    },
    "papermill": {
     "duration": 0.022498,
     "end_time": "2023-05-29T16:55:52.029433",
     "exception": false,
     "start_time": "2023-05-29T16:55:52.006935",
     "status": "completed"
    },
    "tags": []
   },
   "outputs": [],
   "source": [
    "X = df_train_data.drop(columns = 'x_e_out',axis=1)\n",
    "y = df_train_data['x_e_out']"
   ]
  },
  {
   "cell_type": "code",
   "execution_count": 22,
   "id": "776ca39c",
   "metadata": {
    "execution": {
     "iopub.execute_input": "2023-05-29T16:55:52.052332Z",
     "iopub.status.busy": "2023-05-29T16:55:52.051926Z",
     "iopub.status.idle": "2023-05-29T16:55:52.057618Z",
     "shell.execute_reply": "2023-05-29T16:55:52.056145Z"
    },
    "papermill": {
     "duration": 0.020008,
     "end_time": "2023-05-29T16:55:52.060199",
     "exception": false,
     "start_time": "2023-05-29T16:55:52.040191",
     "status": "completed"
    },
    "tags": []
   },
   "outputs": [],
   "source": [
    "params = {'colsample_bytree' : 0.8,  \n",
    "          'gamma' : 0.01, \n",
    "          'learning_rate' : 0.01, \n",
    "          'max_depth' : 5,  \n",
    "          'min_child_weight' : 50, \n",
    "          'n_estimators' : 1000, \n",
    "          'subsample' : 0.7}"
   ]
  },
  {
   "cell_type": "code",
   "execution_count": 23,
   "id": "5cd84fb2",
   "metadata": {
    "execution": {
     "iopub.execute_input": "2023-05-29T16:55:52.084140Z",
     "iopub.status.busy": "2023-05-29T16:55:52.083696Z",
     "iopub.status.idle": "2023-05-29T16:57:30.171417Z",
     "shell.execute_reply": "2023-05-29T16:57:30.170433Z"
    },
    "papermill": {
     "duration": 98.101906,
     "end_time": "2023-05-29T16:57:30.173405",
     "exception": false,
     "start_time": "2023-05-29T16:55:52.071499",
     "status": "completed"
    },
    "tags": []
   },
   "outputs": [
    {
     "name": "stdout",
     "output_type": "stream",
     "text": [
      "fold: 1 rmse xgb: 0.07674336173719133\n",
      "fold: 2 rmse xgb: 0.07571137618673736\n",
      "fold: 3 rmse xgb: 0.07318831303056739\n",
      "fold: 4 rmse xgb: 0.07574160808590204\n",
      "fold: 5 rmse xgb: 0.0749294518485237\n",
      "fold: 6 rmse xgb: 0.0731792787930007\n",
      "fold: 7 rmse xgb: 0.0731992093565595\n",
      "fold: 8 rmse xgb: 0.07306174171127816\n",
      "fold: 9 rmse xgb: 0.07279341415689007\n",
      "fold: 10 rmse xgb: 0.07378969007873658\n",
      "0.07423374449853869\n"
     ]
    }
   ],
   "source": [
    "kfold = KFold(n_splits=10, shuffle=True, random_state=0)\n",
    "pred_xgb_simple = np.zeros(df_test_data.shape[0])\n",
    "# pred_cat = np.zeros(test_df.shape[0])\n",
    "# pred_lgb = np.zeros(test_df.shape[0])\n",
    "rmse_xgb=[]  \n",
    "\n",
    "rmse = []# list contains rmse for each fold\n",
    "n=0\n",
    "\n",
    "for i, (train_index, valid_index) in enumerate(kfold.split(X, y)):\n",
    "    x_train, y_train = X.iloc[train_index], y.iloc[train_index]\n",
    "    x_valid, y_valid = X.loc[valid_index], y.iloc[valid_index]\n",
    "    \n",
    "    # XGBoost regressor\n",
    "    model_xgb = XGBRegressor(**params)\n",
    "    model_xgb.fit(x_train,y_train,eval_set=[(x_valid,y_valid)],early_stopping_rounds=100,verbose=False) \n",
    "    pred_xgb_simple+=model_xgb.predict(df_test_data)/kfold.n_splits\n",
    "    rmse_xgb.append(mean_squared_error(y_valid, model_xgb.predict(x_valid), squared=False))\n",
    "    \n",
    "#     # CatBoost regressor\n",
    "#     model_cat = cat.CatBoostRegressor(**cat_params)\n",
    "#     model_cat.fit(x_train,y_train,eval_set=[(x_valid,y_valid)],early_stopping_rounds=100,verbose=False) \n",
    "#     pred_cat+=model_cat.predict(test_df)/kfold.n_splits\n",
    "#     rmse_cat.append(mean_squared_error(y_valid, model_cat.predict(x_valid), squared=False))\n",
    "    \n",
    "    \n",
    "#     # LightGBM regressor\n",
    "#     model_lgb = LGBMRegressor(**study_lgbm.best_params)\n",
    "#     model_lgb.fit(x_train,y_train,eval_set=[(x_valid,y_valid)],early_stopping_rounds=100,verbose=False) \n",
    "#     pred_lgb+=model_lgb.predict(test_df)/kfold.n_splits\n",
    "#     rmse_lgb.append(mean_squared_error(y_valid, model_lgb.predict(x_valid), squared=False))\n",
    "    \n",
    "#     rmse_val = (rmse_xgb[n]+ rmse_cat[n]+ rmse_lgb[n]) / 3    \n",
    "#     rmse.append(rmse_val)\n",
    "    print(f\"fold: {n+1} rmse xgb: {rmse_xgb[n]}\")\n",
    "    n+=1\n",
    "\n",
    "print(np.mean(rmse_xgb))"
   ]
  },
  {
   "cell_type": "markdown",
   "id": "964d1cf0",
   "metadata": {
    "papermill": {
     "duration": 0.010451,
     "end_time": "2023-05-29T16:57:30.195473",
     "exception": false,
     "start_time": "2023-05-29T16:57:30.185022",
     "status": "completed"
    },
    "tags": []
   },
   "source": [
    "#### MICE Imputation"
   ]
  },
  {
   "cell_type": "code",
   "execution_count": 24,
   "id": "ad891692",
   "metadata": {
    "collapsed": true,
    "execution": {
     "iopub.execute_input": "2023-05-29T16:57:30.218382Z",
     "iopub.status.busy": "2023-05-29T16:57:30.218041Z",
     "iopub.status.idle": "2023-05-29T16:57:30.224833Z",
     "shell.execute_reply": "2023-05-29T16:57:30.223897Z"
    },
    "jupyter": {
     "outputs_hidden": true
    },
    "papermill": {
     "duration": 0.020459,
     "end_time": "2023-05-29T16:57:30.226653",
     "exception": false,
     "start_time": "2023-05-29T16:57:30.206194",
     "status": "completed"
    },
    "tags": []
   },
   "outputs": [],
   "source": [
    "df_train = df_train.drop('id', axis=1)"
   ]
  },
  {
   "cell_type": "code",
   "execution_count": 25,
   "id": "247d42c2",
   "metadata": {
    "execution": {
     "iopub.execute_input": "2023-05-29T16:57:30.250871Z",
     "iopub.status.busy": "2023-05-29T16:57:30.250217Z",
     "iopub.status.idle": "2023-05-29T16:57:30.268778Z",
     "shell.execute_reply": "2023-05-29T16:57:30.267926Z"
    },
    "papermill": {
     "duration": 0.033178,
     "end_time": "2023-05-29T16:57:30.271009",
     "exception": false,
     "start_time": "2023-05-29T16:57:30.237831",
     "status": "completed"
    },
    "tags": []
   },
   "outputs": [],
   "source": [
    "### encode the categoracal variables\n",
    "label_encoder = preprocessing.LabelEncoder()\n",
    "df_train['author'] = label_encoder.fit_transform(df['author'])\n",
    "df_train['geometry'] = label_encoder.fit_transform(df['geometry'])\n"
   ]
  },
  {
   "cell_type": "code",
   "execution_count": 26,
   "id": "c27d5066",
   "metadata": {
    "execution": {
     "iopub.execute_input": "2023-05-29T16:57:30.295783Z",
     "iopub.status.busy": "2023-05-29T16:57:30.295382Z",
     "iopub.status.idle": "2023-05-29T16:57:30.299738Z",
     "shell.execute_reply": "2023-05-29T16:57:30.298763Z"
    },
    "papermill": {
     "duration": 0.020014,
     "end_time": "2023-05-29T16:57:30.302432",
     "exception": false,
     "start_time": "2023-05-29T16:57:30.282418",
     "status": "completed"
    },
    "tags": []
   },
   "outputs": [],
   "source": [
    "### create the imputer instance\n",
    "\n",
    "imputer = IterativeImputer(random_state=100, max_iter=10)"
   ]
  },
  {
   "cell_type": "code",
   "execution_count": 27,
   "id": "0fb668ab",
   "metadata": {
    "execution": {
     "iopub.execute_input": "2023-05-29T16:57:30.327102Z",
     "iopub.status.busy": "2023-05-29T16:57:30.326713Z",
     "iopub.status.idle": "2023-05-29T16:57:31.593871Z",
     "shell.execute_reply": "2023-05-29T16:57:31.592854Z"
    },
    "papermill": {
     "duration": 1.282522,
     "end_time": "2023-05-29T16:57:31.596819",
     "exception": false,
     "start_time": "2023-05-29T16:57:30.314297",
     "status": "completed"
    },
    "tags": []
   },
   "outputs": [],
   "source": [
    "imputer.fit(df_train)\n",
    "df_mice = imputer.transform(df_train)"
   ]
  },
  {
   "cell_type": "code",
   "execution_count": 28,
   "id": "50a130ae",
   "metadata": {
    "execution": {
     "iopub.execute_input": "2023-05-29T16:57:31.629333Z",
     "iopub.status.busy": "2023-05-29T16:57:31.628975Z",
     "iopub.status.idle": "2023-05-29T16:57:31.637659Z",
     "shell.execute_reply": "2023-05-29T16:57:31.636876Z"
    },
    "papermill": {
     "duration": 0.027078,
     "end_time": "2023-05-29T16:57:31.640069",
     "exception": false,
     "start_time": "2023-05-29T16:57:31.612991",
     "status": "completed"
    },
    "tags": []
   },
   "outputs": [
    {
     "data": {
      "text/plain": [
       "array([[   7.        ,    2.        ,    7.        , ...,   10.8       ,\n",
       "         432.        ,    3.6       ],\n",
       "       [   7.        ,    2.        ,    7.87861191, ...,   10.3       ,\n",
       "         762.        ,    6.2       ],\n",
       "       [   7.        ,    3.        ,   13.79      , ...,    7.7       ,\n",
       "         457.        ,    2.5       ],\n",
       "       ...,\n",
       "       [   7.        ,    3.        ,   18.27      , ...,    3.        ,\n",
       "         150.        ,    2.3       ],\n",
       "       [   7.        ,    2.        ,    6.89      , ...,   23.6       ,\n",
       "        1972.        ,    3.7       ],\n",
       "       [  10.        ,    2.        ,    6.89      , ...,   12.8       ,\n",
       "        1930.        ,    3.3       ]])"
      ]
     },
     "execution_count": 28,
     "metadata": {},
     "output_type": "execute_result"
    }
   ],
   "source": [
    "df_mice"
   ]
  },
  {
   "cell_type": "code",
   "execution_count": 29,
   "id": "d438fcaa",
   "metadata": {
    "execution": {
     "iopub.execute_input": "2023-05-29T16:57:31.675346Z",
     "iopub.status.busy": "2023-05-29T16:57:31.674973Z",
     "iopub.status.idle": "2023-05-29T16:57:31.720988Z",
     "shell.execute_reply": "2023-05-29T16:57:31.720045Z"
    },
    "papermill": {
     "duration": 0.066779,
     "end_time": "2023-05-29T16:57:31.723194",
     "exception": false,
     "start_time": "2023-05-29T16:57:31.656415",
     "status": "completed"
    },
    "tags": []
   },
   "outputs": [],
   "source": [
    "df_train.loc[:, :] = df_mice"
   ]
  },
  {
   "cell_type": "code",
   "execution_count": 30,
   "id": "7f246a31",
   "metadata": {
    "execution": {
     "iopub.execute_input": "2023-05-29T16:57:31.746705Z",
     "iopub.status.busy": "2023-05-29T16:57:31.746371Z",
     "iopub.status.idle": "2023-05-29T16:57:31.755349Z",
     "shell.execute_reply": "2023-05-29T16:57:31.754529Z"
    },
    "papermill": {
     "duration": 0.02286,
     "end_time": "2023-05-29T16:57:31.757047",
     "exception": false,
     "start_time": "2023-05-29T16:57:31.734187",
     "status": "completed"
    },
    "tags": []
   },
   "outputs": [
    {
     "data": {
      "text/plain": [
       "author       0\n",
       "geometry     0\n",
       "pressure     0\n",
       "mass_flux    0\n",
       "D_e          0\n",
       "D_h          0\n",
       "length       0\n",
       "chf_exp      0\n",
       "dtype: int64"
      ]
     },
     "execution_count": 30,
     "metadata": {},
     "output_type": "execute_result"
    }
   ],
   "source": [
    "df_train.isnull().sum()"
   ]
  },
  {
   "cell_type": "code",
   "execution_count": 31,
   "id": "fba92f51",
   "metadata": {
    "execution": {
     "iopub.execute_input": "2023-05-29T16:57:31.781719Z",
     "iopub.status.busy": "2023-05-29T16:57:31.781106Z",
     "iopub.status.idle": "2023-05-29T16:57:31.802819Z",
     "shell.execute_reply": "2023-05-29T16:57:31.801834Z"
    },
    "papermill": {
     "duration": 0.036684,
     "end_time": "2023-05-29T16:57:31.805017",
     "exception": false,
     "start_time": "2023-05-29T16:57:31.768333",
     "status": "completed"
    },
    "tags": []
   },
   "outputs": [],
   "source": [
    "\n",
    "df_final_mice  = df_train.copy()\n",
    "df_final_mice['x_e_out'] = df['x_e_out']\n",
    "df_final_mice['x_e_out'].isnull()\n",
    "df_final_mice = pd.get_dummies(df_final_mice, columns=['author', 'geometry'])\n",
    "df_train_data_mice = df_final_mice[~df_final_mice['x_e_out'].isna()]\n",
    "df_test_data_mice = df_final_mice[df_final_mice['x_e_out'].isna()]\n",
    "df_train_data_mice = df_train_data_mice.reset_index()\n",
    "df_train_data_mice = df_train_data_mice.drop('index', axis=1)"
   ]
  },
  {
   "cell_type": "code",
   "execution_count": 32,
   "id": "8f7c096f",
   "metadata": {
    "execution": {
     "iopub.execute_input": "2023-05-29T16:57:31.828541Z",
     "iopub.status.busy": "2023-05-29T16:57:31.828221Z",
     "iopub.status.idle": "2023-05-29T16:57:31.851917Z",
     "shell.execute_reply": "2023-05-29T16:57:31.850536Z"
    },
    "papermill": {
     "duration": 0.038297,
     "end_time": "2023-05-29T16:57:31.854447",
     "exception": false,
     "start_time": "2023-05-29T16:57:31.816150",
     "status": "completed"
    },
    "tags": []
   },
   "outputs": [
    {
     "data": {
      "text/html": [
       "<div>\n",
       "<style scoped>\n",
       "    .dataframe tbody tr th:only-of-type {\n",
       "        vertical-align: middle;\n",
       "    }\n",
       "\n",
       "    .dataframe tbody tr th {\n",
       "        vertical-align: top;\n",
       "    }\n",
       "\n",
       "    .dataframe thead th {\n",
       "        text-align: right;\n",
       "    }\n",
       "</style>\n",
       "<table border=\"1\" class=\"dataframe\">\n",
       "  <thead>\n",
       "    <tr style=\"text-align: right;\">\n",
       "      <th></th>\n",
       "      <th>pressure</th>\n",
       "      <th>mass_flux</th>\n",
       "      <th>D_e</th>\n",
       "      <th>D_h</th>\n",
       "      <th>length</th>\n",
       "      <th>chf_exp</th>\n",
       "      <th>author_0.0</th>\n",
       "      <th>author_1.0</th>\n",
       "      <th>author_2.0</th>\n",
       "      <th>author_3.0</th>\n",
       "      <th>...</th>\n",
       "      <th>author_5.0</th>\n",
       "      <th>author_6.0</th>\n",
       "      <th>author_7.0</th>\n",
       "      <th>author_8.0</th>\n",
       "      <th>author_9.0</th>\n",
       "      <th>author_10.0</th>\n",
       "      <th>geometry_0.0</th>\n",
       "      <th>geometry_1.0</th>\n",
       "      <th>geometry_2.0</th>\n",
       "      <th>geometry_3.0</th>\n",
       "    </tr>\n",
       "  </thead>\n",
       "  <tbody>\n",
       "    <tr>\n",
       "      <th>0</th>\n",
       "      <td>13.790000</td>\n",
       "      <td>686.000000</td>\n",
       "      <td>11.100000</td>\n",
       "      <td>11.1</td>\n",
       "      <td>457.0</td>\n",
       "      <td>2.8</td>\n",
       "      <td>0</td>\n",
       "      <td>0</td>\n",
       "      <td>0</td>\n",
       "      <td>0</td>\n",
       "      <td>...</td>\n",
       "      <td>0</td>\n",
       "      <td>0</td>\n",
       "      <td>0</td>\n",
       "      <td>0</td>\n",
       "      <td>0</td>\n",
       "      <td>1</td>\n",
       "      <td>0</td>\n",
       "      <td>0</td>\n",
       "      <td>1</td>\n",
       "      <td>0</td>\n",
       "    </tr>\n",
       "    <tr>\n",
       "      <th>1</th>\n",
       "      <td>18.000000</td>\n",
       "      <td>750.000000</td>\n",
       "      <td>10.000000</td>\n",
       "      <td>10.0</td>\n",
       "      <td>1650.0</td>\n",
       "      <td>2.2</td>\n",
       "      <td>0</td>\n",
       "      <td>0</td>\n",
       "      <td>0</td>\n",
       "      <td>0</td>\n",
       "      <td>...</td>\n",
       "      <td>1</td>\n",
       "      <td>0</td>\n",
       "      <td>0</td>\n",
       "      <td>0</td>\n",
       "      <td>0</td>\n",
       "      <td>0</td>\n",
       "      <td>0</td>\n",
       "      <td>0</td>\n",
       "      <td>1</td>\n",
       "      <td>0</td>\n",
       "    </tr>\n",
       "    <tr>\n",
       "      <th>2</th>\n",
       "      <td>13.689635</td>\n",
       "      <td>2829.407261</td>\n",
       "      <td>1.900000</td>\n",
       "      <td>1.9</td>\n",
       "      <td>152.0</td>\n",
       "      <td>3.2</td>\n",
       "      <td>0</td>\n",
       "      <td>0</td>\n",
       "      <td>0</td>\n",
       "      <td>0</td>\n",
       "      <td>...</td>\n",
       "      <td>0</td>\n",
       "      <td>0</td>\n",
       "      <td>1</td>\n",
       "      <td>0</td>\n",
       "      <td>0</td>\n",
       "      <td>0</td>\n",
       "      <td>0</td>\n",
       "      <td>0</td>\n",
       "      <td>1</td>\n",
       "      <td>0</td>\n",
       "    </tr>\n",
       "    <tr>\n",
       "      <th>3</th>\n",
       "      <td>6.890000</td>\n",
       "      <td>7500.000000</td>\n",
       "      <td>15.727711</td>\n",
       "      <td>12.8</td>\n",
       "      <td>1930.0</td>\n",
       "      <td>4.8</td>\n",
       "      <td>0</td>\n",
       "      <td>0</td>\n",
       "      <td>0</td>\n",
       "      <td>0</td>\n",
       "      <td>...</td>\n",
       "      <td>0</td>\n",
       "      <td>0</td>\n",
       "      <td>1</td>\n",
       "      <td>0</td>\n",
       "      <td>0</td>\n",
       "      <td>0</td>\n",
       "      <td>0</td>\n",
       "      <td>0</td>\n",
       "      <td>0</td>\n",
       "      <td>1</td>\n",
       "    </tr>\n",
       "    <tr>\n",
       "      <th>4</th>\n",
       "      <td>15.510000</td>\n",
       "      <td>1355.000000</td>\n",
       "      <td>5.600000</td>\n",
       "      <td>15.2</td>\n",
       "      <td>2134.0</td>\n",
       "      <td>2.1</td>\n",
       "      <td>1</td>\n",
       "      <td>0</td>\n",
       "      <td>0</td>\n",
       "      <td>0</td>\n",
       "      <td>...</td>\n",
       "      <td>0</td>\n",
       "      <td>0</td>\n",
       "      <td>0</td>\n",
       "      <td>0</td>\n",
       "      <td>0</td>\n",
       "      <td>0</td>\n",
       "      <td>1</td>\n",
       "      <td>0</td>\n",
       "      <td>0</td>\n",
       "      <td>0</td>\n",
       "    </tr>\n",
       "  </tbody>\n",
       "</table>\n",
       "<p>5 rows × 21 columns</p>\n",
       "</div>"
      ],
      "text/plain": [
       "    pressure    mass_flux        D_e   D_h  length  chf_exp  author_0.0  \\\n",
       "0  13.790000   686.000000  11.100000  11.1   457.0      2.8           0   \n",
       "1  18.000000   750.000000  10.000000  10.0  1650.0      2.2           0   \n",
       "2  13.689635  2829.407261   1.900000   1.9   152.0      3.2           0   \n",
       "3   6.890000  7500.000000  15.727711  12.8  1930.0      4.8           0   \n",
       "4  15.510000  1355.000000   5.600000  15.2  2134.0      2.1           1   \n",
       "\n",
       "   author_1.0  author_2.0  author_3.0  ...  author_5.0  author_6.0  \\\n",
       "0           0           0           0  ...           0           0   \n",
       "1           0           0           0  ...           1           0   \n",
       "2           0           0           0  ...           0           0   \n",
       "3           0           0           0  ...           0           0   \n",
       "4           0           0           0  ...           0           0   \n",
       "\n",
       "   author_7.0  author_8.0  author_9.0  author_10.0  geometry_0.0  \\\n",
       "0           0           0           0            1             0   \n",
       "1           0           0           0            0             0   \n",
       "2           1           0           0            0             0   \n",
       "3           1           0           0            0             0   \n",
       "4           0           0           0            0             1   \n",
       "\n",
       "   geometry_1.0  geometry_2.0  geometry_3.0  \n",
       "0             0             1             0  \n",
       "1             0             1             0  \n",
       "2             0             1             0  \n",
       "3             0             0             1  \n",
       "4             0             0             0  \n",
       "\n",
       "[5 rows x 21 columns]"
      ]
     },
     "execution_count": 32,
     "metadata": {},
     "output_type": "execute_result"
    }
   ],
   "source": [
    "df_test_data_mice = df_test_data_mice.drop(columns='x_e_out', axis=1)\n",
    "df_test_data_mice = df_test_data_mice.reset_index()\n",
    "df_test_data_mice = df_test_data_mice.drop('index', axis=1)\n",
    "df_test_data_mice.head()"
   ]
  },
  {
   "cell_type": "code",
   "execution_count": 33,
   "id": "8cc68f19",
   "metadata": {
    "execution": {
     "iopub.execute_input": "2023-05-29T16:57:31.878882Z",
     "iopub.status.busy": "2023-05-29T16:57:31.878487Z",
     "iopub.status.idle": "2023-05-29T16:57:31.884387Z",
     "shell.execute_reply": "2023-05-29T16:57:31.883503Z"
    },
    "papermill": {
     "duration": 0.020804,
     "end_time": "2023-05-29T16:57:31.886708",
     "exception": false,
     "start_time": "2023-05-29T16:57:31.865904",
     "status": "completed"
    },
    "tags": []
   },
   "outputs": [],
   "source": [
    "X = df_train_data_mice.drop(columns = 'x_e_out',axis=1)\n",
    "y = df_train_data_mice['x_e_out']"
   ]
  },
  {
   "cell_type": "code",
   "execution_count": 34,
   "id": "0e51abd1",
   "metadata": {
    "execution": {
     "iopub.execute_input": "2023-05-29T16:57:31.912090Z",
     "iopub.status.busy": "2023-05-29T16:57:31.911188Z",
     "iopub.status.idle": "2023-05-29T16:59:14.940150Z",
     "shell.execute_reply": "2023-05-29T16:59:14.939354Z"
    },
    "papermill": {
     "duration": 103.043706,
     "end_time": "2023-05-29T16:59:14.942061",
     "exception": false,
     "start_time": "2023-05-29T16:57:31.898355",
     "status": "completed"
    },
    "tags": []
   },
   "outputs": [
    {
     "name": "stdout",
     "output_type": "stream",
     "text": [
      "fold: 1 rmse xgb: 0.07685814984671106\n",
      "fold: 2 rmse xgb: 0.07603496315419228\n",
      "fold: 3 rmse xgb: 0.07345786198944831\n",
      "fold: 4 rmse xgb: 0.07598536638250696\n",
      "fold: 5 rmse xgb: 0.0752338129683224\n",
      "fold: 6 rmse xgb: 0.07347969354558967\n",
      "fold: 7 rmse xgb: 0.07337202001418554\n",
      "fold: 8 rmse xgb: 0.07327834234645629\n",
      "fold: 9 rmse xgb: 0.07305776393036915\n",
      "fold: 10 rmse xgb: 0.07383310597019205\n",
      "0.07445910801479735\n"
     ]
    }
   ],
   "source": [
    "kfold = KFold(n_splits=10, shuffle=True, random_state=0)\n",
    "pred_xgb = np.zeros(df_test_data_mice.shape[0])\n",
    "# pred_cat = np.zeros(test_df.shape[0])\n",
    "# pred_lgb = np.zeros(test_df.shape[0])\n",
    "rmse_xgb=[]  \n",
    "\n",
    "rmse = []# list contains rmse for each fold\n",
    "n=0\n",
    "\n",
    "for i, (train_index, valid_index) in enumerate(kfold.split(X, y)):\n",
    "    x_train, y_train = X.iloc[train_index], y.iloc[train_index]\n",
    "    x_valid, y_valid = X.loc[valid_index], y.iloc[valid_index]\n",
    "    \n",
    "    # XGBoost regressor\n",
    "    model_xgb = XGBRegressor(**params)\n",
    "    model_xgb.fit(x_train,y_train,eval_set=[(x_valid,y_valid)],early_stopping_rounds=100,verbose=False) \n",
    "    pred_xgb+=model_xgb.predict(df_test_data_mice)/kfold.n_splits\n",
    "    rmse_xgb.append(mean_squared_error(y_valid, model_xgb.predict(x_valid), squared=False))\n",
    "    \n",
    "\n",
    "    print(f\"fold: {n+1} rmse xgb: {rmse_xgb[n]}\")\n",
    "    n+=1\n",
    "\n",
    "print(np.mean(rmse_xgb))"
   ]
  },
  {
   "cell_type": "markdown",
   "id": "85847321",
   "metadata": {
    "papermill": {
     "duration": 0.013408,
     "end_time": "2023-05-29T16:59:14.967773",
     "exception": false,
     "start_time": "2023-05-29T16:59:14.954365",
     "status": "completed"
    },
    "tags": []
   },
   "source": [
    "### Add the submission"
   ]
  },
  {
   "cell_type": "code",
   "execution_count": 35,
   "id": "86739867",
   "metadata": {
    "execution": {
     "iopub.execute_input": "2023-05-29T16:59:14.995708Z",
     "iopub.status.busy": "2023-05-29T16:59:14.994875Z",
     "iopub.status.idle": "2023-05-29T16:59:15.019109Z",
     "shell.execute_reply": "2023-05-29T16:59:15.017575Z"
    },
    "papermill": {
     "duration": 0.041103,
     "end_time": "2023-05-29T16:59:15.021972",
     "exception": false,
     "start_time": "2023-05-29T16:59:14.980869",
     "status": "completed"
    },
    "tags": []
   },
   "outputs": [
    {
     "data": {
      "text/html": [
       "<div>\n",
       "<style scoped>\n",
       "    .dataframe tbody tr th:only-of-type {\n",
       "        vertical-align: middle;\n",
       "    }\n",
       "\n",
       "    .dataframe tbody tr th {\n",
       "        vertical-align: top;\n",
       "    }\n",
       "\n",
       "    .dataframe thead th {\n",
       "        text-align: right;\n",
       "    }\n",
       "</style>\n",
       "<table border=\"1\" class=\"dataframe\">\n",
       "  <thead>\n",
       "    <tr style=\"text-align: right;\">\n",
       "      <th></th>\n",
       "      <th>id</th>\n",
       "      <th>x_e_out [-]</th>\n",
       "    </tr>\n",
       "  </thead>\n",
       "  <tbody>\n",
       "    <tr>\n",
       "      <th>0</th>\n",
       "      <td>4</td>\n",
       "      <td>0.0</td>\n",
       "    </tr>\n",
       "    <tr>\n",
       "      <th>1</th>\n",
       "      <td>7</td>\n",
       "      <td>0.0</td>\n",
       "    </tr>\n",
       "    <tr>\n",
       "      <th>2</th>\n",
       "      <td>10</td>\n",
       "      <td>0.0</td>\n",
       "    </tr>\n",
       "    <tr>\n",
       "      <th>3</th>\n",
       "      <td>12</td>\n",
       "      <td>0.0</td>\n",
       "    </tr>\n",
       "    <tr>\n",
       "      <th>4</th>\n",
       "      <td>23</td>\n",
       "      <td>0.0</td>\n",
       "    </tr>\n",
       "  </tbody>\n",
       "</table>\n",
       "</div>"
      ],
      "text/plain": [
       "   id  x_e_out [-]\n",
       "0   4          0.0\n",
       "1   7          0.0\n",
       "2  10          0.0\n",
       "3  12          0.0\n",
       "4  23          0.0"
      ]
     },
     "execution_count": 35,
     "metadata": {},
     "output_type": "execute_result"
    }
   ],
   "source": [
    "submission = pd.read_csv('/kaggle/input/playground-series-s3e15/sample_submission.csv')\n",
    "submission.head()"
   ]
  },
  {
   "cell_type": "code",
   "execution_count": 36,
   "id": "139a5a6d",
   "metadata": {
    "execution": {
     "iopub.execute_input": "2023-05-29T16:59:15.052173Z",
     "iopub.status.busy": "2023-05-29T16:59:15.051814Z",
     "iopub.status.idle": "2023-05-29T16:59:15.057907Z",
     "shell.execute_reply": "2023-05-29T16:59:15.055991Z"
    },
    "papermill": {
     "duration": 0.024853,
     "end_time": "2023-05-29T16:59:15.060982",
     "exception": false,
     "start_time": "2023-05-29T16:59:15.036129",
     "status": "completed"
    },
    "tags": []
   },
   "outputs": [],
   "source": [
    "submission['x_e_out [-]'] = pred_xgb"
   ]
  },
  {
   "cell_type": "code",
   "execution_count": 37,
   "id": "0b9a5542",
   "metadata": {
    "execution": {
     "iopub.execute_input": "2023-05-29T16:59:15.089888Z",
     "iopub.status.busy": "2023-05-29T16:59:15.088781Z",
     "iopub.status.idle": "2023-05-29T16:59:15.122062Z",
     "shell.execute_reply": "2023-05-29T16:59:15.120566Z"
    },
    "papermill": {
     "duration": 0.051019,
     "end_time": "2023-05-29T16:59:15.124583",
     "exception": false,
     "start_time": "2023-05-29T16:59:15.073564",
     "status": "completed"
    },
    "tags": []
   },
   "outputs": [],
   "source": [
    "submission.to_csv('submission.csv', index=False)"
   ]
  }
 ],
 "metadata": {
  "kernelspec": {
   "display_name": "Python 3",
   "language": "python",
   "name": "python3"
  },
  "language_info": {
   "codemirror_mode": {
    "name": "ipython",
    "version": 3
   },
   "file_extension": ".py",
   "mimetype": "text/x-python",
   "name": "python",
   "nbconvert_exporter": "python",
   "pygments_lexer": "ipython3",
   "version": "3.10.10"
  },
  "papermill": {
   "default_parameters": {},
   "duration": 222.920647,
   "end_time": "2023-05-29T16:59:16.362574",
   "environment_variables": {},
   "exception": null,
   "input_path": "__notebook__.ipynb",
   "output_path": "__notebook__.ipynb",
   "parameters": {},
   "start_time": "2023-05-29T16:55:33.441927",
   "version": "2.4.0"
  }
 },
 "nbformat": 4,
 "nbformat_minor": 5
}
